{
 "cells": [
  {
   "cell_type": "code",
   "execution_count": 2,
   "metadata": {},
   "outputs": [],
   "source": [
    "import os\n",
    "import pathlib"
   ]
  },
  {
   "cell_type": "code",
   "execution_count": 8,
   "metadata": {},
   "outputs": [],
   "source": [
    "test_path = \"aaa/bbb/\"\n",
    "# test_path = \"aaa/bbb/ccc\"\n",
    "# test_path = \"aaa/bbb/ccc/d\"\n",
    "\n",
    "asd = pathlib.Path(test_path)"
   ]
  },
  {
   "cell_type": "code",
   "execution_count": 9,
   "metadata": {},
   "outputs": [
    {
     "data": {
      "text/plain": [
       "True"
      ]
     },
     "execution_count": 9,
     "metadata": {},
     "output_type": "execute_result"
    }
   ],
   "source": [
    "asd.is_dir()"
   ]
  },
  {
   "cell_type": "code",
   "execution_count": 10,
   "metadata": {},
   "outputs": [
    {
     "data": {
      "text/plain": [
       "True"
      ]
     },
     "execution_count": 10,
     "metadata": {},
     "output_type": "execute_result"
    }
   ],
   "source": [
    "(asd/\"ccc\").exists()\n"
   ]
  },
  {
   "cell_type": "code",
   "execution_count": 11,
   "metadata": {},
   "outputs": [
    {
     "data": {
      "text/plain": [
       "'aaa/bbb'"
      ]
     },
     "execution_count": 11,
     "metadata": {},
     "output_type": "execute_result"
    }
   ],
   "source": [
    "str(asd)"
   ]
  },
  {
   "cell_type": "code",
   "execution_count": 39,
   "metadata": {},
   "outputs": [
    {
     "ename": "AssertionError",
     "evalue": "Path aaa/bbb/ccc/d does not exist",
     "output_type": "error",
     "traceback": [
      "\u001b[0;31m---------------------------------------------------------------------------\u001b[0m",
      "\u001b[0;31mAssertionError\u001b[0m                            Traceback (most recent call last)",
      "Cell \u001b[0;32mIn[39], line 1\u001b[0m\n\u001b[0;32m----> 1\u001b[0m \u001b[38;5;28;01massert\u001b[39;00m os\u001b[38;5;241m.\u001b[39mpath\u001b[38;5;241m.\u001b[39mexists(asd), \u001b[38;5;124mf\u001b[39m\u001b[38;5;124m\"\u001b[39m\u001b[38;5;124mPath \u001b[39m\u001b[38;5;132;01m{\u001b[39;00masd\u001b[38;5;132;01m}\u001b[39;00m\u001b[38;5;124m does not exist\u001b[39m\u001b[38;5;124m\"\u001b[39m\n",
      "\u001b[0;31mAssertionError\u001b[0m: Path aaa/bbb/ccc/d does not exist"
     ]
    }
   ],
   "source": [
    "\n",
    "assert os.path.exists(asd), f\"Path {asd} does not exist\""
   ]
  },
  {
   "cell_type": "code",
   "execution_count": null,
   "metadata": {},
   "outputs": [],
   "source": [
    "\n",
    "# def get_job_runtime_scontrol(job_id):\n",
    "import subprocess\n",
    "import os\n",
    "try:\n",
    "    env=os.environ.copy()\n",
    "    result = subprocess.run(\n",
    "        ['scontrol', 'show', 'job', env['SLURM_JOBID']],\n",
    "        capture_output=True, text=True, check=True\n",
    "    )\n",
    "    output = result.stdout.splitlines()\n",
    "    for line in output:\n",
    "        if 'RunTime=' in line:\n",
    "            # Extract the runtime\n",
    "            runtime = line.split('RunTime=')[1].split()[0]\n",
    "except subprocess.CalledProcessError as e:\n",
    "    print(f\"Error executing scontrol: {e}\")\n"
   ]
  },
  {
   "cell_type": "code",
   "execution_count": null,
   "metadata": {},
   "outputs": [],
   "source": [
    "res = 'JobId=6222 JobName=bash\\n   UserId=ubuntu(1000) GroupId=ubuntu(1000) MCS_label=N/A\\n   Priority=1 Nice=0 Account=(null) QOS=(null)\\n   JobState=RUNNING Reason=None Dependency=(null)\\n   Requeue=1 Restarts=0 BatchFlag=0 Reboot=0 ExitCode=0:0\\n   RunTime=00:20:49 TimeLimit=UNLIMITED TimeMin=N/A\\n   SubmitTime=2024-09-10T10:51:20 EligibleTime=2024-09-10T10:51:20\\n   AccrueTime=Unknown\\n   StartTime=2024-09-10T10:51:20 EndTime=2024-09-10T10:51:20 Deadline=N/A\\n   SuspendTime=None SecsPreSuspend=0 LastSchedEval=2024-09-10T10:51:20 Scheduler=Main\\n   Partition=debug AllocNode:Sid=164-152-24-115:2747201\\n   ReqNodeList=(null) ExcNodeList=(null)\\n   NodeList=164-152-24-115\\n   BatchHost=164-152-24-115\\n   NumNodes=1 NumCPUs=1 NumTasks=1 CPUs/Task=1 ReqB:S:C:T=0:0:*:*\\n   ReqTRES=cpu=1,mem=1814217M,node=1,billing=1\\n   AllocTRES=cpu=1,node=1,billing=1\\n   Socks/Node=* NtasksPerN:B:S:C=0:0:*:* CoreSpec=*\\n   MinCPUsNode=1 MinMemoryNode=0 MinTmpDiskNode=0\\n   Features=(null) DelayBoot=00:00:00\\n   OverSubscribe=OK Contiguous=0 Licenses=(null) Network=(null)\\n   Command=bash\\n   WorkDir=/home/ubuntu/llm-random-group/llm-random-cemetery/test_checkpoint_saving_4gpu_bs1024_2024-09-07_00-03-12/test_saving/rzckmcczmb\\n   Power=\\n   \\n\\n'\n",
    "print(res)"
   ]
  },
  {
   "cell_type": "code",
   "execution_count": null,
   "metadata": {},
   "outputs": [],
   "source": [
    "from datetime import datetime\n",
    "\n",
    "\n",
    "def stdout_get_end_time(stdout):\n",
    "    param_k = \"EndTime=\"\n",
    "    for param in [e for e in stdout.replace('\\n', ' ').split(' ') if e!='']:\n",
    "        if param_k in param:\n",
    "            val = param.replace(param_k, '')\n",
    "            date_format = '%Y-%m-%dT%H:%M:%S'\n",
    "            date_obj = datetime.strptime(val, date_format)\n",
    "            print(date_obj)\n",
    "            \n",
    "stdout_get_end_time(res)"
   ]
  }
 ],
 "metadata": {
  "kernelspec": {
   "display_name": "llmrandom",
   "language": "python",
   "name": "python3"
  },
  "language_info": {
   "codemirror_mode": {
    "name": "ipython",
    "version": 3
   },
   "file_extension": ".py",
   "mimetype": "text/x-python",
   "name": "python",
   "nbconvert_exporter": "python",
   "pygments_lexer": "ipython3",
   "version": "3.9.19"
  }
 },
 "nbformat": 4,
 "nbformat_minor": 2
}
