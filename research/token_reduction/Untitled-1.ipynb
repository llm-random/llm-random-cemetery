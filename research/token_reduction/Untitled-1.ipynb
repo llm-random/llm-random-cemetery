{
 "cells": [
  {
   "cell_type": "code",
   "execution_count": 61,
   "metadata": {},
   "outputs": [],
   "source": [
    "import random\n",
    "\n",
    "\n",
    "def select_non_contiguous_indexes(n, available_indexes: list):\n",
    "    \"\"\"\n",
    "    Select n non-contiguous indexes from a list of available indexes.\n",
    "    \"\"\"\n",
    "\n",
    "    if len(available_indexes) != len(set(available_indexes)):\n",
    "        raise ValueError(\"Available indexes must be unique.\")\n",
    "\n",
    "    if not available_indexes:\n",
    "        raise ValueError(\"Available indexes must not be empty.\")\n",
    "\n",
    "    selected = []\n",
    "    while len(selected) < n and available_indexes:\n",
    "        selected_element = random.choice(available_indexes)\n",
    "        selected.append(selected_element)\n",
    "\n",
    "        # Update the available list to maintain the non-contiguity constraint\n",
    "        new_available = []\n",
    "        for element in available_indexes:\n",
    "            if abs(selected_element - element) > 1:\n",
    "                new_available.append(element)\n",
    "        available_indexes = new_available\n",
    "\n",
    "    if len(selected) < n:\n",
    "        raise ValueError(\"Not enough non-contiguous indexes available.\")\n",
    "\n",
    "    return selected"
   ]
  },
  {
   "cell_type": "code",
   "execution_count": 71,
   "metadata": {},
   "outputs": [
    {
     "ename": "ValueError",
     "evalue": "Not enough non-contiguous indexes available.",
     "output_type": "error",
     "traceback": [
      "\u001b[0;31m---------------------------------------------------------------------------\u001b[0m",
      "\u001b[0;31mValueError\u001b[0m                                Traceback (most recent call last)",
      "Cell \u001b[0;32mIn[71], line 1\u001b[0m\n\u001b[0;32m----> 1\u001b[0m \u001b[43mselect_non_contiguous_indexes\u001b[49m\u001b[43m(\u001b[49m\u001b[38;5;241;43m3\u001b[39;49m\u001b[43m,\u001b[49m\u001b[43m \u001b[49m\u001b[43m[\u001b[49m\u001b[38;5;241;43m1\u001b[39;49m\u001b[43m,\u001b[49m\u001b[43m \u001b[49m\u001b[38;5;241;43m5\u001b[39;49m\u001b[43m,\u001b[49m\u001b[43m \u001b[49m\u001b[38;5;241;43m6\u001b[39;49m\u001b[43m,\u001b[49m\u001b[43m \u001b[49m\u001b[38;5;241;43m7\u001b[39;49m\u001b[43m]\u001b[49m\u001b[43m)\u001b[49m\n",
      "Cell \u001b[0;32mIn[61], line 28\u001b[0m, in \u001b[0;36mselect_non_contiguous_indexes\u001b[0;34m(n, available_indexes)\u001b[0m\n\u001b[1;32m     25\u001b[0m     available_indexes \u001b[38;5;241m=\u001b[39m new_available\n\u001b[1;32m     27\u001b[0m \u001b[38;5;28;01mif\u001b[39;00m \u001b[38;5;28mlen\u001b[39m(selected) \u001b[38;5;241m<\u001b[39m n:\n\u001b[0;32m---> 28\u001b[0m     \u001b[38;5;28;01mraise\u001b[39;00m \u001b[38;5;167;01mValueError\u001b[39;00m(\u001b[38;5;124m\"\u001b[39m\u001b[38;5;124mNot enough non-contiguous indexes available.\u001b[39m\u001b[38;5;124m\"\u001b[39m)\n\u001b[1;32m     30\u001b[0m \u001b[38;5;28;01mreturn\u001b[39;00m selected\n",
      "\u001b[0;31mValueError\u001b[0m: Not enough non-contiguous indexes available."
     ]
    }
   ],
   "source": [
    "select_non_contiguous_indexes(3, [1, 5, 6, 7])"
   ]
  },
  {
   "cell_type": "code",
   "execution_count": 22,
   "metadata": {},
   "outputs": [
    {
     "ename": "ValueError",
     "evalue": "Available indexes must not be empty.",
     "output_type": "error",
     "traceback": [
      "\u001b[0;31m---------------------------------------------------------------------------\u001b[0m",
      "\u001b[0;31mValueError\u001b[0m                                Traceback (most recent call last)",
      "Cell \u001b[0;32mIn[22], line 1\u001b[0m\n\u001b[0;32m----> 1\u001b[0m \u001b[43mselect_non_contiguous_indexes\u001b[49m\u001b[43m(\u001b[49m\u001b[38;5;241;43m3\u001b[39;49m\u001b[43m,\u001b[49m\u001b[43m \u001b[49m\u001b[43m[\u001b[49m\u001b[43m]\u001b[49m\u001b[43m)\u001b[49m\n",
      "Cell \u001b[0;32mIn[19], line 20\u001b[0m, in \u001b[0;36mselect_non_contiguous_indexes\u001b[0;34m(n, available_indexes)\u001b[0m\n\u001b[1;32m     17\u001b[0m     \u001b[38;5;28;01mraise\u001b[39;00m \u001b[38;5;167;01mValueError\u001b[39;00m(\u001b[38;5;124m\"\u001b[39m\u001b[38;5;124mAvailable indexes must be unique.\u001b[39m\u001b[38;5;124m\"\u001b[39m)\n\u001b[1;32m     19\u001b[0m \u001b[38;5;28;01mif\u001b[39;00m \u001b[38;5;129;01mnot\u001b[39;00m available_indexes:\n\u001b[0;32m---> 20\u001b[0m     \u001b[38;5;28;01mraise\u001b[39;00m \u001b[38;5;167;01mValueError\u001b[39;00m(\u001b[38;5;124m\"\u001b[39m\u001b[38;5;124mAvailable indexes must not be empty.\u001b[39m\u001b[38;5;124m\"\u001b[39m)\n\u001b[1;32m     22\u001b[0m selected \u001b[38;5;241m=\u001b[39m []\n\u001b[1;32m     23\u001b[0m \u001b[38;5;28;01mwhile\u001b[39;00m \u001b[38;5;28mlen\u001b[39m(selected) \u001b[38;5;241m<\u001b[39m n \u001b[38;5;129;01mand\u001b[39;00m available_indexes:\n",
      "\u001b[0;31mValueError\u001b[0m: Available indexes must not be empty."
     ]
    }
   ],
   "source": [
    "select_non_contiguous_indexes(3, [])"
   ]
  },
  {
   "cell_type": "code",
   "execution_count": 21,
   "metadata": {},
   "outputs": [
    {
     "ename": "ValueError",
     "evalue": "Available indexes must be unique.",
     "output_type": "error",
     "traceback": [
      "\u001b[0;31m---------------------------------------------------------------------------\u001b[0m",
      "\u001b[0;31mValueError\u001b[0m                                Traceback (most recent call last)",
      "Cell \u001b[0;32mIn[21], line 1\u001b[0m\n\u001b[0;32m----> 1\u001b[0m \u001b[43mselect_non_contiguous_indexes\u001b[49m\u001b[43m(\u001b[49m\u001b[38;5;241;43m3\u001b[39;49m\u001b[43m,\u001b[49m\u001b[43m \u001b[49m\u001b[43m[\u001b[49m\u001b[38;5;241;43m1\u001b[39;49m\u001b[43m,\u001b[49m\u001b[38;5;241;43m2\u001b[39;49m\u001b[43m,\u001b[49m\u001b[38;5;241;43m4\u001b[39;49m\u001b[43m,\u001b[49m\u001b[38;5;241;43m5\u001b[39;49m\u001b[43m,\u001b[49m\u001b[38;5;241;43m6\u001b[39;49m\u001b[43m,\u001b[49m\u001b[38;5;241;43m1\u001b[39;49m\u001b[43m]\u001b[49m\u001b[43m)\u001b[49m\n",
      "Cell \u001b[0;32mIn[19], line 17\u001b[0m, in \u001b[0;36mselect_non_contiguous_indexes\u001b[0;34m(n, available_indexes)\u001b[0m\n\u001b[1;32m      5\u001b[0m \u001b[38;5;250m\u001b[39m\u001b[38;5;124;03m\"\"\"\u001b[39;00m\n\u001b[1;32m      6\u001b[0m \u001b[38;5;124;03mGenerate `n` indexes from range 0 to m such that no two are contiguous using dynamic constraints.\u001b[39;00m\n\u001b[1;32m      7\u001b[0m \n\u001b[0;32m   (...)\u001b[0m\n\u001b[1;32m     13\u001b[0m \u001b[38;5;124;03m- A list of `n` non-contiguous indexes.\u001b[39;00m\n\u001b[1;32m     14\u001b[0m \u001b[38;5;124;03m\"\"\"\u001b[39;00m\n\u001b[1;32m     16\u001b[0m \u001b[38;5;28;01mif\u001b[39;00m \u001b[38;5;28mlen\u001b[39m(available_indexes) \u001b[38;5;241m!=\u001b[39m \u001b[38;5;28mlen\u001b[39m(\u001b[38;5;28mset\u001b[39m(available_indexes)):\n\u001b[0;32m---> 17\u001b[0m     \u001b[38;5;28;01mraise\u001b[39;00m \u001b[38;5;167;01mValueError\u001b[39;00m(\u001b[38;5;124m\"\u001b[39m\u001b[38;5;124mAvailable indexes must be unique.\u001b[39m\u001b[38;5;124m\"\u001b[39m)\n\u001b[1;32m     19\u001b[0m \u001b[38;5;28;01mif\u001b[39;00m \u001b[38;5;129;01mnot\u001b[39;00m available_indexes:\n\u001b[1;32m     20\u001b[0m     \u001b[38;5;28;01mraise\u001b[39;00m \u001b[38;5;167;01mValueError\u001b[39;00m(\u001b[38;5;124m\"\u001b[39m\u001b[38;5;124mAvailable indexes must not be empty.\u001b[39m\u001b[38;5;124m\"\u001b[39m)\n",
      "\u001b[0;31mValueError\u001b[0m: Available indexes must be unique."
     ]
    }
   ],
   "source": [
    "select_non_contiguous_indexes(3, [1, 2, 4, 5, 6, 1])"
   ]
  },
  {
   "cell_type": "code",
   "execution_count": 79,
   "metadata": {},
   "outputs": [
    {
     "name": "stdout",
     "output_type": "stream",
     "text": [
      "(array([0, 0, 2, 3]), array([0, 2, 0, 2]))\n"
     ]
    }
   ],
   "source": [
    "import numpy as np\n",
    "\n",
    "arr = np.array([[10, 20, 10], [30, 40, 50], [10, 60, 70], [80, 90, 10]])\n",
    "print(np.where(arr == 10))"
   ]
  },
  {
   "cell_type": "code",
   "execution_count": 80,
   "metadata": {},
   "outputs": [
    {
     "data": {
      "text/plain": [
       "(array([0, 0, 2, 3]), array([0, 2, 0, 2]))"
      ]
     },
     "execution_count": 80,
     "metadata": {},
     "output_type": "execute_result"
    }
   ],
   "source": [
    "np.where(arr == 10)"
   ]
  },
  {
   "cell_type": "code",
   "execution_count": 84,
   "metadata": {},
   "outputs": [
    {
     "data": {
      "text/plain": [
       "(array([0, 0, 2, 3]), array([0, 2, 0, 2]))"
      ]
     },
     "execution_count": 84,
     "metadata": {},
     "output_type": "execute_result"
    }
   ],
   "source": [
    "(arr == 10).nonzero()"
   ]
  },
  {
   "cell_type": "code",
   "execution_count": 85,
   "metadata": {},
   "outputs": [
    {
     "data": {
      "text/plain": [
       "array([[ True, False,  True],\n",
       "       [False, False, False],\n",
       "       [ True, False, False],\n",
       "       [False, False,  True]])"
      ]
     },
     "execution_count": 85,
     "metadata": {},
     "output_type": "execute_result"
    }
   ],
   "source": [
    "arr == 10"
   ]
  },
  {
   "cell_type": "code",
   "execution_count": 89,
   "metadata": {},
   "outputs": [],
   "source": [
    "result = [np.where(sequence == 10)[0] for sequence in arr]"
   ]
  },
  {
   "cell_type": "code",
   "execution_count": 91,
   "metadata": {},
   "outputs": [
    {
     "data": {
      "text/plain": [
       "array([], dtype=int64)"
      ]
     },
     "execution_count": 91,
     "metadata": {},
     "output_type": "execute_result"
    }
   ],
   "source": [
    "result"
   ]
  },
  {
   "cell_type": "code",
   "execution_count": 93,
   "metadata": {},
   "outputs": [
    {
     "data": {
      "text/plain": [
       "(array([0]),)"
      ]
     },
     "execution_count": 93,
     "metadata": {},
     "output_type": "execute_result"
    }
   ],
   "source": [
    "np.where(np.array([10, 60, 70]) == 10)"
   ]
  },
  {
   "cell_type": "code",
   "execution_count": 95,
   "metadata": {},
   "outputs": [],
   "source": [
    "import torch\n",
    "\n",
    "ok = torch.tensor(\n",
    "    [\n",
    "        [\n",
    "            3015,\n",
    "            329,\n",
    "            607,\n",
    "            45581,\n",
    "            290,\n",
    "            7101,\n",
    "            606,\n",
    "            286,\n",
    "            607,\n",
    "            18410,\n",
    "            11,\n",
    "            2739,\n",
    "            5537,\n",
    "            4139,\n",
    "            1423,\n",
    "            8704,\n",
    "            22081,\n",
    "            13,\n",
    "            4389,\n",
    "            88,\n",
    "            15927,\n",
    "            318,\n",
    "            11643,\n",
    "            284,\n",
    "            8414,\n",
    "            422,\n",
    "            37399,\n",
    "            14225,\n",
    "            11,\n",
    "            3461,\n",
    "            324,\n",
    "            17325,\n",
    "        ],\n",
    "        [\n",
    "            1327,\n",
    "            640,\n",
    "            27074,\n",
    "            616,\n",
    "            1182,\n",
    "            1088,\n",
    "            262,\n",
    "            2126,\n",
    "            326,\n",
    "            11,\n",
    "            379,\n",
    "            617,\n",
    "            966,\n",
    "            11,\n",
    "            661,\n",
    "            655,\n",
    "            2245,\n",
    "            4673,\n",
    "            13,\n",
    "            198,\n",
    "            10374,\n",
    "            1806,\n",
    "            617,\n",
    "            1611,\n",
    "            286,\n",
    "            27886,\n",
    "            393,\n",
    "            584,\n",
    "            5110,\n",
    "            8967,\n",
    "            11,\n",
    "            340,\n",
    "        ],\n",
    "        [\n",
    "            25,\n",
    "            1578,\n",
    "            7526,\n",
    "            13,\n",
    "            198,\n",
    "            32,\n",
    "            2092,\n",
    "            6538,\n",
    "            2648,\n",
    "            3038,\n",
    "            7791,\n",
    "            7160,\n",
    "            329,\n",
    "            1402,\n",
    "            2706,\n",
    "            287,\n",
    "            262,\n",
    "            3482,\n",
    "            11,\n",
    "            1900,\n",
    "            355,\n",
    "            262,\n",
    "            14973,\n",
    "            8549,\n",
    "            554,\n",
    "            1087,\n",
    "            425,\n",
    "            1169,\n",
    "            3620,\n",
    "            40,\n",
    "            13,\n",
    "            383,\n",
    "        ],\n",
    "        [\n",
    "            522,\n",
    "            9382,\n",
    "            319,\n",
    "            1938,\n",
    "            290,\n",
    "            37924,\n",
    "            11,\n",
    "            355,\n",
    "            880,\n",
    "            355,\n",
    "            257,\n",
    "            23714,\n",
    "            9552,\n",
    "            326,\n",
    "            1838,\n",
    "            340,\n",
    "            4622,\n",
    "            7069,\n",
    "            284,\n",
    "            4776,\n",
    "            4661,\n",
    "            1377,\n",
    "            262,\n",
    "            6678,\n",
    "            16608,\n",
    "            319,\n",
    "            262,\n",
    "            24169,\n",
    "            2650,\n",
    "            13,\n",
    "            3244,\n",
    "            345,\n",
    "        ],\n",
    "        [\n",
    "            33801,\n",
    "            378,\n",
    "            616,\n",
    "            3159,\n",
    "            475,\n",
    "            4724,\n",
    "            644,\n",
    "            13,\n",
    "            632,\n",
    "            318,\n",
    "            477,\n",
    "            991,\n",
    "            257,\n",
    "            4724,\n",
    "            13,\n",
    "            921,\n",
    "            423,\n",
    "            645,\n",
    "            2126,\n",
    "            644,\n",
    "            1243,\n",
    "            481,\n",
    "            804,\n",
    "            588,\n",
    "            1566,\n",
    "            484,\n",
    "            389,\n",
    "            1682,\n",
    "            319,\n",
    "            3348,\n",
    "            13,\n",
    "            198,\n",
    "        ],\n",
    "        [\n",
    "            517,\n",
    "            6851,\n",
    "            588,\n",
    "            428,\n",
    "            13,\n",
    "            198,\n",
    "            2025,\n",
    "            8036,\n",
    "            2648,\n",
    "            11,\n",
    "            314,\n",
    "            2391,\n",
    "            1813,\n",
    "            428,\n",
    "            4291,\n",
    "            257,\n",
    "            16008,\n",
    "            508,\n",
    "            373,\n",
    "            1804,\n",
    "            6454,\n",
    "            3781,\n",
    "            319,\n",
    "            428,\n",
    "            13,\n",
    "            843,\n",
    "            339,\n",
    "            287,\n",
    "            3872,\n",
    "            8155,\n",
    "            502,\n",
    "            12607,\n",
    "        ],\n",
    "        [\n",
    "            447,\n",
    "            247,\n",
    "            82,\n",
    "            617,\n",
    "            5986,\n",
    "            286,\n",
    "            1486,\n",
    "            4213,\n",
    "            329,\n",
    "            534,\n",
    "            1363,\n",
    "            11087,\n",
    "            1486,\n",
    "            3519,\n",
    "            284,\n",
    "            1588,\n",
    "            16610,\n",
    "            17423,\n",
    "            3084,\n",
    "            13,\n",
    "            775,\n",
    "            7723,\n",
    "            262,\n",
    "            4263,\n",
    "            422,\n",
    "            2972,\n",
    "            4237,\n",
    "            284,\n",
    "            2148,\n",
    "            360,\n",
    "            3191,\n",
    "            10096,\n",
    "        ],\n",
    "        [\n",
    "            9009,\n",
    "            293,\n",
    "            290,\n",
    "            18340,\n",
    "            351,\n",
    "            9580,\n",
    "            12983,\n",
    "            13,\n",
    "            16374,\n",
    "            1257,\n",
    "            1027,\n",
    "            33173,\n",
    "            351,\n",
    "            326,\n",
    "            698,\n",
    "            278,\n",
    "            4813,\n",
    "            1842,\n",
    "            13,\n",
    "            2905,\n",
    "            33173,\n",
    "            1282,\n",
    "            287,\n",
    "            40003,\n",
    "            2042,\n",
    "            47750,\n",
    "            2612,\n",
    "            6979,\n",
    "            3091,\n",
    "            0,\n",
    "            50256,\n",
    "            464,\n",
    "        ],\n",
    "    ]\n",
    ")"
   ]
  },
  {
   "cell_type": "code",
   "execution_count": 97,
   "metadata": {},
   "outputs": [
    {
     "data": {
      "text/plain": [
       "tensor([[False, False, False, False, False, False, False, False, False, False,\n",
       "         False, False, False, False, False, False, False, False, False, False,\n",
       "         False, False, False, False, False, False, False, False, False, False,\n",
       "         False, False],\n",
       "        [False, False, False, False, False, False, False, False, False, False,\n",
       "         False, False, False, False, False, False, False, False, False, False,\n",
       "         False, False, False, False, False, False, False, False, False, False,\n",
       "         False, False],\n",
       "        [False, False, False, False, False, False, False, False, False, False,\n",
       "         False, False, False, False, False, False, False, False, False, False,\n",
       "         False, False, False, False, False, False, False, False, False, False,\n",
       "         False, False],\n",
       "        [False, False, False, False, False, False, False, False, False, False,\n",
       "         False, False, False, False, False, False, False, False, False, False,\n",
       "         False, False, False, False, False, False, False, False, False, False,\n",
       "         False, False],\n",
       "        [False, False, False, False, False, False, False, False, False, False,\n",
       "         False, False, False, False, False, False, False, False, False, False,\n",
       "         False, False, False, False, False, False, False, False, False, False,\n",
       "         False, False],\n",
       "        [False, False, False, False, False, False, False, False, False, False,\n",
       "         False, False, False, False, False, False, False, False, False, False,\n",
       "         False, False, False, False, False, False, False, False, False, False,\n",
       "         False, False],\n",
       "        [False, False, False, False, False, False, False, False, False, False,\n",
       "         False, False, False, False, False, False, False, False, False, False,\n",
       "         False, False, False, False, False, False, False, False, False, False,\n",
       "         False, False],\n",
       "        [False, False, False, False, False, False, False, False, False, False,\n",
       "         False, False, False, False, False, False, False, False, False, False,\n",
       "         False, False, False, False, False, False, False, False, False,  True,\n",
       "         False, False]])"
      ]
     },
     "execution_count": 97,
     "metadata": {},
     "output_type": "execute_result"
    }
   ],
   "source": [
    "ok == 0"
   ]
  },
  {
   "cell_type": "code",
   "execution_count": 98,
   "metadata": {},
   "outputs": [],
   "source": [
    "heh = ok == 0"
   ]
  },
  {
   "cell_type": "code",
   "execution_count": 99,
   "metadata": {},
   "outputs": [
    {
     "data": {
      "text/plain": [
       "tensor([[False, False, False, False, False, False, False, False, False, False,\n",
       "         False, False, False, False, False, False, False, False, False, False,\n",
       "         False, False, False, False, False, False, False, False, False, False,\n",
       "         False, False],\n",
       "        [False, False, False, False, False, False, False, False, False, False,\n",
       "         False, False, False, False, False, False, False, False, False, False,\n",
       "         False, False, False, False, False, False, False, False, False, False,\n",
       "         False, False],\n",
       "        [False, False, False, False, False, False, False, False, False, False,\n",
       "         False, False, False, False, False, False, False, False, False, False,\n",
       "         False, False, False, False, False, False, False, False, False, False,\n",
       "         False, False],\n",
       "        [False, False, False, False, False, False, False, False, False, False,\n",
       "         False, False, False, False, False, False, False, False, False, False,\n",
       "         False, False, False, False, False, False, False, False, False, False,\n",
       "         False, False],\n",
       "        [False, False, False, False, False, False, False, False, False, False,\n",
       "         False, False, False, False, False, False, False, False, False, False,\n",
       "         False, False, False, False, False, False, False, False, False, False,\n",
       "         False, False],\n",
       "        [False, False, False, False, False, False, False, False, False, False,\n",
       "         False, False, False, False, False, False, False, False, False, False,\n",
       "         False, False, False, False, False, False, False, False, False, False,\n",
       "         False, False],\n",
       "        [False, False, False, False, False, False, False, False, False, False,\n",
       "         False, False, False, False, False, False, False, False, False, False,\n",
       "         False, False, False, False, False, False, False, False, False, False,\n",
       "         False, False],\n",
       "        [False, False, False, False, False, False, False, False, False, False,\n",
       "         False, False, False, False, False, False, False, False, False, False,\n",
       "         False, False, False, False, False, False, False, False, False,  True,\n",
       "         False, False]])"
      ]
     },
     "execution_count": 99,
     "metadata": {},
     "output_type": "execute_result"
    }
   ],
   "source": [
    "heh"
   ]
  },
  {
   "cell_type": "code",
   "execution_count": 117,
   "metadata": {},
   "outputs": [],
   "source": [
    "mhym = heh.nonzero(as_tuple=True)"
   ]
  },
  {
   "cell_type": "code",
   "execution_count": 110,
   "metadata": {},
   "outputs": [
    {
     "data": {
      "text/plain": [
       "tensor([[ 7, 29]])"
      ]
     },
     "execution_count": 110,
     "metadata": {},
     "output_type": "execute_result"
    }
   ],
   "source": [
    "mhym"
   ]
  },
  {
   "cell_type": "code",
   "execution_count": 113,
   "metadata": {},
   "outputs": [
    {
     "ename": "IndexError",
     "evalue": "index_select(): Index is supposed to be a vector",
     "output_type": "error",
     "traceback": [
      "\u001b[0;31m---------------------------------------------------------------------------\u001b[0m",
      "\u001b[0;31mIndexError\u001b[0m                                Traceback (most recent call last)",
      "Cell \u001b[0;32mIn[113], line 1\u001b[0m\n\u001b[0;32m----> 1\u001b[0m \u001b[43mok\u001b[49m\u001b[38;5;241;43m.\u001b[39;49m\u001b[43mindex_select\u001b[49m\u001b[43m(\u001b[49m\u001b[38;5;241;43m0\u001b[39;49m\u001b[43m,\u001b[49m\u001b[43m \u001b[49m\u001b[43mmhym\u001b[49m\u001b[43m)\u001b[49m\n",
      "\u001b[0;31mIndexError\u001b[0m: index_select(): Index is supposed to be a vector"
     ]
    }
   ],
   "source": [
    "ok.index_select(0, mhym)"
   ]
  },
  {
   "cell_type": "code",
   "execution_count": 115,
   "metadata": {},
   "outputs": [
    {
     "data": {
      "text/plain": [
       "(tensor([7]), tensor([29]))"
      ]
     },
     "execution_count": 115,
     "metadata": {},
     "output_type": "execute_result"
    }
   ],
   "source": [
    "torch.where(ok == 0)"
   ]
  },
  {
   "cell_type": "code",
   "execution_count": 118,
   "metadata": {},
   "outputs": [
    {
     "data": {
      "text/plain": [
       "tensor([0])"
      ]
     },
     "execution_count": 118,
     "metadata": {},
     "output_type": "execute_result"
    }
   ],
   "source": [
    "ok[mhym]"
   ]
  },
  {
   "cell_type": "code",
   "execution_count": 123,
   "metadata": {},
   "outputs": [
    {
     "data": {
      "text/plain": [
       "tensor([ 640,  616, 1578])"
      ]
     },
     "execution_count": 123,
     "metadata": {},
     "output_type": "execute_result"
    }
   ],
   "source": [
    "torch.take(ok, torch.tensor([33, 35, 65]))"
   ]
  },
  {
   "cell_type": "code",
   "execution_count": null,
   "metadata": {},
   "outputs": [],
   "source": []
  }
 ],
 "metadata": {
  "kernelspec": {
   "display_name": "venv",
   "language": "python",
   "name": "python3"
  },
  "language_info": {
   "codemirror_mode": {
    "name": "ipython",
    "version": 3
   },
   "file_extension": ".py",
   "mimetype": "text/x-python",
   "name": "python",
   "nbconvert_exporter": "python",
   "pygments_lexer": "ipython3",
   "version": "3.11.7"
  }
 },
 "nbformat": 4,
 "nbformat_minor": 2
}
