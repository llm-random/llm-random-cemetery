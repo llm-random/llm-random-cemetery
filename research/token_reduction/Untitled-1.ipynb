{
 "cells": [
  {
   "cell_type": "code",
   "execution_count": 61,
   "metadata": {},
   "outputs": [],
   "source": [
    "import random\n",
    "\n",
    "\n",
    "def select_non_contiguous_indexes(n, available_indexes: list):\n",
    "    \"\"\"\n",
    "    Select n non-contiguous indexes from a list of available indexes.\n",
    "    \"\"\"\n",
    "\n",
    "    if len(available_indexes) != len(set(available_indexes)):\n",
    "        raise ValueError(\"Available indexes must be unique.\")\n",
    "\n",
    "    if not available_indexes:\n",
    "        raise ValueError(\"Available indexes must not be empty.\")\n",
    "\n",
    "    selected = []\n",
    "    while len(selected) < n and available_indexes:\n",
    "        selected_element = random.choice(available_indexes)\n",
    "        selected.append(selected_element)\n",
    "\n",
    "        # Update the available list to maintain the non-contiguity constraint\n",
    "        new_available = []\n",
    "        for element in available_indexes:\n",
    "            if abs(selected_element - element) > 1:\n",
    "                new_available.append(element)\n",
    "        available_indexes = new_available\n",
    "\n",
    "    if len(selected) < n:\n",
    "        raise ValueError(\"Not enough non-contiguous indexes available.\")\n",
    "\n",
    "    return selected"
   ]
  },
  {
   "cell_type": "code",
   "execution_count": 71,
   "metadata": {},
   "outputs": [
    {
     "ename": "ValueError",
     "evalue": "Not enough non-contiguous indexes available.",
     "output_type": "error",
     "traceback": [
      "\u001b[0;31m---------------------------------------------------------------------------\u001b[0m",
      "\u001b[0;31mValueError\u001b[0m                                Traceback (most recent call last)",
      "Cell \u001b[0;32mIn[71], line 1\u001b[0m\n\u001b[0;32m----> 1\u001b[0m \u001b[43mselect_non_contiguous_indexes\u001b[49m\u001b[43m(\u001b[49m\u001b[38;5;241;43m3\u001b[39;49m\u001b[43m,\u001b[49m\u001b[43m \u001b[49m\u001b[43m[\u001b[49m\u001b[38;5;241;43m1\u001b[39;49m\u001b[43m,\u001b[49m\u001b[43m \u001b[49m\u001b[38;5;241;43m5\u001b[39;49m\u001b[43m,\u001b[49m\u001b[43m \u001b[49m\u001b[38;5;241;43m6\u001b[39;49m\u001b[43m,\u001b[49m\u001b[43m \u001b[49m\u001b[38;5;241;43m7\u001b[39;49m\u001b[43m]\u001b[49m\u001b[43m)\u001b[49m\n",
      "Cell \u001b[0;32mIn[61], line 28\u001b[0m, in \u001b[0;36mselect_non_contiguous_indexes\u001b[0;34m(n, available_indexes)\u001b[0m\n\u001b[1;32m     25\u001b[0m     available_indexes \u001b[38;5;241m=\u001b[39m new_available\n\u001b[1;32m     27\u001b[0m \u001b[38;5;28;01mif\u001b[39;00m \u001b[38;5;28mlen\u001b[39m(selected) \u001b[38;5;241m<\u001b[39m n:\n\u001b[0;32m---> 28\u001b[0m     \u001b[38;5;28;01mraise\u001b[39;00m \u001b[38;5;167;01mValueError\u001b[39;00m(\u001b[38;5;124m\"\u001b[39m\u001b[38;5;124mNot enough non-contiguous indexes available.\u001b[39m\u001b[38;5;124m\"\u001b[39m)\n\u001b[1;32m     30\u001b[0m \u001b[38;5;28;01mreturn\u001b[39;00m selected\n",
      "\u001b[0;31mValueError\u001b[0m: Not enough non-contiguous indexes available."
     ]
    }
   ],
   "source": [
    "select_non_contiguous_indexes(3, [1, 5, 6, 7])"
   ]
  },
  {
   "cell_type": "code",
   "execution_count": 22,
   "metadata": {},
   "outputs": [
    {
     "ename": "ValueError",
     "evalue": "Available indexes must not be empty.",
     "output_type": "error",
     "traceback": [
      "\u001b[0;31m---------------------------------------------------------------------------\u001b[0m",
      "\u001b[0;31mValueError\u001b[0m                                Traceback (most recent call last)",
      "Cell \u001b[0;32mIn[22], line 1\u001b[0m\n\u001b[0;32m----> 1\u001b[0m \u001b[43mselect_non_contiguous_indexes\u001b[49m\u001b[43m(\u001b[49m\u001b[38;5;241;43m3\u001b[39;49m\u001b[43m,\u001b[49m\u001b[43m \u001b[49m\u001b[43m[\u001b[49m\u001b[43m]\u001b[49m\u001b[43m)\u001b[49m\n",
      "Cell \u001b[0;32mIn[19], line 20\u001b[0m, in \u001b[0;36mselect_non_contiguous_indexes\u001b[0;34m(n, available_indexes)\u001b[0m\n\u001b[1;32m     17\u001b[0m     \u001b[38;5;28;01mraise\u001b[39;00m \u001b[38;5;167;01mValueError\u001b[39;00m(\u001b[38;5;124m\"\u001b[39m\u001b[38;5;124mAvailable indexes must be unique.\u001b[39m\u001b[38;5;124m\"\u001b[39m)\n\u001b[1;32m     19\u001b[0m \u001b[38;5;28;01mif\u001b[39;00m \u001b[38;5;129;01mnot\u001b[39;00m available_indexes:\n\u001b[0;32m---> 20\u001b[0m     \u001b[38;5;28;01mraise\u001b[39;00m \u001b[38;5;167;01mValueError\u001b[39;00m(\u001b[38;5;124m\"\u001b[39m\u001b[38;5;124mAvailable indexes must not be empty.\u001b[39m\u001b[38;5;124m\"\u001b[39m)\n\u001b[1;32m     22\u001b[0m selected \u001b[38;5;241m=\u001b[39m []\n\u001b[1;32m     23\u001b[0m \u001b[38;5;28;01mwhile\u001b[39;00m \u001b[38;5;28mlen\u001b[39m(selected) \u001b[38;5;241m<\u001b[39m n \u001b[38;5;129;01mand\u001b[39;00m available_indexes:\n",
      "\u001b[0;31mValueError\u001b[0m: Available indexes must not be empty."
     ]
    }
   ],
   "source": [
    "select_non_contiguous_indexes(3, [])"
   ]
  },
  {
   "cell_type": "code",
   "execution_count": 21,
   "metadata": {},
   "outputs": [
    {
     "ename": "ValueError",
     "evalue": "Available indexes must be unique.",
     "output_type": "error",
     "traceback": [
      "\u001b[0;31m---------------------------------------------------------------------------\u001b[0m",
      "\u001b[0;31mValueError\u001b[0m                                Traceback (most recent call last)",
      "Cell \u001b[0;32mIn[21], line 1\u001b[0m\n\u001b[0;32m----> 1\u001b[0m \u001b[43mselect_non_contiguous_indexes\u001b[49m\u001b[43m(\u001b[49m\u001b[38;5;241;43m3\u001b[39;49m\u001b[43m,\u001b[49m\u001b[43m \u001b[49m\u001b[43m[\u001b[49m\u001b[38;5;241;43m1\u001b[39;49m\u001b[43m,\u001b[49m\u001b[38;5;241;43m2\u001b[39;49m\u001b[43m,\u001b[49m\u001b[38;5;241;43m4\u001b[39;49m\u001b[43m,\u001b[49m\u001b[38;5;241;43m5\u001b[39;49m\u001b[43m,\u001b[49m\u001b[38;5;241;43m6\u001b[39;49m\u001b[43m,\u001b[49m\u001b[38;5;241;43m1\u001b[39;49m\u001b[43m]\u001b[49m\u001b[43m)\u001b[49m\n",
      "Cell \u001b[0;32mIn[19], line 17\u001b[0m, in \u001b[0;36mselect_non_contiguous_indexes\u001b[0;34m(n, available_indexes)\u001b[0m\n\u001b[1;32m      5\u001b[0m \u001b[38;5;250m\u001b[39m\u001b[38;5;124;03m\"\"\"\u001b[39;00m\n\u001b[1;32m      6\u001b[0m \u001b[38;5;124;03mGenerate `n` indexes from range 0 to m such that no two are contiguous using dynamic constraints.\u001b[39;00m\n\u001b[1;32m      7\u001b[0m \n\u001b[0;32m   (...)\u001b[0m\n\u001b[1;32m     13\u001b[0m \u001b[38;5;124;03m- A list of `n` non-contiguous indexes.\u001b[39;00m\n\u001b[1;32m     14\u001b[0m \u001b[38;5;124;03m\"\"\"\u001b[39;00m\n\u001b[1;32m     16\u001b[0m \u001b[38;5;28;01mif\u001b[39;00m \u001b[38;5;28mlen\u001b[39m(available_indexes) \u001b[38;5;241m!=\u001b[39m \u001b[38;5;28mlen\u001b[39m(\u001b[38;5;28mset\u001b[39m(available_indexes)):\n\u001b[0;32m---> 17\u001b[0m     \u001b[38;5;28;01mraise\u001b[39;00m \u001b[38;5;167;01mValueError\u001b[39;00m(\u001b[38;5;124m\"\u001b[39m\u001b[38;5;124mAvailable indexes must be unique.\u001b[39m\u001b[38;5;124m\"\u001b[39m)\n\u001b[1;32m     19\u001b[0m \u001b[38;5;28;01mif\u001b[39;00m \u001b[38;5;129;01mnot\u001b[39;00m available_indexes:\n\u001b[1;32m     20\u001b[0m     \u001b[38;5;28;01mraise\u001b[39;00m \u001b[38;5;167;01mValueError\u001b[39;00m(\u001b[38;5;124m\"\u001b[39m\u001b[38;5;124mAvailable indexes must not be empty.\u001b[39m\u001b[38;5;124m\"\u001b[39m)\n",
      "\u001b[0;31mValueError\u001b[0m: Available indexes must be unique."
     ]
    }
   ],
   "source": [
    "select_non_contiguous_indexes(3, [1, 2, 4, 5, 6, 1])"
   ]
  },
  {
   "cell_type": "code",
   "execution_count": 79,
   "metadata": {},
   "outputs": [
    {
     "name": "stdout",
     "output_type": "stream",
     "text": [
      "(array([0, 0, 2, 3]), array([0, 2, 0, 2]))\n"
     ]
    }
   ],
   "source": [
    "import numpy as np\n",
    "\n",
    "arr = np.array([[10, 20, 10], [30, 40, 50], [10, 60, 70], [80, 90, 10]])\n",
    "print(np.where(arr == 10))"
   ]
  },
  {
   "cell_type": "code",
   "execution_count": 80,
   "metadata": {},
   "outputs": [
    {
     "data": {
      "text/plain": [
       "(array([0, 0, 2, 3]), array([0, 2, 0, 2]))"
      ]
     },
     "execution_count": 80,
     "metadata": {},
     "output_type": "execute_result"
    }
   ],
   "source": [
    "np.where(arr == 10)"
   ]
  },
  {
   "cell_type": "code",
   "execution_count": 84,
   "metadata": {},
   "outputs": [
    {
     "data": {
      "text/plain": [
       "(array([0, 0, 2, 3]), array([0, 2, 0, 2]))"
      ]
     },
     "execution_count": 84,
     "metadata": {},
     "output_type": "execute_result"
    }
   ],
   "source": [
    "(arr == 10).nonzero()"
   ]
  },
  {
   "cell_type": "code",
   "execution_count": 85,
   "metadata": {},
   "outputs": [
    {
     "data": {
      "text/plain": [
       "array([[ True, False,  True],\n",
       "       [False, False, False],\n",
       "       [ True, False, False],\n",
       "       [False, False,  True]])"
      ]
     },
     "execution_count": 85,
     "metadata": {},
     "output_type": "execute_result"
    }
   ],
   "source": [
    "arr == 10"
   ]
  },
  {
   "cell_type": "code",
   "execution_count": 89,
   "metadata": {},
   "outputs": [],
   "source": [
    "result = [np.where(sequence == 10)[0] for sequence in arr]"
   ]
  },
  {
   "cell_type": "code",
   "execution_count": 91,
   "metadata": {},
   "outputs": [
    {
     "data": {
      "text/plain": [
       "array([], dtype=int64)"
      ]
     },
     "execution_count": 91,
     "metadata": {},
     "output_type": "execute_result"
    }
   ],
   "source": [
    "result"
   ]
  },
  {
   "cell_type": "code",
   "execution_count": 93,
   "metadata": {},
   "outputs": [
    {
     "data": {
      "text/plain": [
       "(array([0]),)"
      ]
     },
     "execution_count": 93,
     "metadata": {},
     "output_type": "execute_result"
    }
   ],
   "source": [
    "np.where(np.array([10, 60, 70]) == 10)"
   ]
  },
  {
   "cell_type": "code",
   "execution_count": 95,
   "metadata": {},
   "outputs": [],
   "source": [
    "import torch\n",
    "\n",
    "ok = torch.tensor(\n",
    "    [\n",
    "        [\n",
    "            3015,\n",
    "            329,\n",
    "            607,\n",
    "            45581,\n",
    "            290,\n",
    "            7101,\n",
    "            606,\n",
    "            286,\n",
    "            607,\n",
    "            18410,\n",
    "            11,\n",
    "            2739,\n",
    "            5537,\n",
    "            4139,\n",
    "            1423,\n",
    "            8704,\n",
    "            22081,\n",
    "            13,\n",
    "            4389,\n",
    "            88,\n",
    "            15927,\n",
    "            318,\n",
    "            11643,\n",
    "            284,\n",
    "            8414,\n",
    "            422,\n",
    "            37399,\n",
    "            14225,\n",
    "            11,\n",
    "            3461,\n",
    "            324,\n",
    "            17325,\n",
    "        ],\n",
    "        [\n",
    "            1327,\n",
    "            640,\n",
    "            27074,\n",
    "            616,\n",
    "            1182,\n",
    "            1088,\n",
    "            262,\n",
    "            2126,\n",
    "            326,\n",
    "            11,\n",
    "            379,\n",
    "            617,\n",
    "            966,\n",
    "            11,\n",
    "            661,\n",
    "            655,\n",
    "            2245,\n",
    "            4673,\n",
    "            13,\n",
    "            198,\n",
    "            10374,\n",
    "            1806,\n",
    "            617,\n",
    "            1611,\n",
    "            286,\n",
    "            27886,\n",
    "            393,\n",
    "            584,\n",
    "            5110,\n",
    "            8967,\n",
    "            11,\n",
    "            340,\n",
    "        ],\n",
    "        [\n",
    "            25,\n",
    "            1578,\n",
    "            7526,\n",
    "            13,\n",
    "            198,\n",
    "            32,\n",
    "            2092,\n",
    "            6538,\n",
    "            2648,\n",
    "            3038,\n",
    "            7791,\n",
    "            7160,\n",
    "            329,\n",
    "            1402,\n",
    "            2706,\n",
    "            287,\n",
    "            262,\n",
    "            3482,\n",
    "            11,\n",
    "            1900,\n",
    "            355,\n",
    "            262,\n",
    "            14973,\n",
    "            8549,\n",
    "            554,\n",
    "            1087,\n",
    "            425,\n",
    "            1169,\n",
    "            3620,\n",
    "            40,\n",
    "            13,\n",
    "            383,\n",
    "        ],\n",
    "        [\n",
    "            522,\n",
    "            9382,\n",
    "            319,\n",
    "            1938,\n",
    "            290,\n",
    "            37924,\n",
    "            11,\n",
    "            355,\n",
    "            880,\n",
    "            355,\n",
    "            257,\n",
    "            23714,\n",
    "            9552,\n",
    "            326,\n",
    "            1838,\n",
    "            340,\n",
    "            4622,\n",
    "            7069,\n",
    "            284,\n",
    "            4776,\n",
    "            4661,\n",
    "            1377,\n",
    "            262,\n",
    "            6678,\n",
    "            16608,\n",
    "            319,\n",
    "            262,\n",
    "            24169,\n",
    "            2650,\n",
    "            13,\n",
    "            3244,\n",
    "            345,\n",
    "        ],\n",
    "        [\n",
    "            33801,\n",
    "            378,\n",
    "            616,\n",
    "            3159,\n",
    "            475,\n",
    "            4724,\n",
    "            644,\n",
    "            13,\n",
    "            632,\n",
    "            318,\n",
    "            477,\n",
    "            991,\n",
    "            257,\n",
    "            4724,\n",
    "            13,\n",
    "            921,\n",
    "            423,\n",
    "            645,\n",
    "            2126,\n",
    "            644,\n",
    "            1243,\n",
    "            481,\n",
    "            804,\n",
    "            588,\n",
    "            1566,\n",
    "            484,\n",
    "            389,\n",
    "            1682,\n",
    "            319,\n",
    "            3348,\n",
    "            13,\n",
    "            198,\n",
    "        ],\n",
    "        [\n",
    "            517,\n",
    "            6851,\n",
    "            588,\n",
    "            428,\n",
    "            13,\n",
    "            198,\n",
    "            2025,\n",
    "            8036,\n",
    "            2648,\n",
    "            11,\n",
    "            314,\n",
    "            2391,\n",
    "            1813,\n",
    "            428,\n",
    "            4291,\n",
    "            257,\n",
    "            16008,\n",
    "            508,\n",
    "            373,\n",
    "            1804,\n",
    "            6454,\n",
    "            3781,\n",
    "            319,\n",
    "            428,\n",
    "            13,\n",
    "            843,\n",
    "            339,\n",
    "            287,\n",
    "            3872,\n",
    "            8155,\n",
    "            502,\n",
    "            12607,\n",
    "        ],\n",
    "        [\n",
    "            447,\n",
    "            247,\n",
    "            82,\n",
    "            617,\n",
    "            5986,\n",
    "            286,\n",
    "            1486,\n",
    "            4213,\n",
    "            329,\n",
    "            534,\n",
    "            1363,\n",
    "            11087,\n",
    "            1486,\n",
    "            3519,\n",
    "            284,\n",
    "            1588,\n",
    "            16610,\n",
    "            17423,\n",
    "            3084,\n",
    "            13,\n",
    "            775,\n",
    "            7723,\n",
    "            262,\n",
    "            4263,\n",
    "            422,\n",
    "            2972,\n",
    "            4237,\n",
    "            284,\n",
    "            2148,\n",
    "            360,\n",
    "            3191,\n",
    "            10096,\n",
    "        ],\n",
    "        [\n",
    "            9009,\n",
    "            293,\n",
    "            290,\n",
    "            18340,\n",
    "            351,\n",
    "            9580,\n",
    "            12983,\n",
    "            13,\n",
    "            16374,\n",
    "            1257,\n",
    "            1027,\n",
    "            33173,\n",
    "            351,\n",
    "            326,\n",
    "            698,\n",
    "            278,\n",
    "            4813,\n",
    "            1842,\n",
    "            13,\n",
    "            2905,\n",
    "            33173,\n",
    "            1282,\n",
    "            287,\n",
    "            40003,\n",
    "            2042,\n",
    "            47750,\n",
    "            2612,\n",
    "            6979,\n",
    "            3091,\n",
    "            0,\n",
    "            50256,\n",
    "            464,\n",
    "        ],\n",
    "    ]\n",
    ")"
   ]
  },
  {
   "cell_type": "code",
   "execution_count": 97,
   "metadata": {},
   "outputs": [
    {
     "data": {
      "text/plain": [
       "tensor([[False, False, False, False, False, False, False, False, False, False,\n",
       "         False, False, False, False, False, False, False, False, False, False,\n",
       "         False, False, False, False, False, False, False, False, False, False,\n",
       "         False, False],\n",
       "        [False, False, False, False, False, False, False, False, False, False,\n",
       "         False, False, False, False, False, False, False, False, False, False,\n",
       "         False, False, False, False, False, False, False, False, False, False,\n",
       "         False, False],\n",
       "        [False, False, False, False, False, False, False, False, False, False,\n",
       "         False, False, False, False, False, False, False, False, False, False,\n",
       "         False, False, False, False, False, False, False, False, False, False,\n",
       "         False, False],\n",
       "        [False, False, False, False, False, False, False, False, False, False,\n",
       "         False, False, False, False, False, False, False, False, False, False,\n",
       "         False, False, False, False, False, False, False, False, False, False,\n",
       "         False, False],\n",
       "        [False, False, False, False, False, False, False, False, False, False,\n",
       "         False, False, False, False, False, False, False, False, False, False,\n",
       "         False, False, False, False, False, False, False, False, False, False,\n",
       "         False, False],\n",
       "        [False, False, False, False, False, False, False, False, False, False,\n",
       "         False, False, False, False, False, False, False, False, False, False,\n",
       "         False, False, False, False, False, False, False, False, False, False,\n",
       "         False, False],\n",
       "        [False, False, False, False, False, False, False, False, False, False,\n",
       "         False, False, False, False, False, False, False, False, False, False,\n",
       "         False, False, False, False, False, False, False, False, False, False,\n",
       "         False, False],\n",
       "        [False, False, False, False, False, False, False, False, False, False,\n",
       "         False, False, False, False, False, False, False, False, False, False,\n",
       "         False, False, False, False, False, False, False, False, False,  True,\n",
       "         False, False]])"
      ]
     },
     "execution_count": 97,
     "metadata": {},
     "output_type": "execute_result"
    }
   ],
   "source": [
    "ok == 0"
   ]
  },
  {
   "cell_type": "code",
   "execution_count": 98,
   "metadata": {},
   "outputs": [],
   "source": [
    "heh = ok == 0"
   ]
  },
  {
   "cell_type": "code",
   "execution_count": 99,
   "metadata": {},
   "outputs": [
    {
     "data": {
      "text/plain": [
       "tensor([[False, False, False, False, False, False, False, False, False, False,\n",
       "         False, False, False, False, False, False, False, False, False, False,\n",
       "         False, False, False, False, False, False, False, False, False, False,\n",
       "         False, False],\n",
       "        [False, False, False, False, False, False, False, False, False, False,\n",
       "         False, False, False, False, False, False, False, False, False, False,\n",
       "         False, False, False, False, False, False, False, False, False, False,\n",
       "         False, False],\n",
       "        [False, False, False, False, False, False, False, False, False, False,\n",
       "         False, False, False, False, False, False, False, False, False, False,\n",
       "         False, False, False, False, False, False, False, False, False, False,\n",
       "         False, False],\n",
       "        [False, False, False, False, False, False, False, False, False, False,\n",
       "         False, False, False, False, False, False, False, False, False, False,\n",
       "         False, False, False, False, False, False, False, False, False, False,\n",
       "         False, False],\n",
       "        [False, False, False, False, False, False, False, False, False, False,\n",
       "         False, False, False, False, False, False, False, False, False, False,\n",
       "         False, False, False, False, False, False, False, False, False, False,\n",
       "         False, False],\n",
       "        [False, False, False, False, False, False, False, False, False, False,\n",
       "         False, False, False, False, False, False, False, False, False, False,\n",
       "         False, False, False, False, False, False, False, False, False, False,\n",
       "         False, False],\n",
       "        [False, False, False, False, False, False, False, False, False, False,\n",
       "         False, False, False, False, False, False, False, False, False, False,\n",
       "         False, False, False, False, False, False, False, False, False, False,\n",
       "         False, False],\n",
       "        [False, False, False, False, False, False, False, False, False, False,\n",
       "         False, False, False, False, False, False, False, False, False, False,\n",
       "         False, False, False, False, False, False, False, False, False,  True,\n",
       "         False, False]])"
      ]
     },
     "execution_count": 99,
     "metadata": {},
     "output_type": "execute_result"
    }
   ],
   "source": [
    "heh"
   ]
  },
  {
   "cell_type": "code",
   "execution_count": 117,
   "metadata": {},
   "outputs": [],
   "source": [
    "mhym = heh.nonzero(as_tuple=True)"
   ]
  },
  {
   "cell_type": "code",
   "execution_count": 110,
   "metadata": {},
   "outputs": [
    {
     "data": {
      "text/plain": [
       "tensor([[ 7, 29]])"
      ]
     },
     "execution_count": 110,
     "metadata": {},
     "output_type": "execute_result"
    }
   ],
   "source": [
    "mhym"
   ]
  },
  {
   "cell_type": "code",
   "execution_count": 113,
   "metadata": {},
   "outputs": [
    {
     "ename": "IndexError",
     "evalue": "index_select(): Index is supposed to be a vector",
     "output_type": "error",
     "traceback": [
      "\u001b[0;31m---------------------------------------------------------------------------\u001b[0m",
      "\u001b[0;31mIndexError\u001b[0m                                Traceback (most recent call last)",
      "Cell \u001b[0;32mIn[113], line 1\u001b[0m\n\u001b[0;32m----> 1\u001b[0m \u001b[43mok\u001b[49m\u001b[38;5;241;43m.\u001b[39;49m\u001b[43mindex_select\u001b[49m\u001b[43m(\u001b[49m\u001b[38;5;241;43m0\u001b[39;49m\u001b[43m,\u001b[49m\u001b[43m \u001b[49m\u001b[43mmhym\u001b[49m\u001b[43m)\u001b[49m\n",
      "\u001b[0;31mIndexError\u001b[0m: index_select(): Index is supposed to be a vector"
     ]
    }
   ],
   "source": [
    "ok.index_select(0, mhym)"
   ]
  },
  {
   "cell_type": "code",
   "execution_count": 115,
   "metadata": {},
   "outputs": [
    {
     "data": {
      "text/plain": [
       "(tensor([7]), tensor([29]))"
      ]
     },
     "execution_count": 115,
     "metadata": {},
     "output_type": "execute_result"
    }
   ],
   "source": [
    "torch.where(ok == 0)"
   ]
  },
  {
   "cell_type": "code",
   "execution_count": 118,
   "metadata": {},
   "outputs": [
    {
     "data": {
      "text/plain": [
       "tensor([0])"
      ]
     },
     "execution_count": 118,
     "metadata": {},
     "output_type": "execute_result"
    }
   ],
   "source": [
    "ok[mhym]"
   ]
  },
  {
   "cell_type": "code",
   "execution_count": 123,
   "metadata": {},
   "outputs": [
    {
     "data": {
      "text/plain": [
       "tensor([ 640,  616, 1578])"
      ]
     },
     "execution_count": 123,
     "metadata": {},
     "output_type": "execute_result"
    }
   ],
   "source": [
    "torch.take(ok, torch.tensor([33, 35, 65]))"
   ]
  },
  {
   "cell_type": "code",
   "execution_count": 2,
   "metadata": {},
   "outputs": [],
   "source": [
    "import torch\n",
    "batch_size, seq_len, dm = 4,8,16\n",
    "x = torch.rand((batch_size, seq_len, dm))"
   ]
  },
  {
   "cell_type": "code",
   "execution_count": 3,
   "metadata": {},
   "outputs": [],
   "source": [
    "ids_to_save = torch.tensor([1,3,5,7])\n",
    "ids_to_reduce = torch.tensor([0,2,4,6])\n",
    "\n",
    "x = x.view(-1, dm)"
   ]
  },
  {
   "cell_type": "code",
   "execution_count": 10,
   "metadata": {},
   "outputs": [],
   "source": [
    "ik1 = torch.index_select(x, 0, ids_to_save)"
   ]
  },
  {
   "cell_type": "code",
   "execution_count": 9,
   "metadata": {},
   "outputs": [],
   "source": [
    "ik2 =x[ids_to_save]"
   ]
  },
  {
   "cell_type": "code",
   "execution_count": 11,
   "metadata": {},
   "outputs": [
    {
     "data": {
      "text/plain": [
       "True"
      ]
     },
     "execution_count": 11,
     "metadata": {},
     "output_type": "execute_result"
    }
   ],
   "source": [
    "torch.equal(ik1, ik2)"
   ]
  },
  {
   "cell_type": "code",
   "execution_count": 12,
   "metadata": {},
   "outputs": [],
   "source": [
    "reduced = x[ids_to_reduce]\n",
    "next = x[ids_to_reduce+1]"
   ]
  },
  {
   "cell_type": "code",
   "execution_count": 21,
   "metadata": {},
   "outputs": [],
   "source": [
    "lel = torch.stack((reduced, next))"
   ]
  },
  {
   "cell_type": "code",
   "execution_count": 45,
   "metadata": {},
   "outputs": [],
   "source": [
    "oksa = gate(lel)"
   ]
  },
  {
   "cell_type": "code",
   "execution_count": 50,
   "metadata": {},
   "outputs": [],
   "source": [
    "meg = oksa.softmax(dim=0)"
   ]
  },
  {
   "cell_type": "code",
   "execution_count": 51,
   "metadata": {},
   "outputs": [
    {
     "data": {
      "text/plain": [
       "tensor([[[0.6465],\n",
       "         [0.5172],\n",
       "         [0.4786],\n",
       "         [0.5441]],\n",
       "\n",
       "        [[0.3535],\n",
       "         [0.4828],\n",
       "         [0.5214],\n",
       "         [0.4559]]], grad_fn=<SoftmaxBackward0>)"
      ]
     },
     "execution_count": 51,
     "metadata": {},
     "output_type": "execute_result"
    }
   ],
   "source": [
    "meg"
   ]
  },
  {
   "cell_type": "code",
   "execution_count": 54,
   "metadata": {},
   "outputs": [
    {
     "data": {
      "text/plain": [
       "tensor([[[0.8170, 0.1776, 0.6311, 0.7077, 0.9408, 0.5163, 0.1086, 0.3799,\n",
       "          0.3005, 0.1174, 0.5974, 0.8472, 0.8531, 0.9711, 0.5063, 0.9746],\n",
       "         [0.7152, 0.7709, 0.4917, 0.1187, 0.0327, 0.2721, 0.8203, 0.6136,\n",
       "          0.9451, 0.8556, 0.3962, 0.5608, 0.8932, 0.7803, 0.9784, 0.7406],\n",
       "         [0.1707, 0.5920, 0.7726, 0.0346, 0.3443, 0.9938, 0.8569, 0.0538,\n",
       "          0.0449, 0.9547, 0.9321, 0.9746, 0.5815, 0.9907, 0.2923, 0.5910],\n",
       "         [0.9318, 0.1974, 0.9067, 0.1529, 0.8520, 0.9041, 0.7743, 0.2024,\n",
       "          0.8877, 0.5271, 0.3772, 0.9178, 0.7792, 0.2886, 0.4124, 0.4090]],\n",
       "\n",
       "        [[0.3197, 0.0022, 0.9051, 0.1985, 0.6937, 0.3038, 0.3414, 0.7831,\n",
       "          0.9357, 0.6333, 0.1919, 0.0446, 0.1083, 0.6792, 0.3022, 0.7335],\n",
       "         [0.3046, 0.2010, 0.6455, 0.8924, 0.7246, 0.7259, 0.5433, 0.8912,\n",
       "          0.6476, 0.5763, 0.1685, 0.6228, 0.9594, 0.9984, 0.1007, 0.4396],\n",
       "         [0.8872, 0.9353, 0.4492, 0.7079, 0.6097, 0.0914, 0.1573, 0.7766,\n",
       "          0.5397, 0.2917, 0.1551, 0.7712, 0.4552, 0.3120, 0.6338, 0.1997],\n",
       "         [0.3121, 0.2870, 0.9273, 0.9496, 0.7842, 0.3535, 0.1217, 0.9068,\n",
       "          0.8166, 0.5678, 0.9588, 0.0592, 0.3847, 0.0647, 0.5488, 0.7279]]])"
      ]
     },
     "execution_count": 54,
     "metadata": {},
     "output_type": "execute_result"
    }
   ],
   "source": [
    "lel"
   ]
  },
  {
   "cell_type": "code",
   "execution_count": 56,
   "metadata": {},
   "outputs": [],
   "source": [
    "yeah = lel * meg"
   ]
  },
  {
   "cell_type": "code",
   "execution_count": 57,
   "metadata": {},
   "outputs": [
    {
     "data": {
      "text/plain": [
       "torch.Size([2, 4, 16])"
      ]
     },
     "execution_count": 57,
     "metadata": {},
     "output_type": "execute_result"
    }
   ],
   "source": [
    "yeah.shape"
   ]
  },
  {
   "cell_type": "code",
   "execution_count": 59,
   "metadata": {},
   "outputs": [
    {
     "data": {
      "text/plain": [
       "tensor([[[0.5282, 0.1148, 0.4080, 0.4576, 0.6083, 0.3338, 0.0702, 0.2456,\n",
       "          0.1943, 0.0759, 0.3862, 0.5477, 0.5516, 0.6279, 0.3273, 0.6301],\n",
       "         [0.3699, 0.3987, 0.2543, 0.0614, 0.0169, 0.1407, 0.4243, 0.3174,\n",
       "          0.4888, 0.4425, 0.2049, 0.2900, 0.4619, 0.4036, 0.5060, 0.3831],\n",
       "         [0.0817, 0.2833, 0.3698, 0.0166, 0.1648, 0.4756, 0.4101, 0.0258,\n",
       "          0.0215, 0.4569, 0.4461, 0.4664, 0.2783, 0.4741, 0.1399, 0.2829],\n",
       "         [0.5069, 0.1074, 0.4933, 0.0832, 0.4636, 0.4919, 0.4213, 0.1101,\n",
       "          0.4830, 0.2868, 0.2052, 0.4994, 0.4240, 0.1570, 0.2244, 0.2226]],\n",
       "\n",
       "        [[0.1130, 0.0008, 0.3199, 0.0702, 0.2452, 0.1074, 0.1207, 0.2768,\n",
       "          0.3308, 0.2238, 0.0678, 0.0158, 0.0383, 0.2401, 0.1068, 0.2593],\n",
       "         [0.1471, 0.0970, 0.3117, 0.4309, 0.3498, 0.3505, 0.2623, 0.4303,\n",
       "          0.3127, 0.2782, 0.0813, 0.3007, 0.4632, 0.4820, 0.0486, 0.2122],\n",
       "         [0.4626, 0.4877, 0.2342, 0.3691, 0.3179, 0.0477, 0.0820, 0.4049,\n",
       "          0.2814, 0.1521, 0.0809, 0.4021, 0.2373, 0.1627, 0.3305, 0.1041],\n",
       "         [0.1423, 0.1308, 0.4228, 0.4329, 0.3575, 0.1612, 0.0555, 0.4134,\n",
       "          0.3723, 0.2589, 0.4371, 0.0270, 0.1754, 0.0295, 0.2502, 0.3319]]],\n",
       "       grad_fn=<MulBackward0>)"
      ]
     },
     "execution_count": 59,
     "metadata": {},
     "output_type": "execute_result"
    }
   ],
   "source": [
    "yeah"
   ]
  },
  {
   "cell_type": "code",
   "execution_count": 58,
   "metadata": {},
   "outputs": [
    {
     "data": {
      "text/plain": [
       "tensor([[0.6412, 0.1156, 0.7280, 0.5277, 0.8535, 0.4412, 0.1909, 0.5224, 0.5251,\n",
       "         0.2997, 0.4541, 0.5635, 0.5899, 0.8680, 0.4342, 0.8894],\n",
       "        [0.5170, 0.4957, 0.5660, 0.4923, 0.3667, 0.4912, 0.6866, 0.7476, 0.8015,\n",
       "         0.7207, 0.2863, 0.5907, 0.9251, 0.8856, 0.5546, 0.5953],\n",
       "        [0.5443, 0.7710, 0.6040, 0.3857, 0.4827, 0.5233, 0.4921, 0.4307, 0.3029,\n",
       "         0.6090, 0.5270, 0.8686, 0.5156, 0.6368, 0.4704, 0.3870],\n",
       "        [0.6492, 0.2383, 0.9161, 0.5161, 0.8211, 0.6530, 0.4768, 0.5235, 0.8553,\n",
       "         0.5456, 0.6423, 0.5264, 0.5993, 0.1865, 0.4746, 0.5544]],\n",
       "       grad_fn=<SumBackward1>)"
      ]
     },
     "execution_count": 58,
     "metadata": {},
     "output_type": "execute_result"
    }
   ],
   "source": [
    "yeah.sum(dim=0)"
   ]
  },
  {
   "cell_type": "code",
   "execution_count": 46,
   "metadata": {},
   "outputs": [],
   "source": [
    "oks = gate(lel).squeeze()"
   ]
  },
  {
   "cell_type": "code",
   "execution_count": 28,
   "metadata": {},
   "outputs": [
    {
     "data": {
      "text/plain": [
       "torch.Size([2, 4])"
      ]
     },
     "execution_count": 28,
     "metadata": {},
     "output_type": "execute_result"
    }
   ],
   "source": [
    "oks.shape"
   ]
  },
  {
   "cell_type": "code",
   "execution_count": 32,
   "metadata": {},
   "outputs": [
    {
     "data": {
      "text/plain": [
       "tensor([[ 0.4018,  0.2643,  0.0500,  0.0631],\n",
       "        [-0.2020,  0.1955,  0.1357, -0.1137]], grad_fn=<SqueezeBackward0>)"
      ]
     },
     "execution_count": 32,
     "metadata": {},
     "output_type": "execute_result"
    }
   ],
   "source": [
    "oks"
   ]
  },
  {
   "cell_type": "code",
   "execution_count": 34,
   "metadata": {},
   "outputs": [],
   "source": [
    "dobra = oks.softmax(dim=0)"
   ]
  },
  {
   "cell_type": "code",
   "execution_count": 35,
   "metadata": {},
   "outputs": [
    {
     "data": {
      "text/plain": [
       "tensor([[0.6465, 0.5172, 0.4786, 0.5441],\n",
       "        [0.3535, 0.4828, 0.5214, 0.4559]], grad_fn=<SoftmaxBackward0>)"
      ]
     },
     "execution_count": 35,
     "metadata": {},
     "output_type": "execute_result"
    }
   ],
   "source": [
    "dobra"
   ]
  },
  {
   "cell_type": "code",
   "execution_count": 41,
   "metadata": {},
   "outputs": [
    {
     "data": {
      "text/plain": [
       "torch.Size([2, 4, 16])"
      ]
     },
     "execution_count": 41,
     "metadata": {},
     "output_type": "execute_result"
    }
   ],
   "source": [
    "lel.shape"
   ]
  },
  {
   "cell_type": "code",
   "execution_count": 42,
   "metadata": {},
   "outputs": [
    {
     "data": {
      "text/plain": [
       "torch.Size([2, 4])"
      ]
     },
     "execution_count": 42,
     "metadata": {},
     "output_type": "execute_result"
    }
   ],
   "source": [
    "dobra.shape"
   ]
  },
  {
   "cell_type": "code",
   "execution_count": 43,
   "metadata": {},
   "outputs": [
    {
     "ename": "RuntimeError",
     "evalue": "The size of tensor a (4) must match the size of tensor b (16) at non-singleton dimension 2",
     "output_type": "error",
     "traceback": [
      "\u001b[0;31m---------------------------------------------------------------------------\u001b[0m",
      "\u001b[0;31mRuntimeError\u001b[0m                              Traceback (most recent call last)",
      "Cell \u001b[0;32mIn[43], line 1\u001b[0m\n\u001b[0;32m----> 1\u001b[0m \u001b[43mdobra\u001b[49m\u001b[43m \u001b[49m\u001b[38;5;241;43m*\u001b[39;49m\u001b[43m \u001b[49m\u001b[43mlel\u001b[49m\n",
      "\u001b[0;31mRuntimeError\u001b[0m: The size of tensor a (4) must match the size of tensor b (16) at non-singleton dimension 2"
     ]
    }
   ],
   "source": [
    "dobra * lel"
   ]
  },
  {
   "cell_type": "code",
   "execution_count": 36,
   "metadata": {},
   "outputs": [
    {
     "data": {
      "text/plain": [
       "torch.Size([2, 4])"
      ]
     },
     "execution_count": 36,
     "metadata": {},
     "output_type": "execute_result"
    }
   ],
   "source": [
    "dobra.shape"
   ]
  },
  {
   "cell_type": "code",
   "execution_count": 38,
   "metadata": {},
   "outputs": [
    {
     "data": {
      "text/plain": [
       "torch.Size([2, 4, 16])"
      ]
     },
     "execution_count": 38,
     "metadata": {},
     "output_type": "execute_result"
    }
   ],
   "source": [
    "lel.shape"
   ]
  },
  {
   "cell_type": "code",
   "execution_count": 29,
   "metadata": {},
   "outputs": [
    {
     "ename": "NameError",
     "evalue": "name 'softmax' is not defined",
     "output_type": "error",
     "traceback": [
      "\u001b[0;31m---------------------------------------------------------------------------\u001b[0m",
      "\u001b[0;31mNameError\u001b[0m                                 Traceback (most recent call last)",
      "Cell \u001b[0;32mIn[29], line 1\u001b[0m\n\u001b[0;32m----> 1\u001b[0m \u001b[43msoftmax\u001b[49m(oks, dim\u001b[38;5;241m=\u001b[39m\u001b[38;5;241m0\u001b[39m)\n",
      "\u001b[0;31mNameError\u001b[0m: name 'softmax' is not defined"
     ]
    }
   ],
   "source": [
    "softmax(oks, dim=0)"
   ]
  },
  {
   "cell_type": "code",
   "execution_count": null,
   "metadata": {},
   "outputs": [],
   "source": []
  },
  {
   "cell_type": "code",
   "execution_count": 16,
   "metadata": {},
   "outputs": [
    {
     "data": {
      "text/plain": [
       "torch.Size([4, 16])"
      ]
     },
     "execution_count": 16,
     "metadata": {},
     "output_type": "execute_result"
    }
   ],
   "source": [
    "reduced.shape"
   ]
  },
  {
   "cell_type": "code",
   "execution_count": 17,
   "metadata": {},
   "outputs": [
    {
     "data": {
      "text/plain": [
       "tensor([[0.4018],\n",
       "        [0.2643],\n",
       "        [0.0500],\n",
       "        [0.0631]], grad_fn=<AddmmBackward0>)"
      ]
     },
     "execution_count": 17,
     "metadata": {},
     "output_type": "execute_result"
    }
   ],
   "source": [
    "gate = torch.nn.Linear(dm, 1)\n",
    "\n",
    "gate(reduced)\n"
   ]
  },
  {
   "cell_type": "code",
   "execution_count": null,
   "metadata": {},
   "outputs": [],
   "source": []
  }
 ],
 "metadata": {
  "kernelspec": {
   "display_name": "venv",
   "language": "python",
   "name": "python3"
  },
  "language_info": {
   "codemirror_mode": {
    "name": "ipython",
    "version": 3
   },
   "file_extension": ".py",
   "mimetype": "text/x-python",
   "name": "python",
   "nbconvert_exporter": "python",
   "pygments_lexer": "ipython3",
   "version": "3.11.7"
  }
 },
 "nbformat": 4,
 "nbformat_minor": 2
}
