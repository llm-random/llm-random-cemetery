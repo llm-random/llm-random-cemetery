{
 "cells": [
  {
   "cell_type": "code",
   "execution_count": 1,
   "metadata": {},
   "outputs": [],
   "source": [
    "#"
   ]
  },
  {
   "cell_type": "code",
   "execution_count": 15,
   "metadata": {},
   "outputs": [],
   "source": [
    "from dataclasses import dataclass\n",
    "from typing import List\n",
    "import numpy as np\n",
    "\n",
    "\n",
    "class ScheduleInterval:\n",
    "    def __init__(self, percent, schedule_type, multipliers, seq_len, total_steps):\n",
    "        multipliers = [float(m) for m in multipliers.split(\"-\")]\n",
    "        percent = int(percent)\n",
    "        self.validate_params(percent, schedule_type, multipliers)\n",
    "\n",
    "        self.steps = round(int(percent) / 100 * total_steps)\n",
    "        self.schedule_type = schedule_type\n",
    "        self.interval_endpoints = [round(m * seq_len) - seq_len for m in multipliers]\n",
    "\n",
    "    def validate_params(self, percent, schedule_type, multipliers):\n",
    "        if not (0 < percent <= 100):\n",
    "            raise ValueError(f\"Percent must be between 1 and 100, got {percent}\")\n",
    "\n",
    "        if schedule_type == \"const\" and len(multipliers) != 1:\n",
    "            raise ValueError(\n",
    "                f\"Const type should have exactly one multiplier, got {len(multipliers)}\"\n",
    "            )\n",
    "        elif schedule_type in [\"lin\", \"cos\"] and len(multipliers) != 2:\n",
    "            raise ValueError(\n",
    "                f\"{schedule_type.value} type should have exactly two multipliers, got {len(multipliers)}\"\n",
    "            )\n",
    "        elif schedule_type not in [\"const\", \"lin\", \"cos\"]:\n",
    "            raise ValueError(\n",
    "                f\"Unknown schedule type: {schedule_type}. Should be one of 'const', 'lin', 'cos'\"\n",
    "            )\n",
    "\n",
    "        for m in multipliers:\n",
    "            assert m >= 1 and m <= 5, \"Multiplier should be between 1 and 5\"\n",
    "\n",
    "\n",
    "class TokenReductionScheduler:\n",
    "    def __init__(self, total_steps, seq_len, schedule_str):\n",
    "        self.total_steps = total_steps\n",
    "        self.seq_len = seq_len\n",
    "        self.schedule_steps = self._parse_schedule(schedule_str)\n",
    "        self.current_step = 0\n",
    "\n",
    "    def _parse_schedule(self, schedule_str):\n",
    "        schedule_steps = []\n",
    "        intervals = schedule_str.split(\";\")\n",
    "\n",
    "        total_percent = 0\n",
    "\n",
    "        for interval in intervals:\n",
    "            split_interval = interval.split(\"_\")\n",
    "\n",
    "            if len(split_interval) != 3:\n",
    "                raise ValueError(\n",
    "                    f\"Interval parameter should have form <percentage>_<type>_<multiplier/s>: {interval}\"\n",
    "                )\n",
    "\n",
    "            percent, schedule_type, multipliers = split_interval\n",
    "            schedule_step = ScheduleInterval(\n",
    "                percent, schedule_type, multipliers, self.seq_len, self.total_steps\n",
    "            )\n",
    "            schedule_steps.append(schedule_step)\n",
    "            total_percent += int(percent)\n",
    "\n",
    "        if total_percent != 100:\n",
    "            raise ValueError(\"Total percent of all intervals must equal 100\")\n",
    "\n",
    "        return schedule_steps\n",
    "\n",
    "    def set_step(self, new_step):\n",
    "        self.current_step = new_step\n",
    "\n",
    "    def _linear_schedule(self, progress, interval_endpoints):\n",
    "        return interval_endpoints[0] + progress * (\n",
    "            interval_endpoints[1] - interval_endpoints[0]\n",
    "        )\n",
    "\n",
    "    def _cosine_schedule(self, progress, interval_endpoints):\n",
    "        return interval_endpoints[0] + (1 - np.cos(progress * np.pi)) / 2 * (\n",
    "            interval_endpoints[1] - interval_endpoints[0]\n",
    "        )\n",
    "\n",
    "    @property\n",
    "    def value(self):\n",
    "        sum_steps = 0\n",
    "        for schedule_step in self.schedule_steps:\n",
    "            if self.current_step < sum_steps + schedule_step.steps:\n",
    "                progress = (self.current_step - sum_steps) / schedule_step.steps\n",
    "                if schedule_step.schedule_type == \"const\":\n",
    "                    return schedule_step.interval_endpoints[0]\n",
    "                elif schedule_step.schedule_type == \"lin\":\n",
    "                    return self._linear_schedule(\n",
    "                        progress, schedule_step.interval_endpoints\n",
    "                    )\n",
    "                elif schedule_step.schedule_type == \"cos\":\n",
    "                    return self._cosine_schedule(\n",
    "                        progress, schedule_step.interval_endpoints\n",
    "                    )\n",
    "            sum_steps += schedule_step.steps\n",
    "\n",
    "        return 0\n",
    "\n",
    "\n",
    "# Example usage\n",
    "total_steps = 100\n",
    "seq_len = 32\n",
    "# schedule_str = \"45_const_1.1;45_lin_1.3-1.4;10_const_1.0\"\n",
    "schedule_str = \"45_const_1.7;45_cos_1.7-1.3;10_const_1.2\"\n",
    "scheduler = TokenReductionScheduler(total_steps, seq_len, schedule_str)"
   ]
  },
  {
   "cell_type": "code",
   "execution_count": 27,
   "metadata": {},
   "outputs": [],
   "source": [
    "heh = []\n",
    "for i in range(total_steps):\n",
    "    scheduler.set_step(i)\n",
    "    heh.append(scheduler.value)"
   ]
  },
  {
   "cell_type": "code",
   "execution_count": 28,
   "metadata": {},
   "outputs": [
    {
     "data": {
      "text/plain": [
       "[<matplotlib.lines.Line2D at 0x119539390>]"
      ]
     },
     "execution_count": 28,
     "metadata": {},
     "output_type": "execute_result"
    },
    {
     "data": {
      "image/png": "[encoded data removed]",
      "text/plain": [
       "<Figure size 640x480 with 1 Axes>"
      ]
     },
     "metadata": {},
     "output_type": "display_data"
    }
   ],
   "source": [
    "import matplotlib.pyplot as plt\n",
    "\n",
    "plt.plot(heh)"
   ]
  },
  {
   "cell_type": "code",
   "execution_count": 30,
   "metadata": {},
   "outputs": [
    {
     "ename": "ValueError",
     "evalue": "Interval parameter should have form <percentage>_<type>_<multiplier/s>: 45_cos0.33-1",
     "output_type": "error",
     "traceback": [
      "\u001b[0;31m---------------------------------------------------------------------------\u001b[0m",
      "\u001b[0;31mValueError\u001b[0m                                Traceback (most recent call last)",
      "Cell \u001b[0;32mIn[30], line 5\u001b[0m\n\u001b[1;32m      3\u001b[0m seq_len \u001b[38;5;241m=\u001b[39m \u001b[38;5;241m24\u001b[39m\n\u001b[1;32m      4\u001b[0m schedule_str \u001b[38;5;241m=\u001b[39m \u001b[38;5;124m\"\u001b[39m\u001b[38;5;124m45_const_1.33;45_cos0.33-1;10_const_1\u001b[39m\u001b[38;5;124m\"\u001b[39m\n\u001b[0;32m----> 5\u001b[0m scheduler \u001b[38;5;241m=\u001b[39m \u001b[43mTokenReductionScheduler\u001b[49m\u001b[43m(\u001b[49m\u001b[43mtotal_steps\u001b[49m\u001b[43m,\u001b[49m\u001b[43m \u001b[49m\u001b[43mseq_len\u001b[49m\u001b[43m,\u001b[49m\u001b[43m \u001b[49m\u001b[43mschedule_str\u001b[49m\u001b[43m)\u001b[49m\n",
      "Cell \u001b[0;32mIn[15], line 41\u001b[0m, in \u001b[0;36mTokenReductionScheduler.__init__\u001b[0;34m(self, total_steps, seq_len, schedule_str)\u001b[0m\n\u001b[1;32m     39\u001b[0m \u001b[38;5;28mself\u001b[39m\u001b[38;5;241m.\u001b[39mtotal_steps \u001b[38;5;241m=\u001b[39m total_steps\n\u001b[1;32m     40\u001b[0m \u001b[38;5;28mself\u001b[39m\u001b[38;5;241m.\u001b[39mseq_len \u001b[38;5;241m=\u001b[39m seq_len\n\u001b[0;32m---> 41\u001b[0m \u001b[38;5;28mself\u001b[39m\u001b[38;5;241m.\u001b[39mschedule_steps \u001b[38;5;241m=\u001b[39m \u001b[38;5;28;43mself\u001b[39;49m\u001b[38;5;241;43m.\u001b[39;49m\u001b[43m_parse_schedule\u001b[49m\u001b[43m(\u001b[49m\u001b[43mschedule_str\u001b[49m\u001b[43m)\u001b[49m\n\u001b[1;32m     42\u001b[0m \u001b[38;5;28mself\u001b[39m\u001b[38;5;241m.\u001b[39mcurrent_step \u001b[38;5;241m=\u001b[39m \u001b[38;5;241m0\u001b[39m\n",
      "Cell \u001b[0;32mIn[15], line 54\u001b[0m, in \u001b[0;36mTokenReductionScheduler._parse_schedule\u001b[0;34m(self, schedule_str)\u001b[0m\n\u001b[1;32m     51\u001b[0m split_interval \u001b[38;5;241m=\u001b[39m interval\u001b[38;5;241m.\u001b[39msplit(\u001b[38;5;124m\"\u001b[39m\u001b[38;5;124m_\u001b[39m\u001b[38;5;124m\"\u001b[39m)\n\u001b[1;32m     53\u001b[0m \u001b[38;5;28;01mif\u001b[39;00m \u001b[38;5;28mlen\u001b[39m(split_interval) \u001b[38;5;241m!=\u001b[39m \u001b[38;5;241m3\u001b[39m:\n\u001b[0;32m---> 54\u001b[0m     \u001b[38;5;28;01mraise\u001b[39;00m \u001b[38;5;167;01mValueError\u001b[39;00m(\n\u001b[1;32m     55\u001b[0m         \u001b[38;5;124mf\u001b[39m\u001b[38;5;124m\"\u001b[39m\u001b[38;5;124mInterval parameter should have form <percentage>_<type>_<multiplier/s>: \u001b[39m\u001b[38;5;132;01m{\u001b[39;00minterval\u001b[38;5;132;01m}\u001b[39;00m\u001b[38;5;124m\"\u001b[39m\n\u001b[1;32m     56\u001b[0m     )\n\u001b[1;32m     58\u001b[0m percent, schedule_type, multipliers \u001b[38;5;241m=\u001b[39m split_interval\n\u001b[1;32m     59\u001b[0m schedule_step \u001b[38;5;241m=\u001b[39m ScheduleInterval(\n\u001b[1;32m     60\u001b[0m     percent, schedule_type, multipliers, \u001b[38;5;28mself\u001b[39m\u001b[38;5;241m.\u001b[39mseq_len, \u001b[38;5;28mself\u001b[39m\u001b[38;5;241m.\u001b[39mtotal_steps\n\u001b[1;32m     61\u001b[0m )\n",
      "\u001b[0;31mValueError\u001b[0m: Interval parameter should have form <percentage>_<type>_<multiplier/s>: 45_cos0.33-1"
     ]
    }
   ],
   "source": [
    "# Example usage\n",
    "total_steps = 1000\n",
    "seq_len = 24\n",
    "schedule_str = \"45_const_1.33;45_cos_1.33-1;10_const_1\"\n",
    "scheduler = TokenReductionScheduler(total_steps, seq_len, schedule_str)"
   ]
  },
  {
   "cell_type": "code",
   "execution_count": 1,
   "metadata": {},
   "outputs": [],
   "source": [
    "import torch"
   ]
  },
  {
   "cell_type": "code",
   "execution_count": 19,
   "metadata": {},
   "outputs": [
    {
     "data": {
      "text/plain": [
       "6"
      ]
     },
     "execution_count": 19,
     "metadata": {},
     "output_type": "execute_result"
    }
   ],
   "source": [
    "def make_droppable_available_tokens(\n",
    "    token_inputs, result_seq_len, n_tokens_to_reduce, droppable_eot_id=False\n",
    "):\n",
    "    for tokens in token_inputs:\n",
    "        (tokens[: result_seq_len + n_tokens_to_reduce] == GPT_EOT_ID).nonzero()"
   ]
  },
  {
   "cell_type": "code",
   "execution_count": 15,
   "metadata": {},
   "outputs": [],
   "source": [
    "batch_size = 4\n",
    "seq_len = 32\n",
    "dm = 8\n",
    "low, high = 0, 10\n",
    "token_inputs = torch.randint(low, high, (batch_size, seq_len))"
   ]
  },
  {
   "cell_type": "code",
   "execution_count": 40,
   "metadata": {},
   "outputs": [],
   "source": [
    "GPT_EOT_ID = 7\n",
    "\n",
    "\n",
    "def make_available_tokens_without_eot_id(\n",
    "    token_inputs, result_seq_len, n_tokens_to_reduce, eot_id\n",
    "):\n",
    "    droppable_ids, saved_ids = [], []\n",
    "    for tokens in token_inputs:\n",
    "        droppable_tokens_mask = tokens[: result_seq_len + n_tokens_to_reduce] != eot_id\n",
    "        droppable_ids.append(droppable_tokens_mask.nonzero(as_tuple=True)[0])\n",
    "        saved_ids.append((~droppable_tokens_mask).nonzero(as_tuple=True)[0])\n",
    "    return droppable_ids, saved_ids\n",
    "\n"
   ]
  },
  {
   "cell_type": "code",
   "execution_count": 41,
   "metadata": {},
   "outputs": [],
   "source": [
    "droppable_ids, saved_ids = make_droppable_available_tokens(\n",
    "    token_inputs, result_seq_len=24, n_tokens_to_reduce=6, eot_id=GPT_EOT_ID\n",
    ")"
   ]
  },
  {
   "cell_type": "code",
   "execution_count": 42,
   "metadata": {},
   "outputs": [
    {
     "data": {
      "text/plain": [
       "([tensor([ 0,  1,  2,  3,  4,  5,  6,  7,  8,  9, 10, 11, 12, 13, 14, 15, 16, 17,\n",
       "          18, 19, 20, 21, 22, 23, 24, 25, 26, 27, 28, 29]),\n",
       "  tensor([ 1,  2,  4,  5,  7,  8,  9, 10, 11, 13, 14, 15, 17, 18, 20, 21, 22, 23,\n",
       "          24, 25, 26, 27, 28, 29]),\n",
       "  tensor([ 0,  1,  2,  3,  4,  6,  7,  9, 10, 11, 12, 14, 15, 16, 17, 18, 19, 20,\n",
       "          21, 22, 23, 24, 25, 26, 27, 28, 29]),\n",
       "  tensor([ 0,  1,  2,  3,  4,  5,  6,  7,  8,  9, 10, 11, 12, 13, 14, 15, 16, 18,\n",
       "          19, 20, 21, 22, 24, 25, 26, 27, 28, 29])],\n",
       " [tensor([], dtype=torch.int64),\n",
       "  tensor([ 0,  3,  6, 12, 16, 19]),\n",
       "  tensor([ 5,  8, 13]),\n",
       "  tensor([17, 23])])"
      ]
     },
     "execution_count": 42,
     "metadata": {},
     "output_type": "execute_result"
    }
   ],
   "source": [
    "droppable_ids, saved_ids"
   ]
  },
  {
   "cell_type": "code",
   "execution_count": 43,
   "metadata": {},
   "outputs": [],
   "source": [
    "available_ids = [[1, 2, 3, 4, 5, 6, 7, 8, 9, 10], [1, 2, 3, 4, 8, 9, 10]]\n",
    "random_orders = [\n",
    "    torch.randperm(len(ids)) for ids in available_ids\n",
    "]\n",
    "# pairs = [\n",
    "#     (\n",
    "#         available_ids[order])\n",
    "#         available_ids[:n_tokens_to_reduce],\n",
    "#     )\n",
    "#     for order in random_orders\n",
    "# ]\n"
   ]
  },
  {
   "cell_type": "code",
   "execution_count": 44,
   "metadata": {},
   "outputs": [
    {
     "data": {
      "text/plain": [
       "[tensor([1, 9, 3, 8, 2, 4, 0, 5, 6, 7]), tensor([4, 6, 3, 5, 0, 2, 1])]"
      ]
     },
     "execution_count": 44,
     "metadata": {},
     "output_type": "execute_result"
    }
   ],
   "source": [
    "random_orders"
   ]
  },
  {
   "cell_type": "code",
   "execution_count": 45,
   "metadata": {},
   "outputs": [
    {
     "data": {
      "text/plain": [
       "tensor([ 3, 11,  5, 10,  4,  6,  2,  7,  8,  9])"
      ]
     },
     "execution_count": 45,
     "metadata": {},
     "output_type": "execute_result"
    }
   ],
   "source": [
    "ehtte = torch.tensor([2, 3, 4, 5, 6, 7, 8, 9, 10, 11])\n",
    "ehtte[random_orders[0]]"
   ]
  },
  {
   "cell_type": "code",
   "execution_count": null,
   "metadata": {},
   "outputs": [],
   "source": []
  }
 ],
 "metadata": {
  "kernelspec": {
   "display_name": "venv",
   "language": "python",
   "name": "python3"
  },
  "language_info": {
   "codemirror_mode": {
    "name": "ipython",
    "version": 3
   },
   "file_extension": ".py",
   "mimetype": "text/x-python",
   "name": "python",
   "nbconvert_exporter": "python",
   "pygments_lexer": "ipython3",
   "version": "3.11.7"
  }
 },
 "nbformat": 4,
 "nbformat_minor": 2
}
