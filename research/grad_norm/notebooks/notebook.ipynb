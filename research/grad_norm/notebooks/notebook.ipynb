{
 "cells": [
  {
   "cell_type": "code",
   "execution_count": 1,
   "metadata": {},
   "outputs": [],
   "source": [
    "import neptune\n",
    "import pandas as pd\n",
    "from typing import List, Dict\n",
    "from functools import partial\n",
    "import plotly.express as px"
   ]
  },
  {
   "cell_type": "code",
   "execution_count": 2,
   "metadata": {},
   "outputs": [
    {
     "name": "stdout",
     "output_type": "stream",
     "text": [
      "https://app.neptune.ai/pmtest/llm-random/\n"
     ]
    }
   ],
   "source": [
    "project = neptune.init_project(\n",
    "    project=\"pmtest/llm-random\", \n",
    "    mode=\"read-only\",\n",
    ")"
   ]
  },
  {
   "cell_type": "markdown",
   "metadata": {},
   "source": [
    "#### Plot loss vs c hparam in post_add, std_norm v1 model"
   ]
  },
  {
   "cell_type": "code",
   "execution_count": 3,
   "metadata": {},
   "outputs": [],
   "source": [
    "def fetch_runs_table_add_series(df: pd.DataFrame, neptune_series: List[str]) -> pd.DataFrame:\n",
    "    records = []\n",
    "    for _, row in df.iterrows():\n",
    "        sys_id = row[\"sys/id\"]\n",
    "        series_row = [sys_id]\n",
    "        run = neptune.init_run(with_id=sys_id, mode=\"read-only\")\n",
    "        for series in neptune_series:\n",
    "            step_value = run[series].fetch_values()\n",
    "            series_row.append([{'step': s, 'value': v} for s, v in zip(step_value.step, step_value.value)])\n",
    "        records.append(series_row)\n",
    "    \n",
    "    extrend_df = pd.DataFrame(records, columns=[\"sys/id\"] + neptune_series)\n",
    "    return pd.merge(df, extrend_df, on=\"sys/id\")\n",
    "        "
   ]
  },
  {
   "cell_type": "code",
   "execution_count": 4,
   "metadata": {},
   "outputs": [
    {
     "name": "stdout",
     "output_type": "stream",
     "text": [
      "https://app.neptune.ai/pmtest/llm-random/e/LLMRANDOM-13949\n",
      "https://app.neptune.ai/pmtest/llm-random/e/LLMRANDOM-13813\n",
      "https://app.neptune.ai/pmtest/llm-random/e/LLMRANDOM-13812\n",
      "https://app.neptune.ai/pmtest/llm-random/e/LLMRANDOM-13807\n",
      "https://app.neptune.ai/pmtest/llm-random/e/LLMRANDOM-13806\n",
      "https://app.neptune.ai/pmtest/llm-random/e/LLMRANDOM-13756\n"
     ]
    }
   ],
   "source": [
    "\n",
    "run_df = project.fetch_runs_table(\n",
    "    id=[\"LLMRANDOM-13806\", \"LLMRANDOM-13949\", \"LLMRANDOM-13813\", \"LMRANDOM-13812\", \"LLMRANDOM-13807\", \"LLMRANDOM-13756\", \"LLMRANDOM-13812\"],\n",
    "    columns=['sys/failed', 'sys/id', 'sys/name']\n",
    "    ).to_pandas()\n",
    "\n",
    "extended_df = fetch_runs_table_add_series(run_df, [\"loss\"])"
   ]
  },
  {
   "cell_type": "code",
   "execution_count": 5,
   "metadata": {},
   "outputs": [
    {
     "data": {
      "text/html": [
       "<div>\n",
       "<style scoped>\n",
       "    .dataframe tbody tr th:only-of-type {\n",
       "        vertical-align: middle;\n",
       "    }\n",
       "\n",
       "    .dataframe tbody tr th {\n",
       "        vertical-align: top;\n",
       "    }\n",
       "\n",
       "    .dataframe thead th {\n",
       "        text-align: right;\n",
       "    }\n",
       "</style>\n",
       "<table border=\"1\" class=\"dataframe\">\n",
       "  <thead>\n",
       "    <tr style=\"text-align: right;\">\n",
       "      <th></th>\n",
       "      <th>sys/failed</th>\n",
       "      <th>sys/id</th>\n",
       "      <th>sys/name</th>\n",
       "      <th>loss</th>\n",
       "    </tr>\n",
       "  </thead>\n",
       "  <tbody>\n",
       "    <tr>\n",
       "      <th>0</th>\n",
       "      <td>False</td>\n",
       "      <td>LLMRANDOM-13949</td>\n",
       "      <td>gn_c_grid_exp_4_post_add_v1_c_neg_0_1 medium_g...</td>\n",
       "      <td>[{'step': 160.0, 'value': 8.784871664643287}, ...</td>\n",
       "    </tr>\n",
       "    <tr>\n",
       "      <th>1</th>\n",
       "      <td>False</td>\n",
       "      <td>LLMRANDOM-13813</td>\n",
       "      <td>gn_c_grid_exp_0_post_add_v1_c_0_8 medium_grad_...</td>\n",
       "      <td>[{'step': 160.0, 'value': 9.31532644033432}, {...</td>\n",
       "    </tr>\n",
       "    <tr>\n",
       "      <th>2</th>\n",
       "      <td>False</td>\n",
       "      <td>LLMRANDOM-13812</td>\n",
       "      <td>gn_c_grid_exp_0_post_add_v1_c_0_6 medium_grad_...</td>\n",
       "      <td>[{'step': 160.0, 'value': 9.319578731060028}, ...</td>\n",
       "    </tr>\n",
       "    <tr>\n",
       "      <th>3</th>\n",
       "      <td>False</td>\n",
       "      <td>LLMRANDOM-13807</td>\n",
       "      <td>gn_c_grid_exp_0_post_add_v1_c_0_2 medium_grad_...</td>\n",
       "      <td>[{'step': 160.0, 'value': 9.175372809171677}, ...</td>\n",
       "    </tr>\n",
       "    <tr>\n",
       "      <th>4</th>\n",
       "      <td>False</td>\n",
       "      <td>LLMRANDOM-13806</td>\n",
       "      <td>std_grad_norm_sanity_check medium_grad_norm_st...</td>\n",
       "      <td>[{'step': 160.0, 'value': 8.435521373152733}, ...</td>\n",
       "    </tr>\n",
       "    <tr>\n",
       "      <th>5</th>\n",
       "      <td>False</td>\n",
       "      <td>LLMRANDOM-13756</td>\n",
       "      <td>grad_norm_formulas_exp_9_post_add_v1 medium_gr...</td>\n",
       "      <td>[{'step': 160.0, 'value': 9.322496002912521}, ...</td>\n",
       "    </tr>\n",
       "  </tbody>\n",
       "</table>\n",
       "</div>"
      ],
      "text/plain": [
       "   sys/failed           sys/id  \\\n",
       "0       False  LLMRANDOM-13949   \n",
       "1       False  LLMRANDOM-13813   \n",
       "2       False  LLMRANDOM-13812   \n",
       "3       False  LLMRANDOM-13807   \n",
       "4       False  LLMRANDOM-13806   \n",
       "5       False  LLMRANDOM-13756   \n",
       "\n",
       "                                            sys/name  \\\n",
       "0  gn_c_grid_exp_4_post_add_v1_c_neg_0_1 medium_g...   \n",
       "1  gn_c_grid_exp_0_post_add_v1_c_0_8 medium_grad_...   \n",
       "2  gn_c_grid_exp_0_post_add_v1_c_0_6 medium_grad_...   \n",
       "3  gn_c_grid_exp_0_post_add_v1_c_0_2 medium_grad_...   \n",
       "4  std_grad_norm_sanity_check medium_grad_norm_st...   \n",
       "5  grad_norm_formulas_exp_9_post_add_v1 medium_gr...   \n",
       "\n",
       "                                                loss  \n",
       "0  [{'step': 160.0, 'value': 8.784871664643287}, ...  \n",
       "1  [{'step': 160.0, 'value': 9.31532644033432}, {...  \n",
       "2  [{'step': 160.0, 'value': 9.319578731060028}, ...  \n",
       "3  [{'step': 160.0, 'value': 9.175372809171677}, ...  \n",
       "4  [{'step': 160.0, 'value': 8.435521373152733}, ...  \n",
       "5  [{'step': 160.0, 'value': 9.322496002912521}, ...  "
      ]
     },
     "execution_count": 5,
     "metadata": {},
     "output_type": "execute_result"
    }
   ],
   "source": [
    "extended_df"
   ]
  },
  {
   "cell_type": "code",
   "execution_count": 6,
   "metadata": {},
   "outputs": [],
   "source": [
    "step_intersection = set(map(lambda x: x['step'], extended_df.iloc[0]['loss']))\n",
    "for steps in extended_df[\"loss\"]:\n",
    "    step_intersection = step_intersection.intersection(set(map(lambda x: x['step'], steps)))\n",
    "\n",
    "cmp_step = int(max(step_intersection))"
   ]
  },
  {
   "cell_type": "code",
   "execution_count": 7,
   "metadata": {},
   "outputs": [],
   "source": [
    "def find_matching_step_idx(steps: List[Dict[str, float]], cmp_step: float) -> int:\n",
    "    for i, step in enumerate(steps):\n",
    "        if step['step'] == cmp_step:\n",
    "            return i"
   ]
  },
  {
   "cell_type": "code",
   "execution_count": 8,
   "metadata": {},
   "outputs": [],
   "source": [
    "extended_df['cmp_loss_idx'] = extended_df['loss'].apply(partial(find_matching_step_idx, cmp_step=cmp_step))"
   ]
  },
  {
   "cell_type": "code",
   "execution_count": 9,
   "metadata": {},
   "outputs": [],
   "source": [
    "extended_df[f'loss_{cmp_step}'] = extended_df.apply(lambda x: x['loss'][x.cmp_loss_idx]['value'], axis=1)"
   ]
  },
  {
   "cell_type": "code",
   "execution_count": 10,
   "metadata": {},
   "outputs": [
    {
     "data": {
      "text/plain": [
       "['gn_c_grid_exp_4_post_add_v1_c_neg_0_1 medium_grad_norm_std_norm_post_add_v1_c_grid 24_09-12_09:57:11ng',\n",
       " 'gn_c_grid_exp_0_post_add_v1_c_0_8 medium_grad_norm_std_norm_post_add_v1_c_grid 24_09-11_23:43:56SQ',\n",
       " 'gn_c_grid_exp_0_post_add_v1_c_0_6 medium_grad_norm_std_norm_post_add_v1_c_grid 24_09-11_23:43:56iQ',\n",
       " 'gn_c_grid_exp_0_post_add_v1_c_0_2 medium_grad_norm_std_norm_post_add_v1_c_grid 24_09-11_19:45:35XQ',\n",
       " 'std_grad_norm_sanity_check medium_grad_norm_std_norm_all_sanity_check 24_09-11_19:21:046g',\n",
       " 'grad_norm_formulas_exp_9_post_add_v1 medium_grad_norm_std_norm_post_add_v1 24_09-10_12:47:15Ug']"
      ]
     },
     "execution_count": 10,
     "metadata": {},
     "output_type": "execute_result"
    }
   ],
   "source": [
    "list(extended_df['sys/name'])"
   ]
  },
  {
   "cell_type": "code",
   "execution_count": 11,
   "metadata": {},
   "outputs": [],
   "source": [
    "name_c_map = {\n",
    "    'gn_c_grid_exp_4_post_add_v1_c_neg_0_1 medium_grad_norm_std_norm_post_add_v1_c_grid 24_09-12_09:57:11ng': -0.1,\n",
    "    'gn_c_grid_exp_0_post_add_v1_c_0_8 medium_grad_norm_std_norm_post_add_v1_c_grid 24_09-11_23:43:56SQ': 0.8,\n",
    "    'gn_c_grid_exp_0_post_add_v1_c_0_6 medium_grad_norm_std_norm_post_add_v1_c_grid 24_09-11_23:43:56iQ': 0.6,\n",
    "    'gn_c_grid_exp_0_post_add_v1_c_0_2 medium_grad_norm_std_norm_post_add_v1_c_grid 24_09-11_19:45:35XQ': 0.2,\n",
    "    'std_grad_norm_sanity_check medium_grad_norm_std_norm_all_sanity_check 24_09-11_19:21:046g': 0.0,\n",
    "    'grad_norm_formulas_exp_9_post_add_v1 medium_grad_norm_std_norm_post_add_v1 24_09-10_12:47:15Ug': 1.0\n",
    "}\n",
    "\n",
    "extended_df['c'] = extended_df['sys/name'].apply(lambda x: name_c_map[x])"
   ]
  },
  {
   "cell_type": "code",
   "execution_count": 12,
   "metadata": {},
   "outputs": [
    {
     "data": {
      "application/vnd.plotly.v1+json": {
       "config": {
        "plotlyServerURL": "https://plot.ly"
       },
       "data": [
        {
         "hovertemplate": "c=%{x}<br>loss_6560=%{y}<br>sys/id=%{text}<extra></extra>",
         "legendgroup": "",
         "line": {
          "color": "#636efa",
          "dash": "solid"
         },
         "marker": {
          "symbol": "circle"
         },
         "mode": "lines+markers+text",
         "name": "",
         "orientation": "v",
         "showlegend": false,
         "text": [
          "LLMRANDOM-13949",
          "LLMRANDOM-13806",
          "LLMRANDOM-13807",
          "LLMRANDOM-13812",
          "LLMRANDOM-13813",
          "LLMRANDOM-13756"
         ],
         "textposition": "bottom right",
         "type": "scatter",
         "x": [
          -0.1,
          0,
          0.2,
          0.6,
          0.8,
          1
         ],
         "xaxis": "x",
         "y": [
          5.455105710029602,
          4.8238395869731905,
          5.510652562975883,
          5.635988053679466,
          5.658119487762451,
          5.698397067189217
         ],
         "yaxis": "y"
        }
       ],
       "layout": {
        "legend": {
         "tracegroupgap": 0
        },
        "template": {
         "data": {
          "bar": [
           {
            "error_x": {
             "color": "#2a3f5f"
            },
            "error_y": {
             "color": "#2a3f5f"
            },
            "marker": {
             "line": {
              "color": "#E5ECF6",
              "width": 0.5
             },
             "pattern": {
              "fillmode": "overlay",
              "size": 10,
              "solidity": 0.2
             }
            },
            "type": "bar"
           }
          ],
          "barpolar": [
           {
            "marker": {
             "line": {
              "color": "#E5ECF6",
              "width": 0.5
             },
             "pattern": {
              "fillmode": "overlay",
              "size": 10,
              "solidity": 0.2
             }
            },
            "type": "barpolar"
           }
          ],
          "carpet": [
           {
            "aaxis": {
             "endlinecolor": "#2a3f5f",
             "gridcolor": "white",
             "linecolor": "white",
             "minorgridcolor": "white",
             "startlinecolor": "#2a3f5f"
            },
            "baxis": {
             "endlinecolor": "#2a3f5f",
             "gridcolor": "white",
             "linecolor": "white",
             "minorgridcolor": "white",
             "startlinecolor": "#2a3f5f"
            },
            "type": "carpet"
           }
          ],
          "choropleth": [
           {
            "colorbar": {
             "outlinewidth": 0,
             "ticks": ""
            },
            "type": "choropleth"
           }
          ],
          "contour": [
           {
            "colorbar": {
             "outlinewidth": 0,
             "ticks": ""
            },
            "colorscale": [
             [
              0,
              "#0d0887"
             ],
             [
              0.1111111111111111,
              "#46039f"
             ],
             [
              0.2222222222222222,
              "#7201a8"
             ],
             [
              0.3333333333333333,
              "#9c179e"
             ],
             [
              0.4444444444444444,
              "#bd3786"
             ],
             [
              0.5555555555555556,
              "#d8576b"
             ],
             [
              0.6666666666666666,
              "#ed7953"
             ],
             [
              0.7777777777777778,
              "#fb9f3a"
             ],
             [
              0.8888888888888888,
              "#fdca26"
             ],
             [
              1,
              "#f0f921"
             ]
            ],
            "type": "contour"
           }
          ],
          "contourcarpet": [
           {
            "colorbar": {
             "outlinewidth": 0,
             "ticks": ""
            },
            "type": "contourcarpet"
           }
          ],
          "heatmap": [
           {
            "colorbar": {
             "outlinewidth": 0,
             "ticks": ""
            },
            "colorscale": [
             [
              0,
              "#0d0887"
             ],
             [
              0.1111111111111111,
              "#46039f"
             ],
             [
              0.2222222222222222,
              "#7201a8"
             ],
             [
              0.3333333333333333,
              "#9c179e"
             ],
             [
              0.4444444444444444,
              "#bd3786"
             ],
             [
              0.5555555555555556,
              "#d8576b"
             ],
             [
              0.6666666666666666,
              "#ed7953"
             ],
             [
              0.7777777777777778,
              "#fb9f3a"
             ],
             [
              0.8888888888888888,
              "#fdca26"
             ],
             [
              1,
              "#f0f921"
             ]
            ],
            "type": "heatmap"
           }
          ],
          "heatmapgl": [
           {
            "colorbar": {
             "outlinewidth": 0,
             "ticks": ""
            },
            "colorscale": [
             [
              0,
              "#0d0887"
             ],
             [
              0.1111111111111111,
              "#46039f"
             ],
             [
              0.2222222222222222,
              "#7201a8"
             ],
             [
              0.3333333333333333,
              "#9c179e"
             ],
             [
              0.4444444444444444,
              "#bd3786"
             ],
             [
              0.5555555555555556,
              "#d8576b"
             ],
             [
              0.6666666666666666,
              "#ed7953"
             ],
             [
              0.7777777777777778,
              "#fb9f3a"
             ],
             [
              0.8888888888888888,
              "#fdca26"
             ],
             [
              1,
              "#f0f921"
             ]
            ],
            "type": "heatmapgl"
           }
          ],
          "histogram": [
           {
            "marker": {
             "pattern": {
              "fillmode": "overlay",
              "size": 10,
              "solidity": 0.2
             }
            },
            "type": "histogram"
           }
          ],
          "histogram2d": [
           {
            "colorbar": {
             "outlinewidth": 0,
             "ticks": ""
            },
            "colorscale": [
             [
              0,
              "#0d0887"
             ],
             [
              0.1111111111111111,
              "#46039f"
             ],
             [
              0.2222222222222222,
              "#7201a8"
             ],
             [
              0.3333333333333333,
              "#9c179e"
             ],
             [
              0.4444444444444444,
              "#bd3786"
             ],
             [
              0.5555555555555556,
              "#d8576b"
             ],
             [
              0.6666666666666666,
              "#ed7953"
             ],
             [
              0.7777777777777778,
              "#fb9f3a"
             ],
             [
              0.8888888888888888,
              "#fdca26"
             ],
             [
              1,
              "#f0f921"
             ]
            ],
            "type": "histogram2d"
           }
          ],
          "histogram2dcontour": [
           {
            "colorbar": {
             "outlinewidth": 0,
             "ticks": ""
            },
            "colorscale": [
             [
              0,
              "#0d0887"
             ],
             [
              0.1111111111111111,
              "#46039f"
             ],
             [
              0.2222222222222222,
              "#7201a8"
             ],
             [
              0.3333333333333333,
              "#9c179e"
             ],
             [
              0.4444444444444444,
              "#bd3786"
             ],
             [
              0.5555555555555556,
              "#d8576b"
             ],
             [
              0.6666666666666666,
              "#ed7953"
             ],
             [
              0.7777777777777778,
              "#fb9f3a"
             ],
             [
              0.8888888888888888,
              "#fdca26"
             ],
             [
              1,
              "#f0f921"
             ]
            ],
            "type": "histogram2dcontour"
           }
          ],
          "mesh3d": [
           {
            "colorbar": {
             "outlinewidth": 0,
             "ticks": ""
            },
            "type": "mesh3d"
           }
          ],
          "parcoords": [
           {
            "line": {
             "colorbar": {
              "outlinewidth": 0,
              "ticks": ""
             }
            },
            "type": "parcoords"
           }
          ],
          "pie": [
           {
            "automargin": true,
            "type": "pie"
           }
          ],
          "scatter": [
           {
            "fillpattern": {
             "fillmode": "overlay",
             "size": 10,
             "solidity": 0.2
            },
            "type": "scatter"
           }
          ],
          "scatter3d": [
           {
            "line": {
             "colorbar": {
              "outlinewidth": 0,
              "ticks": ""
             }
            },
            "marker": {
             "colorbar": {
              "outlinewidth": 0,
              "ticks": ""
             }
            },
            "type": "scatter3d"
           }
          ],
          "scattercarpet": [
           {
            "marker": {
             "colorbar": {
              "outlinewidth": 0,
              "ticks": ""
             }
            },
            "type": "scattercarpet"
           }
          ],
          "scattergeo": [
           {
            "marker": {
             "colorbar": {
              "outlinewidth": 0,
              "ticks": ""
             }
            },
            "type": "scattergeo"
           }
          ],
          "scattergl": [
           {
            "marker": {
             "colorbar": {
              "outlinewidth": 0,
              "ticks": ""
             }
            },
            "type": "scattergl"
           }
          ],
          "scattermapbox": [
           {
            "marker": {
             "colorbar": {
              "outlinewidth": 0,
              "ticks": ""
             }
            },
            "type": "scattermapbox"
           }
          ],
          "scatterpolar": [
           {
            "marker": {
             "colorbar": {
              "outlinewidth": 0,
              "ticks": ""
             }
            },
            "type": "scatterpolar"
           }
          ],
          "scatterpolargl": [
           {
            "marker": {
             "colorbar": {
              "outlinewidth": 0,
              "ticks": ""
             }
            },
            "type": "scatterpolargl"
           }
          ],
          "scatterternary": [
           {
            "marker": {
             "colorbar": {
              "outlinewidth": 0,
              "ticks": ""
             }
            },
            "type": "scatterternary"
           }
          ],
          "surface": [
           {
            "colorbar": {
             "outlinewidth": 0,
             "ticks": ""
            },
            "colorscale": [
             [
              0,
              "#0d0887"
             ],
             [
              0.1111111111111111,
              "#46039f"
             ],
             [
              0.2222222222222222,
              "#7201a8"
             ],
             [
              0.3333333333333333,
              "#9c179e"
             ],
             [
              0.4444444444444444,
              "#bd3786"
             ],
             [
              0.5555555555555556,
              "#d8576b"
             ],
             [
              0.6666666666666666,
              "#ed7953"
             ],
             [
              0.7777777777777778,
              "#fb9f3a"
             ],
             [
              0.8888888888888888,
              "#fdca26"
             ],
             [
              1,
              "#f0f921"
             ]
            ],
            "type": "surface"
           }
          ],
          "table": [
           {
            "cells": {
             "fill": {
              "color": "#EBF0F8"
             },
             "line": {
              "color": "white"
             }
            },
            "header": {
             "fill": {
              "color": "#C8D4E3"
             },
             "line": {
              "color": "white"
             }
            },
            "type": "table"
           }
          ]
         },
         "layout": {
          "annotationdefaults": {
           "arrowcolor": "#2a3f5f",
           "arrowhead": 0,
           "arrowwidth": 1
          },
          "autotypenumbers": "strict",
          "coloraxis": {
           "colorbar": {
            "outlinewidth": 0,
            "ticks": ""
           }
          },
          "colorscale": {
           "diverging": [
            [
             0,
             "#8e0152"
            ],
            [
             0.1,
             "#c51b7d"
            ],
            [
             0.2,
             "#de77ae"
            ],
            [
             0.3,
             "#f1b6da"
            ],
            [
             0.4,
             "#fde0ef"
            ],
            [
             0.5,
             "#f7f7f7"
            ],
            [
             0.6,
             "#e6f5d0"
            ],
            [
             0.7,
             "#b8e186"
            ],
            [
             0.8,
             "#7fbc41"
            ],
            [
             0.9,
             "#4d9221"
            ],
            [
             1,
             "#276419"
            ]
           ],
           "sequential": [
            [
             0,
             "#0d0887"
            ],
            [
             0.1111111111111111,
             "#46039f"
            ],
            [
             0.2222222222222222,
             "#7201a8"
            ],
            [
             0.3333333333333333,
             "#9c179e"
            ],
            [
             0.4444444444444444,
             "#bd3786"
            ],
            [
             0.5555555555555556,
             "#d8576b"
            ],
            [
             0.6666666666666666,
             "#ed7953"
            ],
            [
             0.7777777777777778,
             "#fb9f3a"
            ],
            [
             0.8888888888888888,
             "#fdca26"
            ],
            [
             1,
             "#f0f921"
            ]
           ],
           "sequentialminus": [
            [
             0,
             "#0d0887"
            ],
            [
             0.1111111111111111,
             "#46039f"
            ],
            [
             0.2222222222222222,
             "#7201a8"
            ],
            [
             0.3333333333333333,
             "#9c179e"
            ],
            [
             0.4444444444444444,
             "#bd3786"
            ],
            [
             0.5555555555555556,
             "#d8576b"
            ],
            [
             0.6666666666666666,
             "#ed7953"
            ],
            [
             0.7777777777777778,
             "#fb9f3a"
            ],
            [
             0.8888888888888888,
             "#fdca26"
            ],
            [
             1,
             "#f0f921"
            ]
           ]
          },
          "colorway": [
           "#636efa",
           "#EF553B",
           "#00cc96",
           "#ab63fa",
           "#FFA15A",
           "#19d3f3",
           "#FF6692",
           "#B6E880",
           "#FF97FF",
           "#FECB52"
          ],
          "font": {
           "color": "#2a3f5f"
          },
          "geo": {
           "bgcolor": "white",
           "lakecolor": "white",
           "landcolor": "#E5ECF6",
           "showlakes": true,
           "showland": true,
           "subunitcolor": "white"
          },
          "hoverlabel": {
           "align": "left"
          },
          "hovermode": "closest",
          "mapbox": {
           "style": "light"
          },
          "paper_bgcolor": "white",
          "plot_bgcolor": "#E5ECF6",
          "polar": {
           "angularaxis": {
            "gridcolor": "white",
            "linecolor": "white",
            "ticks": ""
           },
           "bgcolor": "#E5ECF6",
           "radialaxis": {
            "gridcolor": "white",
            "linecolor": "white",
            "ticks": ""
           }
          },
          "scene": {
           "xaxis": {
            "backgroundcolor": "#E5ECF6",
            "gridcolor": "white",
            "gridwidth": 2,
            "linecolor": "white",
            "showbackground": true,
            "ticks": "",
            "zerolinecolor": "white"
           },
           "yaxis": {
            "backgroundcolor": "#E5ECF6",
            "gridcolor": "white",
            "gridwidth": 2,
            "linecolor": "white",
            "showbackground": true,
            "ticks": "",
            "zerolinecolor": "white"
           },
           "zaxis": {
            "backgroundcolor": "#E5ECF6",
            "gridcolor": "white",
            "gridwidth": 2,
            "linecolor": "white",
            "showbackground": true,
            "ticks": "",
            "zerolinecolor": "white"
           }
          },
          "shapedefaults": {
           "line": {
            "color": "#2a3f5f"
           }
          },
          "ternary": {
           "aaxis": {
            "gridcolor": "white",
            "linecolor": "white",
            "ticks": ""
           },
           "baxis": {
            "gridcolor": "white",
            "linecolor": "white",
            "ticks": ""
           },
           "bgcolor": "#E5ECF6",
           "caxis": {
            "gridcolor": "white",
            "linecolor": "white",
            "ticks": ""
           }
          },
          "title": {
           "x": 0.05
          },
          "xaxis": {
           "automargin": true,
           "gridcolor": "white",
           "linecolor": "white",
           "ticks": "",
           "title": {
            "standoff": 15
           },
           "zerolinecolor": "white",
           "zerolinewidth": 2
          },
          "yaxis": {
           "automargin": true,
           "gridcolor": "white",
           "linecolor": "white",
           "ticks": "",
           "title": {
            "standoff": 15
           },
           "zerolinecolor": "white",
           "zerolinewidth": 2
          }
         }
        },
        "title": {
         "text": "c vs loss (step 6560)"
        },
        "xaxis": {
         "anchor": "y",
         "domain": [
          0,
          1
         ],
         "title": {
          "text": "c"
         }
        },
        "yaxis": {
         "anchor": "x",
         "domain": [
          0,
          1
         ],
         "title": {
          "text": "loss_6560"
         }
        }
       }
      }
     },
     "metadata": {},
     "output_type": "display_data"
    }
   ],
   "source": [
    "fig = px.line(extended_df.sort_values(by='c'), x=\"c\", y=f\"loss_{cmp_step}\", title=f\"c vs loss (step {cmp_step})\", text='sys/id')\n",
    "fig.update_traces(textposition=\"bottom right\")\n",
    "fig.show()"
   ]
  }
 ],
 "metadata": {
  "kernelspec": {
   "display_name": "llm-random",
   "language": "python",
   "name": "python3"
  },
  "language_info": {
   "codemirror_mode": {
    "name": "ipython",
    "version": 3
   },
   "file_extension": ".py",
   "mimetype": "text/x-python",
   "name": "python",
   "nbconvert_exporter": "python",
   "pygments_lexer": "ipython3",
   "version": "3.9.19"
  }
 },
 "nbformat": 4,
 "nbformat_minor": 2
}
