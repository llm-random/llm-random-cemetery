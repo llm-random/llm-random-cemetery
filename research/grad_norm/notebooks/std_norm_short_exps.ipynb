{
 "cells": [
  {
   "cell_type": "code",
   "execution_count": 96,
   "metadata": {},
   "outputs": [],
   "source": [
    "import numpy as np\n",
    "import pandas as pd\n",
    "import neptune\n",
    "import plotly.express as px\n",
    "import plotly.graph_objects as go\n"
   ]
  },
  {
   "cell_type": "code",
   "execution_count": 107,
   "metadata": {},
   "outputs": [
    {
     "name": "stdout",
     "output_type": "stream",
     "text": [
      "https://app.neptune.ai/pmtest/llm-random/\n"
     ]
    }
   ],
   "source": [
    "from typing import List\n",
    "\n",
    "\n",
    "project = neptune.init_project(\n",
    "  project=\"pmtest/llm-random\",\n",
    "  mode=\"read-only\",\n",
    "  api_token=\"eyJhcGlfYWRkcmVzcyI6Imh0dHBzOi8vYXBwLm5lcHR1bmUuYWkiLCJhcGlfdXJsIjoiaHR0cHM6Ly9hcHAubmVwdHVuZS5haSIsImFwaV9rZXkiOiIyMDY0ZDI5Ni05YWU3LTQyNGYtYmY4My1hZTFkY2EzYmUwMjgifQ==\",\n",
    ")\n",
    "columns = [\n",
    "    \"sys/tags\",\n",
    "    \"loss_interval/100\",\n",
    "    \"args/learning_rate\",\n",
    "    \"sys/name\",\n",
    "]\n",
    "\n",
    "def infere_c_by_name(name: str):\n",
    "    if \"true_baseline\" in name:\n",
    "        return None\n",
    "    elif \"baseline\" in name:\n",
    "        return 0\n",
    "    else:\n",
    "        return 0.2\n",
    "\n",
    "def infere_model_type(sys_tags: str) -> str:\n",
    "    if \"true_baseline\" in sys_tags.split(\",\"):\n",
    "        return \"baseline\"\n",
    "\n",
    "    \n",
    "    if \"baseline\" in sys_tags:\n",
    "        return \"sanity_check\"\n",
    "\n",
    "\n",
    "    norm_version = \"v1\" if \"v1\" in sys_tags else \"v2\"\n",
    "\n",
    "    if \"all\" in sys_tags.split(','):\n",
    "        placement = \"all\"\n",
    "    else:\n",
    "        placement = \"post_\" + sys_tags.split(\"post_\")[1].split(\",\")[0]\n",
    "\n",
    "    return f\"{norm_version}-{placement}\"\n",
    "\n",
    "table = project.fetch_runs_table(tag=\"small_c_lr_tune\", columns=columns).to_pandas()\n",
    "# set(table[\"sys/tags\"])\n",
    "# set(table[\"sys/tags\"])\n",
    "table['layer_type'] = table['sys/tags'].apply(lambda x: \"baseline\" if \"baseline\" in x else (\"v1\" if \"v1\" in x else \"v2\"))\n",
    "table['placement'] = table['sys/tags'].apply(lambda x: (x.split(\"post_\")[1].split(\",\")[0]) if \"post\" in x else \"base\")\n",
    "table['model_type'] = table['sys/tags'].apply(infere_model_type)\n",
    "#del table['sys/tags']\n",
    "# rename loss_interval/100 to loss\n",
    "table.rename(columns={'loss_interval/100': 'loss', 'args/learning_rate': 'lr', 'sys/id': 'id'}, inplace=True)\n",
    "table['c'] = table['sys/name'].apply(infere_c_by_name)\n"
   ]
  },
  {
   "cell_type": "code",
   "execution_count": 90,
   "metadata": {},
   "outputs": [
    {
     "data": {
      "text/html": [
       "<div>\n",
       "<style scoped>\n",
       "    .dataframe tbody tr th:only-of-type {\n",
       "        vertical-align: middle;\n",
       "    }\n",
       "\n",
       "    .dataframe tbody tr th {\n",
       "        vertical-align: top;\n",
       "    }\n",
       "\n",
       "    .dataframe thead th {\n",
       "        text-align: right;\n",
       "    }\n",
       "</style>\n",
       "<table border=\"1\" class=\"dataframe\">\n",
       "  <thead>\n",
       "    <tr style=\"text-align: right;\">\n",
       "      <th></th>\n",
       "      <th>id</th>\n",
       "      <th>sys/name</th>\n",
       "      <th>sys/tags</th>\n",
       "      <th>lr</th>\n",
       "      <th>loss</th>\n",
       "      <th>layer_type</th>\n",
       "      <th>placement</th>\n",
       "      <th>model_type</th>\n",
       "      <th>c</th>\n",
       "    </tr>\n",
       "  </thead>\n",
       "  <tbody>\n",
       "    <tr>\n",
       "      <th>0</th>\n",
       "      <td>LLMRANDOM-14952</td>\n",
       "      <td>small_c_lr_tune_exp_55_true_baseline_lr_mul10 ...</td>\n",
       "      <td>grad_norm,lr_mul10,small_c_lr_tune,std_norm,tr...</td>\n",
       "      <td>0.001000</td>\n",
       "      <td>4.576616</td>\n",
       "      <td>baseline</td>\n",
       "      <td>base</td>\n",
       "      <td>baseline</td>\n",
       "      <td>NaN</td>\n",
       "    </tr>\n",
       "    <tr>\n",
       "      <th>1</th>\n",
       "      <td>LLMRANDOM-14951</td>\n",
       "      <td>small_c_lr_tune_exp_54_true_baseline_lr_mul3 l...</td>\n",
       "      <td>grad_norm,lr_mul3,small_c_lr_tune,std_norm,tru...</td>\n",
       "      <td>0.000300</td>\n",
       "      <td>4.979996</td>\n",
       "      <td>baseline</td>\n",
       "      <td>base</td>\n",
       "      <td>baseline</td>\n",
       "      <td>NaN</td>\n",
       "    </tr>\n",
       "    <tr>\n",
       "      <th>2</th>\n",
       "      <td>LLMRANDOM-14950</td>\n",
       "      <td>small_c_lr_tune_exp_51_true_baseline_lr_div10 ...</td>\n",
       "      <td>grad_norm,lr_div10,small_c_lr_tune,std_norm,tr...</td>\n",
       "      <td>0.000010</td>\n",
       "      <td>6.640925</td>\n",
       "      <td>baseline</td>\n",
       "      <td>base</td>\n",
       "      <td>baseline</td>\n",
       "      <td>NaN</td>\n",
       "    </tr>\n",
       "    <tr>\n",
       "      <th>3</th>\n",
       "      <td>LLMRANDOM-14949</td>\n",
       "      <td>small_c_lr_tune_exp_52_true_baseline_lr_div3 l...</td>\n",
       "      <td>grad_norm,lr_div3,small_c_lr_tune,std_norm,tru...</td>\n",
       "      <td>0.000033</td>\n",
       "      <td>6.226257</td>\n",
       "      <td>baseline</td>\n",
       "      <td>base</td>\n",
       "      <td>baseline</td>\n",
       "      <td>NaN</td>\n",
       "    </tr>\n",
       "    <tr>\n",
       "      <th>4</th>\n",
       "      <td>LLMRANDOM-14948</td>\n",
       "      <td>small_c_lr_tune_exp_53_true_baseline_lr_mul1 l...</td>\n",
       "      <td>grad_norm,lr_mul1,small_c_lr_tune,std_norm,tru...</td>\n",
       "      <td>0.000100</td>\n",
       "      <td>5.665960</td>\n",
       "      <td>baseline</td>\n",
       "      <td>base</td>\n",
       "      <td>baseline</td>\n",
       "      <td>NaN</td>\n",
       "    </tr>\n",
       "    <tr>\n",
       "      <th>5</th>\n",
       "      <td>LLMRANDOM-14947</td>\n",
       "      <td>small_c_lr_tune_exp_50_true_baseline_lr_div30 ...</td>\n",
       "      <td>grad_norm,lr_div30,small_c_lr_tune,std_norm,tr...</td>\n",
       "      <td>0.000003</td>\n",
       "      <td>7.077996</td>\n",
       "      <td>baseline</td>\n",
       "      <td>base</td>\n",
       "      <td>baseline</td>\n",
       "      <td>NaN</td>\n",
       "    </tr>\n",
       "    <tr>\n",
       "      <th>6</th>\n",
       "      <td>LLMRANDOM-14944</td>\n",
       "      <td>small_c_lr_tune_exp_49_true_baseline_lr_div100...</td>\n",
       "      <td>grad_norm,lr_div100,small_c_lr_tune,std_norm,t...</td>\n",
       "      <td>0.000001</td>\n",
       "      <td>7.575567</td>\n",
       "      <td>baseline</td>\n",
       "      <td>base</td>\n",
       "      <td>baseline</td>\n",
       "      <td>NaN</td>\n",
       "    </tr>\n",
       "    <tr>\n",
       "      <th>7</th>\n",
       "      <td>LLMRANDOM-14497</td>\n",
       "      <td>small_c_lr_tune_exp_48_all_baseline_lr_mul10 a...</td>\n",
       "      <td>all,baseline,grad_norm,lr_mul10,small_c_lr_tun...</td>\n",
       "      <td>0.001000</td>\n",
       "      <td>4.581407</td>\n",
       "      <td>baseline</td>\n",
       "      <td>base</td>\n",
       "      <td>sanity_check</td>\n",
       "      <td>0.0</td>\n",
       "    </tr>\n",
       "    <tr>\n",
       "      <th>8</th>\n",
       "      <td>LLMRANDOM-14496</td>\n",
       "      <td>small_c_lr_tune_exp_47_all_baseline_lr_mul3 al...</td>\n",
       "      <td>all,baseline,grad_norm,lr_mul3,small_c_lr_tune...</td>\n",
       "      <td>0.000300</td>\n",
       "      <td>4.962077</td>\n",
       "      <td>baseline</td>\n",
       "      <td>base</td>\n",
       "      <td>sanity_check</td>\n",
       "      <td>0.0</td>\n",
       "    </tr>\n",
       "    <tr>\n",
       "      <th>9</th>\n",
       "      <td>LLMRANDOM-14495</td>\n",
       "      <td>small_c_lr_tune_exp_46_all_baseline_lr_mul1 al...</td>\n",
       "      <td>all,baseline,grad_norm,lr_mul1,small_c_lr_tune...</td>\n",
       "      <td>0.000100</td>\n",
       "      <td>5.656867</td>\n",
       "      <td>baseline</td>\n",
       "      <td>base</td>\n",
       "      <td>sanity_check</td>\n",
       "      <td>0.0</td>\n",
       "    </tr>\n",
       "    <tr>\n",
       "      <th>10</th>\n",
       "      <td>LLMRANDOM-14494</td>\n",
       "      <td>small_c_lr_tune_exp_45_all_baseline_lr_div3 al...</td>\n",
       "      <td>all,baseline,grad_norm,lr_div3,small_c_lr_tune...</td>\n",
       "      <td>0.000033</td>\n",
       "      <td>6.241205</td>\n",
       "      <td>baseline</td>\n",
       "      <td>base</td>\n",
       "      <td>sanity_check</td>\n",
       "      <td>0.0</td>\n",
       "    </tr>\n",
       "    <tr>\n",
       "      <th>11</th>\n",
       "      <td>LLMRANDOM-14493</td>\n",
       "      <td>small_c_lr_tune_exp_44_all_baseline_lr_div10 a...</td>\n",
       "      <td>all,baseline,grad_norm,lr_div10,small_c_lr_tun...</td>\n",
       "      <td>0.000010</td>\n",
       "      <td>6.624787</td>\n",
       "      <td>baseline</td>\n",
       "      <td>base</td>\n",
       "      <td>sanity_check</td>\n",
       "      <td>0.0</td>\n",
       "    </tr>\n",
       "    <tr>\n",
       "      <th>12</th>\n",
       "      <td>LLMRANDOM-14492</td>\n",
       "      <td>small_c_lr_tune_exp_43_all_baseline_lr_div30 a...</td>\n",
       "      <td>all,baseline,grad_norm,lr_div30,small_c_lr_tun...</td>\n",
       "      <td>0.000003</td>\n",
       "      <td>7.078204</td>\n",
       "      <td>baseline</td>\n",
       "      <td>base</td>\n",
       "      <td>sanity_check</td>\n",
       "      <td>0.0</td>\n",
       "    </tr>\n",
       "    <tr>\n",
       "      <th>13</th>\n",
       "      <td>LLMRANDOM-14491</td>\n",
       "      <td>small_c_lr_tune_exp_42_all_baseline_lr_div100 ...</td>\n",
       "      <td>all,baseline,grad_norm,lr_div100,small_c_lr_tu...</td>\n",
       "      <td>0.000001</td>\n",
       "      <td>7.566020</td>\n",
       "      <td>baseline</td>\n",
       "      <td>base</td>\n",
       "      <td>sanity_check</td>\n",
       "      <td>0.0</td>\n",
       "    </tr>\n",
       "    <tr>\n",
       "      <th>14</th>\n",
       "      <td>LLMRANDOM-14490</td>\n",
       "      <td>small_c_lr_tune_exp_41_post_add_layer_type_v2_...</td>\n",
       "      <td>grad_norm,layer_type_v2,lr_mul10,post_add,smal...</td>\n",
       "      <td>0.001000</td>\n",
       "      <td>16.706850</td>\n",
       "      <td>v2</td>\n",
       "      <td>add</td>\n",
       "      <td>v2-post_add</td>\n",
       "      <td>0.2</td>\n",
       "    </tr>\n",
       "    <tr>\n",
       "      <th>15</th>\n",
       "      <td>LLMRANDOM-14489</td>\n",
       "      <td>small_c_lr_tune_exp_36_post_add_layer_type_v2_...</td>\n",
       "      <td>grad_norm,layer_type_v2,lr_div30,post_add,smal...</td>\n",
       "      <td>0.000003</td>\n",
       "      <td>8.219217</td>\n",
       "      <td>v2</td>\n",
       "      <td>add</td>\n",
       "      <td>v2-post_add</td>\n",
       "      <td>0.2</td>\n",
       "    </tr>\n",
       "    <tr>\n",
       "      <th>16</th>\n",
       "      <td>LLMRANDOM-14488</td>\n",
       "      <td>small_c_lr_tune_exp_40_post_add_layer_type_v2_...</td>\n",
       "      <td>grad_norm,layer_type_v2,lr_mul3,post_add,small...</td>\n",
       "      <td>0.000300</td>\n",
       "      <td>8.837127</td>\n",
       "      <td>v2</td>\n",
       "      <td>add</td>\n",
       "      <td>v2-post_add</td>\n",
       "      <td>0.2</td>\n",
       "    </tr>\n",
       "    <tr>\n",
       "      <th>17</th>\n",
       "      <td>LLMRANDOM-14487</td>\n",
       "      <td>small_c_lr_tune_exp_38_post_add_layer_type_v2_...</td>\n",
       "      <td>grad_norm,layer_type_v2,lr_div3,post_add,small...</td>\n",
       "      <td>0.000033</td>\n",
       "      <td>7.707530</td>\n",
       "      <td>v2</td>\n",
       "      <td>add</td>\n",
       "      <td>v2-post_add</td>\n",
       "      <td>0.2</td>\n",
       "    </tr>\n",
       "    <tr>\n",
       "      <th>18</th>\n",
       "      <td>LLMRANDOM-14486</td>\n",
       "      <td>small_c_lr_tune_exp_39_post_add_layer_type_v2_...</td>\n",
       "      <td>grad_norm,layer_type_v2,lr_mul1,post_add,small...</td>\n",
       "      <td>0.000100</td>\n",
       "      <td>8.575346</td>\n",
       "      <td>v2</td>\n",
       "      <td>add</td>\n",
       "      <td>v2-post_add</td>\n",
       "      <td>0.2</td>\n",
       "    </tr>\n",
       "    <tr>\n",
       "      <th>19</th>\n",
       "      <td>LLMRANDOM-14485</td>\n",
       "      <td>small_c_lr_tune_exp_35_post_add_layer_type_v2_...</td>\n",
       "      <td>grad_norm,layer_type_v2,lr_div100,post_add,sma...</td>\n",
       "      <td>0.000001</td>\n",
       "      <td>8.617278</td>\n",
       "      <td>v1</td>\n",
       "      <td>add</td>\n",
       "      <td>v1-post_add</td>\n",
       "      <td>0.2</td>\n",
       "    </tr>\n",
       "    <tr>\n",
       "      <th>20</th>\n",
       "      <td>LLMRANDOM-14484</td>\n",
       "      <td>small_c_lr_tune_exp_33_post_add_layer_type_v1_...</td>\n",
       "      <td>grad_norm,layer_type_v1,lr_mul3,post_add,small...</td>\n",
       "      <td>0.000300</td>\n",
       "      <td>5.628250</td>\n",
       "      <td>v1</td>\n",
       "      <td>add</td>\n",
       "      <td>v1-post_add</td>\n",
       "      <td>0.2</td>\n",
       "    </tr>\n",
       "    <tr>\n",
       "      <th>21</th>\n",
       "      <td>LLMRANDOM-14483</td>\n",
       "      <td>small_c_lr_tune_exp_32_post_add_layer_type_v1_...</td>\n",
       "      <td>grad_norm,layer_type_v1,lr_mul1,post_add,small...</td>\n",
       "      <td>0.000100</td>\n",
       "      <td>6.272982</td>\n",
       "      <td>v1</td>\n",
       "      <td>add</td>\n",
       "      <td>v1-post_add</td>\n",
       "      <td>0.2</td>\n",
       "    </tr>\n",
       "    <tr>\n",
       "      <th>22</th>\n",
       "      <td>LLMRANDOM-14482</td>\n",
       "      <td>small_c_lr_tune_exp_37_post_add_layer_type_v2_...</td>\n",
       "      <td>grad_norm,layer_type_v2,lr_div10,post_add,smal...</td>\n",
       "      <td>0.000010</td>\n",
       "      <td>7.887279</td>\n",
       "      <td>v1</td>\n",
       "      <td>add</td>\n",
       "      <td>v1-post_add</td>\n",
       "      <td>0.2</td>\n",
       "    </tr>\n",
       "    <tr>\n",
       "      <th>23</th>\n",
       "      <td>LLMRANDOM-14481</td>\n",
       "      <td>small_c_lr_tune_exp_31_post_add_layer_type_v1_...</td>\n",
       "      <td>grad_norm,layer_type_v1,lr_div3,post_add,small...</td>\n",
       "      <td>0.000033</td>\n",
       "      <td>6.759454</td>\n",
       "      <td>v1</td>\n",
       "      <td>add</td>\n",
       "      <td>v1-post_add</td>\n",
       "      <td>0.2</td>\n",
       "    </tr>\n",
       "    <tr>\n",
       "      <th>24</th>\n",
       "      <td>LLMRANDOM-14480</td>\n",
       "      <td>small_c_lr_tune_exp_30_post_add_layer_type_v1_...</td>\n",
       "      <td>grad_norm,layer_type_v1,lr_div10,post_add,smal...</td>\n",
       "      <td>0.000010</td>\n",
       "      <td>7.244251</td>\n",
       "      <td>v1</td>\n",
       "      <td>add</td>\n",
       "      <td>v1-post_add</td>\n",
       "      <td>0.2</td>\n",
       "    </tr>\n",
       "    <tr>\n",
       "      <th>25</th>\n",
       "      <td>LLMRANDOM-14479</td>\n",
       "      <td>small_c_lr_tune_exp_34_post_add_layer_type_v1_...</td>\n",
       "      <td>grad_norm,layer_type_v1,lr_mul10,post_add,smal...</td>\n",
       "      <td>0.001000</td>\n",
       "      <td>5.073183</td>\n",
       "      <td>v1</td>\n",
       "      <td>add</td>\n",
       "      <td>v1-post_add</td>\n",
       "      <td>0.2</td>\n",
       "    </tr>\n",
       "    <tr>\n",
       "      <th>26</th>\n",
       "      <td>LLMRANDOM-14478</td>\n",
       "      <td>small_c_lr_tune_exp_29_post_add_layer_type_v1_...</td>\n",
       "      <td>grad_norm,layer_type_v1,lr_div30,post_add,smal...</td>\n",
       "      <td>0.000003</td>\n",
       "      <td>7.731996</td>\n",
       "      <td>v1</td>\n",
       "      <td>add</td>\n",
       "      <td>v1-post_add</td>\n",
       "      <td>0.2</td>\n",
       "    </tr>\n",
       "    <tr>\n",
       "      <th>27</th>\n",
       "      <td>LLMRANDOM-14477</td>\n",
       "      <td>small_c_lr_tune_exp_28_post_add_layer_type_v1_...</td>\n",
       "      <td>grad_norm,layer_type_v1,lr_div100,post_add,sma...</td>\n",
       "      <td>0.000001</td>\n",
       "      <td>8.513767</td>\n",
       "      <td>v1</td>\n",
       "      <td>add</td>\n",
       "      <td>v1-post_add</td>\n",
       "      <td>0.2</td>\n",
       "    </tr>\n",
       "    <tr>\n",
       "      <th>28</th>\n",
       "      <td>LLMRANDOM-14475</td>\n",
       "      <td>small_c_lr_tune_exp_27_post_norm_layer_type_v2...</td>\n",
       "      <td>grad_norm,layer_type_v2,lr_mul10,post_norm,sma...</td>\n",
       "      <td>0.001000</td>\n",
       "      <td>56.592611</td>\n",
       "      <td>v2</td>\n",
       "      <td>norm</td>\n",
       "      <td>v2-post_norm</td>\n",
       "      <td>0.2</td>\n",
       "    </tr>\n",
       "    <tr>\n",
       "      <th>29</th>\n",
       "      <td>LLMRANDOM-14474</td>\n",
       "      <td>small_c_lr_tune_exp_26_post_norm_layer_type_v2...</td>\n",
       "      <td>grad_norm,layer_type_v2,lr_mul3,post_norm,smal...</td>\n",
       "      <td>0.000300</td>\n",
       "      <td>7.821804</td>\n",
       "      <td>v2</td>\n",
       "      <td>norm</td>\n",
       "      <td>v2-post_norm</td>\n",
       "      <td>0.2</td>\n",
       "    </tr>\n",
       "    <tr>\n",
       "      <th>30</th>\n",
       "      <td>LLMRANDOM-14472</td>\n",
       "      <td>small_c_lr_tune_exp_24_post_norm_layer_type_v2...</td>\n",
       "      <td>grad_norm,layer_type_v2,lr_div3,post_norm,smal...</td>\n",
       "      <td>0.000033</td>\n",
       "      <td>7.669934</td>\n",
       "      <td>v2</td>\n",
       "      <td>norm</td>\n",
       "      <td>v2-post_norm</td>\n",
       "      <td>0.2</td>\n",
       "    </tr>\n",
       "    <tr>\n",
       "      <th>31</th>\n",
       "      <td>LLMRANDOM-14471</td>\n",
       "      <td>small_c_lr_tune_exp_25_post_norm_layer_type_v2...</td>\n",
       "      <td>grad_norm,layer_type_v2,lr_mul1,post_norm,smal...</td>\n",
       "      <td>0.000100</td>\n",
       "      <td>7.769963</td>\n",
       "      <td>v2</td>\n",
       "      <td>norm</td>\n",
       "      <td>v2-post_norm</td>\n",
       "      <td>0.2</td>\n",
       "    </tr>\n",
       "    <tr>\n",
       "      <th>32</th>\n",
       "      <td>LLMRANDOM-14470</td>\n",
       "      <td>small_c_lr_tune_exp_22_post_norm_layer_type_v2...</td>\n",
       "      <td>grad_norm,layer_type_v2,lr_div30,post_norm,sma...</td>\n",
       "      <td>0.000003</td>\n",
       "      <td>7.758165</td>\n",
       "      <td>v2</td>\n",
       "      <td>norm</td>\n",
       "      <td>v2-post_norm</td>\n",
       "      <td>0.2</td>\n",
       "    </tr>\n",
       "    <tr>\n",
       "      <th>33</th>\n",
       "      <td>LLMRANDOM-14469</td>\n",
       "      <td>small_c_lr_tune_exp_23_post_norm_layer_type_v2...</td>\n",
       "      <td>grad_norm,layer_type_v2,lr_div10,post_norm,sma...</td>\n",
       "      <td>0.000010</td>\n",
       "      <td>7.701465</td>\n",
       "      <td>v1</td>\n",
       "      <td>norm</td>\n",
       "      <td>v1-post_norm</td>\n",
       "      <td>0.2</td>\n",
       "    </tr>\n",
       "    <tr>\n",
       "      <th>34</th>\n",
       "      <td>LLMRANDOM-14468</td>\n",
       "      <td>small_c_lr_tune_exp_20_post_norm_layer_type_v1...</td>\n",
       "      <td>grad_norm,layer_type_v1,lr_mul10,post_norm,sma...</td>\n",
       "      <td>0.001000</td>\n",
       "      <td>12.983099</td>\n",
       "      <td>v1</td>\n",
       "      <td>norm</td>\n",
       "      <td>v1-post_norm</td>\n",
       "      <td>0.2</td>\n",
       "    </tr>\n",
       "    <tr>\n",
       "      <th>35</th>\n",
       "      <td>LLMRANDOM-14467</td>\n",
       "      <td>small_c_lr_tune_exp_21_post_norm_layer_type_v2...</td>\n",
       "      <td>grad_norm,layer_type_v2,lr_div100,post_norm,sm...</td>\n",
       "      <td>0.000001</td>\n",
       "      <td>9.981586</td>\n",
       "      <td>v1</td>\n",
       "      <td>norm</td>\n",
       "      <td>v1-post_norm</td>\n",
       "      <td>0.2</td>\n",
       "    </tr>\n",
       "    <tr>\n",
       "      <th>36</th>\n",
       "      <td>LLMRANDOM-14466</td>\n",
       "      <td>small_c_lr_tune_exp_19_post_norm_layer_type_v1...</td>\n",
       "      <td>grad_norm,layer_type_v1,lr_mul3,post_norm,smal...</td>\n",
       "      <td>0.000300</td>\n",
       "      <td>7.637850</td>\n",
       "      <td>v1</td>\n",
       "      <td>norm</td>\n",
       "      <td>v1-post_norm</td>\n",
       "      <td>0.2</td>\n",
       "    </tr>\n",
       "    <tr>\n",
       "      <th>37</th>\n",
       "      <td>LLMRANDOM-14465</td>\n",
       "      <td>small_c_lr_tune_exp_18_post_norm_layer_type_v1...</td>\n",
       "      <td>grad_norm,layer_type_v1,lr_mul1,post_norm,smal...</td>\n",
       "      <td>0.000100</td>\n",
       "      <td>8.067857</td>\n",
       "      <td>v1</td>\n",
       "      <td>norm</td>\n",
       "      <td>v1-post_norm</td>\n",
       "      <td>0.2</td>\n",
       "    </tr>\n",
       "    <tr>\n",
       "      <th>38</th>\n",
       "      <td>LLMRANDOM-14464</td>\n",
       "      <td>small_c_lr_tune_exp_16_post_norm_layer_type_v1...</td>\n",
       "      <td>grad_norm,layer_type_v1,lr_div10,post_norm,sma...</td>\n",
       "      <td>0.000010</td>\n",
       "      <td>7.679801</td>\n",
       "      <td>v1</td>\n",
       "      <td>norm</td>\n",
       "      <td>v1-post_norm</td>\n",
       "      <td>0.2</td>\n",
       "    </tr>\n",
       "    <tr>\n",
       "      <th>39</th>\n",
       "      <td>LLMRANDOM-14463</td>\n",
       "      <td>small_c_lr_tune_exp_17_post_norm_layer_type_v1...</td>\n",
       "      <td>grad_norm,layer_type_v1,lr_div3,post_norm,smal...</td>\n",
       "      <td>0.000033</td>\n",
       "      <td>7.771905</td>\n",
       "      <td>v1</td>\n",
       "      <td>norm</td>\n",
       "      <td>v1-post_norm</td>\n",
       "      <td>0.2</td>\n",
       "    </tr>\n",
       "    <tr>\n",
       "      <th>40</th>\n",
       "      <td>LLMRANDOM-14462</td>\n",
       "      <td>small_c_lr_tune_exp_15_post_norm_layer_type_v1...</td>\n",
       "      <td>grad_norm,layer_type_v1,lr_div30,post_norm,sma...</td>\n",
       "      <td>0.000003</td>\n",
       "      <td>7.693461</td>\n",
       "      <td>v1</td>\n",
       "      <td>norm</td>\n",
       "      <td>v1-post_norm</td>\n",
       "      <td>0.2</td>\n",
       "    </tr>\n",
       "    <tr>\n",
       "      <th>41</th>\n",
       "      <td>LLMRANDOM-14461</td>\n",
       "      <td>small_c_lr_tune_exp_14_post_norm_layer_type_v1...</td>\n",
       "      <td>grad_norm,layer_type_v1,lr_div100,post_norm,sm...</td>\n",
       "      <td>0.000001</td>\n",
       "      <td>9.796401</td>\n",
       "      <td>v1</td>\n",
       "      <td>norm</td>\n",
       "      <td>v1-post_norm</td>\n",
       "      <td>0.2</td>\n",
       "    </tr>\n",
       "    <tr>\n",
       "      <th>42</th>\n",
       "      <td>LLMRANDOM-14460</td>\n",
       "      <td>small_c_lr_tune_exp_13_post_attn_and_ff_layer_...</td>\n",
       "      <td>grad_norm,layer_type_v2,lr_mul10,post_attn_and...</td>\n",
       "      <td>0.001000</td>\n",
       "      <td>253.779072</td>\n",
       "      <td>v2</td>\n",
       "      <td>attn_and_ff</td>\n",
       "      <td>v2-post_attn_and_ff</td>\n",
       "      <td>0.2</td>\n",
       "    </tr>\n",
       "    <tr>\n",
       "      <th>43</th>\n",
       "      <td>LLMRANDOM-14459</td>\n",
       "      <td>small_c_lr_tune_exp_12_post_attn_and_ff_layer_...</td>\n",
       "      <td>grad_norm,layer_type_v2,lr_mul3,post_attn_and_...</td>\n",
       "      <td>0.000300</td>\n",
       "      <td>8.338458</td>\n",
       "      <td>v2</td>\n",
       "      <td>attn_and_ff</td>\n",
       "      <td>v2-post_attn_and_ff</td>\n",
       "      <td>0.2</td>\n",
       "    </tr>\n",
       "    <tr>\n",
       "      <th>44</th>\n",
       "      <td>LLMRANDOM-14458</td>\n",
       "      <td>small_c_lr_tune_exp_11_post_attn_and_ff_layer_...</td>\n",
       "      <td>grad_norm,layer_type_v2,lr_mul1,post_attn_and_...</td>\n",
       "      <td>0.000100</td>\n",
       "      <td>7.766263</td>\n",
       "      <td>v2</td>\n",
       "      <td>attn_and_ff</td>\n",
       "      <td>v2-post_attn_and_ff</td>\n",
       "      <td>0.2</td>\n",
       "    </tr>\n",
       "    <tr>\n",
       "      <th>45</th>\n",
       "      <td>LLMRANDOM-14457</td>\n",
       "      <td>small_c_lr_tune_exp_10_post_attn_and_ff_layer_...</td>\n",
       "      <td>grad_norm,layer_type_v2,lr_div3,post_attn_and_...</td>\n",
       "      <td>0.000033</td>\n",
       "      <td>7.394025</td>\n",
       "      <td>v2</td>\n",
       "      <td>attn_and_ff</td>\n",
       "      <td>v2-post_attn_and_ff</td>\n",
       "      <td>0.2</td>\n",
       "    </tr>\n",
       "    <tr>\n",
       "      <th>46</th>\n",
       "      <td>LLMRANDOM-14456</td>\n",
       "      <td>small_c_lr_tune_exp_9_post_attn_and_ff_layer_t...</td>\n",
       "      <td>grad_norm,layer_type_v2,lr_div10,post_attn_and...</td>\n",
       "      <td>0.000010</td>\n",
       "      <td>7.513095</td>\n",
       "      <td>v1</td>\n",
       "      <td>attn_and_ff</td>\n",
       "      <td>v1-post_attn_and_ff</td>\n",
       "      <td>0.2</td>\n",
       "    </tr>\n",
       "    <tr>\n",
       "      <th>47</th>\n",
       "      <td>LLMRANDOM-14454</td>\n",
       "      <td>small_c_lr_tune_exp_8_post_attn_and_ff_layer_t...</td>\n",
       "      <td>grad_norm,layer_type_v2,lr_div30,post_attn_and...</td>\n",
       "      <td>0.000003</td>\n",
       "      <td>7.662453</td>\n",
       "      <td>v2</td>\n",
       "      <td>attn_and_ff</td>\n",
       "      <td>v2-post_attn_and_ff</td>\n",
       "      <td>0.2</td>\n",
       "    </tr>\n",
       "    <tr>\n",
       "      <th>48</th>\n",
       "      <td>LLMRANDOM-14453</td>\n",
       "      <td>small_c_lr_tune_exp_7_post_attn_and_ff_layer_t...</td>\n",
       "      <td>grad_norm,layer_type_v2,lr_div100,post_attn_an...</td>\n",
       "      <td>0.000001</td>\n",
       "      <td>8.162393</td>\n",
       "      <td>v1</td>\n",
       "      <td>attn_and_ff</td>\n",
       "      <td>v1-post_attn_and_ff</td>\n",
       "      <td>0.2</td>\n",
       "    </tr>\n",
       "    <tr>\n",
       "      <th>49</th>\n",
       "      <td>LLMRANDOM-14452</td>\n",
       "      <td>small_c_lr_tune_exp_6_post_attn_and_ff_layer_t...</td>\n",
       "      <td>grad_norm,layer_type_v1,lr_mul10,post_attn_and...</td>\n",
       "      <td>0.001000</td>\n",
       "      <td>22.287364</td>\n",
       "      <td>v1</td>\n",
       "      <td>attn_and_ff</td>\n",
       "      <td>v1-post_attn_and_ff</td>\n",
       "      <td>0.2</td>\n",
       "    </tr>\n",
       "    <tr>\n",
       "      <th>50</th>\n",
       "      <td>LLMRANDOM-14451</td>\n",
       "      <td>small_c_lr_tune_exp_5_post_attn_and_ff_layer_t...</td>\n",
       "      <td>grad_norm,layer_type_v1,lr_mul3,post_attn_and_...</td>\n",
       "      <td>0.000300</td>\n",
       "      <td>7.685055</td>\n",
       "      <td>v1</td>\n",
       "      <td>attn_and_ff</td>\n",
       "      <td>v1-post_attn_and_ff</td>\n",
       "      <td>0.2</td>\n",
       "    </tr>\n",
       "    <tr>\n",
       "      <th>51</th>\n",
       "      <td>LLMRANDOM-14450</td>\n",
       "      <td>small_c_lr_tune_exp_4_post_attn_and_ff_layer_t...</td>\n",
       "      <td>grad_norm,layer_type_v1,lr_mul1,post_attn_and_...</td>\n",
       "      <td>0.000100</td>\n",
       "      <td>7.300534</td>\n",
       "      <td>v1</td>\n",
       "      <td>attn_and_ff</td>\n",
       "      <td>v1-post_attn_and_ff</td>\n",
       "      <td>0.2</td>\n",
       "    </tr>\n",
       "    <tr>\n",
       "      <th>52</th>\n",
       "      <td>LLMRANDOM-14448</td>\n",
       "      <td>small_c_lr_tune_exp_3_post_attn_and_ff_layer_t...</td>\n",
       "      <td>grad_norm,layer_type_v1,lr_div3,post_attn_and_...</td>\n",
       "      <td>0.000033</td>\n",
       "      <td>7.748116</td>\n",
       "      <td>v1</td>\n",
       "      <td>attn_and_ff</td>\n",
       "      <td>v1-post_attn_and_ff</td>\n",
       "      <td>0.2</td>\n",
       "    </tr>\n",
       "    <tr>\n",
       "      <th>53</th>\n",
       "      <td>LLMRANDOM-14447</td>\n",
       "      <td>small_c_lr_tune_exp_2_post_attn_and_ff_layer_t...</td>\n",
       "      <td>grad_norm,layer_type_v1,lr_div10,post_attn_and...</td>\n",
       "      <td>0.000010</td>\n",
       "      <td>7.465760</td>\n",
       "      <td>v1</td>\n",
       "      <td>attn_and_ff</td>\n",
       "      <td>v1-post_attn_and_ff</td>\n",
       "      <td>0.2</td>\n",
       "    </tr>\n",
       "    <tr>\n",
       "      <th>54</th>\n",
       "      <td>LLMRANDOM-14446</td>\n",
       "      <td>small_c_lr_tune_exp_1_post_attn_and_ff_layer_t...</td>\n",
       "      <td>grad_norm,layer_type_v1,lr_div30,post_attn_and...</td>\n",
       "      <td>0.000003</td>\n",
       "      <td>7.702281</td>\n",
       "      <td>v1</td>\n",
       "      <td>attn_and_ff</td>\n",
       "      <td>v1-post_attn_and_ff</td>\n",
       "      <td>0.2</td>\n",
       "    </tr>\n",
       "    <tr>\n",
       "      <th>55</th>\n",
       "      <td>LLMRANDOM-14445</td>\n",
       "      <td>small_c_lr_tune_exp_0_post_attn_and_ff_layer_t...</td>\n",
       "      <td>grad_norm,layer_type_v1,lr_div100,post_attn_an...</td>\n",
       "      <td>0.000001</td>\n",
       "      <td>9.283764</td>\n",
       "      <td>v1</td>\n",
       "      <td>attn_and_ff</td>\n",
       "      <td>v1-post_attn_and_ff</td>\n",
       "      <td>0.2</td>\n",
       "    </tr>\n",
       "  </tbody>\n",
       "</table>\n",
       "</div>"
      ],
      "text/plain": [
       "                 id                                           sys/name  \\\n",
       "0   LLMRANDOM-14952  small_c_lr_tune_exp_55_true_baseline_lr_mul10 ...   \n",
       "1   LLMRANDOM-14951  small_c_lr_tune_exp_54_true_baseline_lr_mul3 l...   \n",
       "2   LLMRANDOM-14950  small_c_lr_tune_exp_51_true_baseline_lr_div10 ...   \n",
       "3   LLMRANDOM-14949  small_c_lr_tune_exp_52_true_baseline_lr_div3 l...   \n",
       "4   LLMRANDOM-14948  small_c_lr_tune_exp_53_true_baseline_lr_mul1 l...   \n",
       "5   LLMRANDOM-14947  small_c_lr_tune_exp_50_true_baseline_lr_div30 ...   \n",
       "6   LLMRANDOM-14944  small_c_lr_tune_exp_49_true_baseline_lr_div100...   \n",
       "7   LLMRANDOM-14497  small_c_lr_tune_exp_48_all_baseline_lr_mul10 a...   \n",
       "8   LLMRANDOM-14496  small_c_lr_tune_exp_47_all_baseline_lr_mul3 al...   \n",
       "9   LLMRANDOM-14495  small_c_lr_tune_exp_46_all_baseline_lr_mul1 al...   \n",
       "10  LLMRANDOM-14494  small_c_lr_tune_exp_45_all_baseline_lr_div3 al...   \n",
       "11  LLMRANDOM-14493  small_c_lr_tune_exp_44_all_baseline_lr_div10 a...   \n",
       "12  LLMRANDOM-14492  small_c_lr_tune_exp_43_all_baseline_lr_div30 a...   \n",
       "13  LLMRANDOM-14491  small_c_lr_tune_exp_42_all_baseline_lr_div100 ...   \n",
       "14  LLMRANDOM-14490  small_c_lr_tune_exp_41_post_add_layer_type_v2_...   \n",
       "15  LLMRANDOM-14489  small_c_lr_tune_exp_36_post_add_layer_type_v2_...   \n",
       "16  LLMRANDOM-14488  small_c_lr_tune_exp_40_post_add_layer_type_v2_...   \n",
       "17  LLMRANDOM-14487  small_c_lr_tune_exp_38_post_add_layer_type_v2_...   \n",
       "18  LLMRANDOM-14486  small_c_lr_tune_exp_39_post_add_layer_type_v2_...   \n",
       "19  LLMRANDOM-14485  small_c_lr_tune_exp_35_post_add_layer_type_v2_...   \n",
       "20  LLMRANDOM-14484  small_c_lr_tune_exp_33_post_add_layer_type_v1_...   \n",
       "21  LLMRANDOM-14483  small_c_lr_tune_exp_32_post_add_layer_type_v1_...   \n",
       "22  LLMRANDOM-14482  small_c_lr_tune_exp_37_post_add_layer_type_v2_...   \n",
       "23  LLMRANDOM-14481  small_c_lr_tune_exp_31_post_add_layer_type_v1_...   \n",
       "24  LLMRANDOM-14480  small_c_lr_tune_exp_30_post_add_layer_type_v1_...   \n",
       "25  LLMRANDOM-14479  small_c_lr_tune_exp_34_post_add_layer_type_v1_...   \n",
       "26  LLMRANDOM-14478  small_c_lr_tune_exp_29_post_add_layer_type_v1_...   \n",
       "27  LLMRANDOM-14477  small_c_lr_tune_exp_28_post_add_layer_type_v1_...   \n",
       "28  LLMRANDOM-14475  small_c_lr_tune_exp_27_post_norm_layer_type_v2...   \n",
       "29  LLMRANDOM-14474  small_c_lr_tune_exp_26_post_norm_layer_type_v2...   \n",
       "30  LLMRANDOM-14472  small_c_lr_tune_exp_24_post_norm_layer_type_v2...   \n",
       "31  LLMRANDOM-14471  small_c_lr_tune_exp_25_post_norm_layer_type_v2...   \n",
       "32  LLMRANDOM-14470  small_c_lr_tune_exp_22_post_norm_layer_type_v2...   \n",
       "33  LLMRANDOM-14469  small_c_lr_tune_exp_23_post_norm_layer_type_v2...   \n",
       "34  LLMRANDOM-14468  small_c_lr_tune_exp_20_post_norm_layer_type_v1...   \n",
       "35  LLMRANDOM-14467  small_c_lr_tune_exp_21_post_norm_layer_type_v2...   \n",
       "36  LLMRANDOM-14466  small_c_lr_tune_exp_19_post_norm_layer_type_v1...   \n",
       "37  LLMRANDOM-14465  small_c_lr_tune_exp_18_post_norm_layer_type_v1...   \n",
       "38  LLMRANDOM-14464  small_c_lr_tune_exp_16_post_norm_layer_type_v1...   \n",
       "39  LLMRANDOM-14463  small_c_lr_tune_exp_17_post_norm_layer_type_v1...   \n",
       "40  LLMRANDOM-14462  small_c_lr_tune_exp_15_post_norm_layer_type_v1...   \n",
       "41  LLMRANDOM-14461  small_c_lr_tune_exp_14_post_norm_layer_type_v1...   \n",
       "42  LLMRANDOM-14460  small_c_lr_tune_exp_13_post_attn_and_ff_layer_...   \n",
       "43  LLMRANDOM-14459  small_c_lr_tune_exp_12_post_attn_and_ff_layer_...   \n",
       "44  LLMRANDOM-14458  small_c_lr_tune_exp_11_post_attn_and_ff_layer_...   \n",
       "45  LLMRANDOM-14457  small_c_lr_tune_exp_10_post_attn_and_ff_layer_...   \n",
       "46  LLMRANDOM-14456  small_c_lr_tune_exp_9_post_attn_and_ff_layer_t...   \n",
       "47  LLMRANDOM-14454  small_c_lr_tune_exp_8_post_attn_and_ff_layer_t...   \n",
       "48  LLMRANDOM-14453  small_c_lr_tune_exp_7_post_attn_and_ff_layer_t...   \n",
       "49  LLMRANDOM-14452  small_c_lr_tune_exp_6_post_attn_and_ff_layer_t...   \n",
       "50  LLMRANDOM-14451  small_c_lr_tune_exp_5_post_attn_and_ff_layer_t...   \n",
       "51  LLMRANDOM-14450  small_c_lr_tune_exp_4_post_attn_and_ff_layer_t...   \n",
       "52  LLMRANDOM-14448  small_c_lr_tune_exp_3_post_attn_and_ff_layer_t...   \n",
       "53  LLMRANDOM-14447  small_c_lr_tune_exp_2_post_attn_and_ff_layer_t...   \n",
       "54  LLMRANDOM-14446  small_c_lr_tune_exp_1_post_attn_and_ff_layer_t...   \n",
       "55  LLMRANDOM-14445  small_c_lr_tune_exp_0_post_attn_and_ff_layer_t...   \n",
       "\n",
       "                                             sys/tags        lr        loss  \\\n",
       "0   grad_norm,lr_mul10,small_c_lr_tune,std_norm,tr...  0.001000    4.576616   \n",
       "1   grad_norm,lr_mul3,small_c_lr_tune,std_norm,tru...  0.000300    4.979996   \n",
       "2   grad_norm,lr_div10,small_c_lr_tune,std_norm,tr...  0.000010    6.640925   \n",
       "3   grad_norm,lr_div3,small_c_lr_tune,std_norm,tru...  0.000033    6.226257   \n",
       "4   grad_norm,lr_mul1,small_c_lr_tune,std_norm,tru...  0.000100    5.665960   \n",
       "5   grad_norm,lr_div30,small_c_lr_tune,std_norm,tr...  0.000003    7.077996   \n",
       "6   grad_norm,lr_div100,small_c_lr_tune,std_norm,t...  0.000001    7.575567   \n",
       "7   all,baseline,grad_norm,lr_mul10,small_c_lr_tun...  0.001000    4.581407   \n",
       "8   all,baseline,grad_norm,lr_mul3,small_c_lr_tune...  0.000300    4.962077   \n",
       "9   all,baseline,grad_norm,lr_mul1,small_c_lr_tune...  0.000100    5.656867   \n",
       "10  all,baseline,grad_norm,lr_div3,small_c_lr_tune...  0.000033    6.241205   \n",
       "11  all,baseline,grad_norm,lr_div10,small_c_lr_tun...  0.000010    6.624787   \n",
       "12  all,baseline,grad_norm,lr_div30,small_c_lr_tun...  0.000003    7.078204   \n",
       "13  all,baseline,grad_norm,lr_div100,small_c_lr_tu...  0.000001    7.566020   \n",
       "14  grad_norm,layer_type_v2,lr_mul10,post_add,smal...  0.001000   16.706850   \n",
       "15  grad_norm,layer_type_v2,lr_div30,post_add,smal...  0.000003    8.219217   \n",
       "16  grad_norm,layer_type_v2,lr_mul3,post_add,small...  0.000300    8.837127   \n",
       "17  grad_norm,layer_type_v2,lr_div3,post_add,small...  0.000033    7.707530   \n",
       "18  grad_norm,layer_type_v2,lr_mul1,post_add,small...  0.000100    8.575346   \n",
       "19  grad_norm,layer_type_v2,lr_div100,post_add,sma...  0.000001    8.617278   \n",
       "20  grad_norm,layer_type_v1,lr_mul3,post_add,small...  0.000300    5.628250   \n",
       "21  grad_norm,layer_type_v1,lr_mul1,post_add,small...  0.000100    6.272982   \n",
       "22  grad_norm,layer_type_v2,lr_div10,post_add,smal...  0.000010    7.887279   \n",
       "23  grad_norm,layer_type_v1,lr_div3,post_add,small...  0.000033    6.759454   \n",
       "24  grad_norm,layer_type_v1,lr_div10,post_add,smal...  0.000010    7.244251   \n",
       "25  grad_norm,layer_type_v1,lr_mul10,post_add,smal...  0.001000    5.073183   \n",
       "26  grad_norm,layer_type_v1,lr_div30,post_add,smal...  0.000003    7.731996   \n",
       "27  grad_norm,layer_type_v1,lr_div100,post_add,sma...  0.000001    8.513767   \n",
       "28  grad_norm,layer_type_v2,lr_mul10,post_norm,sma...  0.001000   56.592611   \n",
       "29  grad_norm,layer_type_v2,lr_mul3,post_norm,smal...  0.000300    7.821804   \n",
       "30  grad_norm,layer_type_v2,lr_div3,post_norm,smal...  0.000033    7.669934   \n",
       "31  grad_norm,layer_type_v2,lr_mul1,post_norm,smal...  0.000100    7.769963   \n",
       "32  grad_norm,layer_type_v2,lr_div30,post_norm,sma...  0.000003    7.758165   \n",
       "33  grad_norm,layer_type_v2,lr_div10,post_norm,sma...  0.000010    7.701465   \n",
       "34  grad_norm,layer_type_v1,lr_mul10,post_norm,sma...  0.001000   12.983099   \n",
       "35  grad_norm,layer_type_v2,lr_div100,post_norm,sm...  0.000001    9.981586   \n",
       "36  grad_norm,layer_type_v1,lr_mul3,post_norm,smal...  0.000300    7.637850   \n",
       "37  grad_norm,layer_type_v1,lr_mul1,post_norm,smal...  0.000100    8.067857   \n",
       "38  grad_norm,layer_type_v1,lr_div10,post_norm,sma...  0.000010    7.679801   \n",
       "39  grad_norm,layer_type_v1,lr_div3,post_norm,smal...  0.000033    7.771905   \n",
       "40  grad_norm,layer_type_v1,lr_div30,post_norm,sma...  0.000003    7.693461   \n",
       "41  grad_norm,layer_type_v1,lr_div100,post_norm,sm...  0.000001    9.796401   \n",
       "42  grad_norm,layer_type_v2,lr_mul10,post_attn_and...  0.001000  253.779072   \n",
       "43  grad_norm,layer_type_v2,lr_mul3,post_attn_and_...  0.000300    8.338458   \n",
       "44  grad_norm,layer_type_v2,lr_mul1,post_attn_and_...  0.000100    7.766263   \n",
       "45  grad_norm,layer_type_v2,lr_div3,post_attn_and_...  0.000033    7.394025   \n",
       "46  grad_norm,layer_type_v2,lr_div10,post_attn_and...  0.000010    7.513095   \n",
       "47  grad_norm,layer_type_v2,lr_div30,post_attn_and...  0.000003    7.662453   \n",
       "48  grad_norm,layer_type_v2,lr_div100,post_attn_an...  0.000001    8.162393   \n",
       "49  grad_norm,layer_type_v1,lr_mul10,post_attn_and...  0.001000   22.287364   \n",
       "50  grad_norm,layer_type_v1,lr_mul3,post_attn_and_...  0.000300    7.685055   \n",
       "51  grad_norm,layer_type_v1,lr_mul1,post_attn_and_...  0.000100    7.300534   \n",
       "52  grad_norm,layer_type_v1,lr_div3,post_attn_and_...  0.000033    7.748116   \n",
       "53  grad_norm,layer_type_v1,lr_div10,post_attn_and...  0.000010    7.465760   \n",
       "54  grad_norm,layer_type_v1,lr_div30,post_attn_and...  0.000003    7.702281   \n",
       "55  grad_norm,layer_type_v1,lr_div100,post_attn_an...  0.000001    9.283764   \n",
       "\n",
       "   layer_type    placement           model_type    c  \n",
       "0    baseline         base             baseline  NaN  \n",
       "1    baseline         base             baseline  NaN  \n",
       "2    baseline         base             baseline  NaN  \n",
       "3    baseline         base             baseline  NaN  \n",
       "4    baseline         base             baseline  NaN  \n",
       "5    baseline         base             baseline  NaN  \n",
       "6    baseline         base             baseline  NaN  \n",
       "7    baseline         base         sanity_check  0.0  \n",
       "8    baseline         base         sanity_check  0.0  \n",
       "9    baseline         base         sanity_check  0.0  \n",
       "10   baseline         base         sanity_check  0.0  \n",
       "11   baseline         base         sanity_check  0.0  \n",
       "12   baseline         base         sanity_check  0.0  \n",
       "13   baseline         base         sanity_check  0.0  \n",
       "14         v2          add          v2-post_add  0.2  \n",
       "15         v2          add          v2-post_add  0.2  \n",
       "16         v2          add          v2-post_add  0.2  \n",
       "17         v2          add          v2-post_add  0.2  \n",
       "18         v2          add          v2-post_add  0.2  \n",
       "19         v1          add          v1-post_add  0.2  \n",
       "20         v1          add          v1-post_add  0.2  \n",
       "21         v1          add          v1-post_add  0.2  \n",
       "22         v1          add          v1-post_add  0.2  \n",
       "23         v1          add          v1-post_add  0.2  \n",
       "24         v1          add          v1-post_add  0.2  \n",
       "25         v1          add          v1-post_add  0.2  \n",
       "26         v1          add          v1-post_add  0.2  \n",
       "27         v1          add          v1-post_add  0.2  \n",
       "28         v2         norm         v2-post_norm  0.2  \n",
       "29         v2         norm         v2-post_norm  0.2  \n",
       "30         v2         norm         v2-post_norm  0.2  \n",
       "31         v2         norm         v2-post_norm  0.2  \n",
       "32         v2         norm         v2-post_norm  0.2  \n",
       "33         v1         norm         v1-post_norm  0.2  \n",
       "34         v1         norm         v1-post_norm  0.2  \n",
       "35         v1         norm         v1-post_norm  0.2  \n",
       "36         v1         norm         v1-post_norm  0.2  \n",
       "37         v1         norm         v1-post_norm  0.2  \n",
       "38         v1         norm         v1-post_norm  0.2  \n",
       "39         v1         norm         v1-post_norm  0.2  \n",
       "40         v1         norm         v1-post_norm  0.2  \n",
       "41         v1         norm         v1-post_norm  0.2  \n",
       "42         v2  attn_and_ff  v2-post_attn_and_ff  0.2  \n",
       "43         v2  attn_and_ff  v2-post_attn_and_ff  0.2  \n",
       "44         v2  attn_and_ff  v2-post_attn_and_ff  0.2  \n",
       "45         v2  attn_and_ff  v2-post_attn_and_ff  0.2  \n",
       "46         v1  attn_and_ff  v1-post_attn_and_ff  0.2  \n",
       "47         v2  attn_and_ff  v2-post_attn_and_ff  0.2  \n",
       "48         v1  attn_and_ff  v1-post_attn_and_ff  0.2  \n",
       "49         v1  attn_and_ff  v1-post_attn_and_ff  0.2  \n",
       "50         v1  attn_and_ff  v1-post_attn_and_ff  0.2  \n",
       "51         v1  attn_and_ff  v1-post_attn_and_ff  0.2  \n",
       "52         v1  attn_and_ff  v1-post_attn_and_ff  0.2  \n",
       "53         v1  attn_and_ff  v1-post_attn_and_ff  0.2  \n",
       "54         v1  attn_and_ff  v1-post_attn_and_ff  0.2  \n",
       "55         v1  attn_and_ff  v1-post_attn_and_ff  0.2  "
      ]
     },
     "execution_count": 90,
     "metadata": {},
     "output_type": "execute_result"
    }
   ],
   "source": [
    "table"
   ]
  },
  {
   "cell_type": "code",
   "execution_count": 111,
   "metadata": {},
   "outputs": [
    {
     "data": {
      "application/vnd.plotly.v1+json": {
       "config": {
        "plotlyServerURL": "https://plot.ly"
       },
       "data": [
        {
         "hovertemplate": "model_type=sanity_check<br>lr=%{x}<br>loss=%{y}<extra></extra>",
         "legendgroup": "sanity_check",
         "line": {
          "color": "#636efa",
          "dash": "solid"
         },
         "marker": {
          "symbol": "circle"
         },
         "mode": "lines+markers",
         "name": "sanity_check",
         "orientation": "v",
         "showlegend": true,
         "type": "scatter",
         "x": [
          0.0000010000000000000002,
          0.0000033333333333333333,
          0.00001,
          0.000033333333333333335,
          0.0001,
          0.00030000000000000003,
          0.001
         ],
         "xaxis": "x",
         "y": [
          7.566019811630249,
          7.078204064369202,
          6.62478720664978,
          6.241204867362976,
          5.656867237091064,
          4.962077226638794,
          4.581406850814819
         ],
         "yaxis": "y"
        },
        {
         "hovertemplate": "model_type=v1-post_add<br>lr=%{x}<br>loss=%{y}<extra></extra>",
         "legendgroup": "v1-post_add",
         "line": {
          "color": "#EF553B",
          "dash": "solid"
         },
         "marker": {
          "symbol": "circle"
         },
         "mode": "lines+markers",
         "name": "v1-post_add",
         "orientation": "v",
         "showlegend": true,
         "type": "scatter",
         "x": [
          0.0000010000000000000002,
          0.0000010000000000000002,
          0.0000033333333333333333,
          0.00001,
          0.00001,
          0.000033333333333333335,
          0.0001,
          0.00030000000000000003,
          0.001
         ],
         "xaxis": "x",
         "y": [
          8.617278184890747,
          8.513766813278199,
          7.731996150016784,
          7.887278594970703,
          7.244251470565796,
          6.7594539213180544,
          6.272981605529785,
          5.62824960231781,
          5.073183016777039
         ],
         "yaxis": "y"
        },
        {
         "hovertemplate": "model_type=v1-post_attn_and_ff<br>lr=%{x}<br>loss=%{y}<extra></extra>",
         "legendgroup": "v1-post_attn_and_ff",
         "line": {
          "color": "#00cc96",
          "dash": "solid"
         },
         "marker": {
          "symbol": "circle"
         },
         "mode": "lines+markers",
         "name": "v1-post_attn_and_ff",
         "orientation": "v",
         "showlegend": true,
         "type": "scatter",
         "x": [
          0.0000010000000000000002,
          0.0000010000000000000002,
          0.0000033333333333333333,
          0.00001,
          0.00001,
          0.000033333333333333335,
          0.0001,
          0.00030000000000000003,
          0.001
         ],
         "xaxis": "x",
         "y": [
          8.162392673492432,
          9.283764457702636,
          7.702280869483948,
          7.513094520568847,
          7.465760431289673,
          7.748115773200989,
          7.300534262657165,
          7.685055165290833,
          22.287363929748537
         ],
         "yaxis": "y"
        },
        {
         "hovertemplate": "model_type=v1-post_norm<br>lr=%{x}<br>loss=%{y}<extra></extra>",
         "legendgroup": "v1-post_norm",
         "line": {
          "color": "#ab63fa",
          "dash": "solid"
         },
         "marker": {
          "symbol": "circle"
         },
         "mode": "lines+markers",
         "name": "v1-post_norm",
         "orientation": "v",
         "showlegend": true,
         "type": "scatter",
         "x": [
          0.0000010000000000000002,
          0.0000010000000000000002,
          0.0000033333333333333333,
          0.00001,
          0.00001,
          0.000033333333333333335,
          0.0001,
          0.00030000000000000003,
          0.001
         ],
         "xaxis": "x",
         "y": [
          9.981586227416992,
          9.79640139579773,
          7.693460502624512,
          7.701465492248535,
          7.679801359176635,
          7.771904568672181,
          8.067857208251953,
          7.637849950790406,
          12.983098678588867
         ],
         "yaxis": "y"
        },
        {
         "hovertemplate": "model_type=v2-post_add<br>lr=%{x}<br>loss=%{y}<extra></extra>",
         "legendgroup": "v2-post_add",
         "line": {
          "color": "#FFA15A",
          "dash": "solid"
         },
         "marker": {
          "symbol": "circle"
         },
         "mode": "lines+markers",
         "name": "v2-post_add",
         "orientation": "v",
         "showlegend": true,
         "type": "scatter",
         "x": [
          0.0000033333333333333333,
          0.000033333333333333335,
          0.0001,
          0.00030000000000000003,
          0.001
         ],
         "xaxis": "x",
         "y": [
          8.219217348098756,
          7.707530202865601,
          8.575346164703369,
          8.837127313613891,
          16.706849889755247
         ],
         "yaxis": "y"
        },
        {
         "hovertemplate": "model_type=v2-post_attn_and_ff<br>lr=%{x}<br>loss=%{y}<extra></extra>",
         "legendgroup": "v2-post_attn_and_ff",
         "line": {
          "color": "#19d3f3",
          "dash": "solid"
         },
         "marker": {
          "symbol": "circle"
         },
         "mode": "lines+markers",
         "name": "v2-post_attn_and_ff",
         "orientation": "v",
         "showlegend": true,
         "type": "scatter",
         "x": [
          0.0000033333333333333333,
          0.000033333333333333335,
          0.0001,
          0.00030000000000000003,
          0.001
         ],
         "xaxis": "x",
         "y": [
          7.662452940940857,
          7.394024987220764,
          7.766262640953064,
          8.338458261489869,
          253.77907196044922
         ],
         "yaxis": "y"
        },
        {
         "hovertemplate": "model_type=v2-post_norm<br>lr=%{x}<br>loss=%{y}<extra></extra>",
         "legendgroup": "v2-post_norm",
         "line": {
          "color": "#FF6692",
          "dash": "solid"
         },
         "marker": {
          "symbol": "circle"
         },
         "mode": "lines+markers",
         "name": "v2-post_norm",
         "orientation": "v",
         "showlegend": true,
         "type": "scatter",
         "x": [
          0.0000033333333333333333,
          0.000033333333333333335,
          0.0001,
          0.00030000000000000003,
          0.001
         ],
         "xaxis": "x",
         "y": [
          7.758165240287781,
          7.669934387207031,
          7.769963154792785,
          7.821803750991822,
          56.59261074066162
         ],
         "yaxis": "y"
        },
        {
         "line": {
          "color": "black",
          "dash": "dash",
          "width": 2
         },
         "name": "baseline",
         "type": "scatter",
         "x": [
          0.0000010000000000000002,
          0.0000033333333333333333,
          0.00001,
          0.000033333333333333335,
          0.0001,
          0.00030000000000000003,
          0.001
         ],
         "y": [
          7.575566964149475,
          7.077995734214783,
          6.640924553871155,
          6.226256675720215,
          5.6659596824645995,
          4.979995565414429,
          4.576616005897522
         ]
        }
       ],
       "layout": {
        "legend": {
         "title": {
          "text": "model_type"
         },
         "tracegroupgap": 0
        },
        "template": {
         "data": {
          "bar": [
           {
            "error_x": {
             "color": "#2a3f5f"
            },
            "error_y": {
             "color": "#2a3f5f"
            },
            "marker": {
             "line": {
              "color": "#E5ECF6",
              "width": 0.5
             },
             "pattern": {
              "fillmode": "overlay",
              "size": 10,
              "solidity": 0.2
             }
            },
            "type": "bar"
           }
          ],
          "barpolar": [
           {
            "marker": {
             "line": {
              "color": "#E5ECF6",
              "width": 0.5
             },
             "pattern": {
              "fillmode": "overlay",
              "size": 10,
              "solidity": 0.2
             }
            },
            "type": "barpolar"
           }
          ],
          "carpet": [
           {
            "aaxis": {
             "endlinecolor": "#2a3f5f",
             "gridcolor": "white",
             "linecolor": "white",
             "minorgridcolor": "white",
             "startlinecolor": "#2a3f5f"
            },
            "baxis": {
             "endlinecolor": "#2a3f5f",
             "gridcolor": "white",
             "linecolor": "white",
             "minorgridcolor": "white",
             "startlinecolor": "#2a3f5f"
            },
            "type": "carpet"
           }
          ],
          "choropleth": [
           {
            "colorbar": {
             "outlinewidth": 0,
             "ticks": ""
            },
            "type": "choropleth"
           }
          ],
          "contour": [
           {
            "colorbar": {
             "outlinewidth": 0,
             "ticks": ""
            },
            "colorscale": [
             [
              0,
              "#0d0887"
             ],
             [
              0.1111111111111111,
              "#46039f"
             ],
             [
              0.2222222222222222,
              "#7201a8"
             ],
             [
              0.3333333333333333,
              "#9c179e"
             ],
             [
              0.4444444444444444,
              "#bd3786"
             ],
             [
              0.5555555555555556,
              "#d8576b"
             ],
             [
              0.6666666666666666,
              "#ed7953"
             ],
             [
              0.7777777777777778,
              "#fb9f3a"
             ],
             [
              0.8888888888888888,
              "#fdca26"
             ],
             [
              1,
              "#f0f921"
             ]
            ],
            "type": "contour"
           }
          ],
          "contourcarpet": [
           {
            "colorbar": {
             "outlinewidth": 0,
             "ticks": ""
            },
            "type": "contourcarpet"
           }
          ],
          "heatmap": [
           {
            "colorbar": {
             "outlinewidth": 0,
             "ticks": ""
            },
            "colorscale": [
             [
              0,
              "#0d0887"
             ],
             [
              0.1111111111111111,
              "#46039f"
             ],
             [
              0.2222222222222222,
              "#7201a8"
             ],
             [
              0.3333333333333333,
              "#9c179e"
             ],
             [
              0.4444444444444444,
              "#bd3786"
             ],
             [
              0.5555555555555556,
              "#d8576b"
             ],
             [
              0.6666666666666666,
              "#ed7953"
             ],
             [
              0.7777777777777778,
              "#fb9f3a"
             ],
             [
              0.8888888888888888,
              "#fdca26"
             ],
             [
              1,
              "#f0f921"
             ]
            ],
            "type": "heatmap"
           }
          ],
          "heatmapgl": [
           {
            "colorbar": {
             "outlinewidth": 0,
             "ticks": ""
            },
            "colorscale": [
             [
              0,
              "#0d0887"
             ],
             [
              0.1111111111111111,
              "#46039f"
             ],
             [
              0.2222222222222222,
              "#7201a8"
             ],
             [
              0.3333333333333333,
              "#9c179e"
             ],
             [
              0.4444444444444444,
              "#bd3786"
             ],
             [
              0.5555555555555556,
              "#d8576b"
             ],
             [
              0.6666666666666666,
              "#ed7953"
             ],
             [
              0.7777777777777778,
              "#fb9f3a"
             ],
             [
              0.8888888888888888,
              "#fdca26"
             ],
             [
              1,
              "#f0f921"
             ]
            ],
            "type": "heatmapgl"
           }
          ],
          "histogram": [
           {
            "marker": {
             "pattern": {
              "fillmode": "overlay",
              "size": 10,
              "solidity": 0.2
             }
            },
            "type": "histogram"
           }
          ],
          "histogram2d": [
           {
            "colorbar": {
             "outlinewidth": 0,
             "ticks": ""
            },
            "colorscale": [
             [
              0,
              "#0d0887"
             ],
             [
              0.1111111111111111,
              "#46039f"
             ],
             [
              0.2222222222222222,
              "#7201a8"
             ],
             [
              0.3333333333333333,
              "#9c179e"
             ],
             [
              0.4444444444444444,
              "#bd3786"
             ],
             [
              0.5555555555555556,
              "#d8576b"
             ],
             [
              0.6666666666666666,
              "#ed7953"
             ],
             [
              0.7777777777777778,
              "#fb9f3a"
             ],
             [
              0.8888888888888888,
              "#fdca26"
             ],
             [
              1,
              "#f0f921"
             ]
            ],
            "type": "histogram2d"
           }
          ],
          "histogram2dcontour": [
           {
            "colorbar": {
             "outlinewidth": 0,
             "ticks": ""
            },
            "colorscale": [
             [
              0,
              "#0d0887"
             ],
             [
              0.1111111111111111,
              "#46039f"
             ],
             [
              0.2222222222222222,
              "#7201a8"
             ],
             [
              0.3333333333333333,
              "#9c179e"
             ],
             [
              0.4444444444444444,
              "#bd3786"
             ],
             [
              0.5555555555555556,
              "#d8576b"
             ],
             [
              0.6666666666666666,
              "#ed7953"
             ],
             [
              0.7777777777777778,
              "#fb9f3a"
             ],
             [
              0.8888888888888888,
              "#fdca26"
             ],
             [
              1,
              "#f0f921"
             ]
            ],
            "type": "histogram2dcontour"
           }
          ],
          "mesh3d": [
           {
            "colorbar": {
             "outlinewidth": 0,
             "ticks": ""
            },
            "type": "mesh3d"
           }
          ],
          "parcoords": [
           {
            "line": {
             "colorbar": {
              "outlinewidth": 0,
              "ticks": ""
             }
            },
            "type": "parcoords"
           }
          ],
          "pie": [
           {
            "automargin": true,
            "type": "pie"
           }
          ],
          "scatter": [
           {
            "fillpattern": {
             "fillmode": "overlay",
             "size": 10,
             "solidity": 0.2
            },
            "type": "scatter"
           }
          ],
          "scatter3d": [
           {
            "line": {
             "colorbar": {
              "outlinewidth": 0,
              "ticks": ""
             }
            },
            "marker": {
             "colorbar": {
              "outlinewidth": 0,
              "ticks": ""
             }
            },
            "type": "scatter3d"
           }
          ],
          "scattercarpet": [
           {
            "marker": {
             "colorbar": {
              "outlinewidth": 0,
              "ticks": ""
             }
            },
            "type": "scattercarpet"
           }
          ],
          "scattergeo": [
           {
            "marker": {
             "colorbar": {
              "outlinewidth": 0,
              "ticks": ""
             }
            },
            "type": "scattergeo"
           }
          ],
          "scattergl": [
           {
            "marker": {
             "colorbar": {
              "outlinewidth": 0,
              "ticks": ""
             }
            },
            "type": "scattergl"
           }
          ],
          "scattermapbox": [
           {
            "marker": {
             "colorbar": {
              "outlinewidth": 0,
              "ticks": ""
             }
            },
            "type": "scattermapbox"
           }
          ],
          "scatterpolar": [
           {
            "marker": {
             "colorbar": {
              "outlinewidth": 0,
              "ticks": ""
             }
            },
            "type": "scatterpolar"
           }
          ],
          "scatterpolargl": [
           {
            "marker": {
             "colorbar": {
              "outlinewidth": 0,
              "ticks": ""
             }
            },
            "type": "scatterpolargl"
           }
          ],
          "scatterternary": [
           {
            "marker": {
             "colorbar": {
              "outlinewidth": 0,
              "ticks": ""
             }
            },
            "type": "scatterternary"
           }
          ],
          "surface": [
           {
            "colorbar": {
             "outlinewidth": 0,
             "ticks": ""
            },
            "colorscale": [
             [
              0,
              "#0d0887"
             ],
             [
              0.1111111111111111,
              "#46039f"
             ],
             [
              0.2222222222222222,
              "#7201a8"
             ],
             [
              0.3333333333333333,
              "#9c179e"
             ],
             [
              0.4444444444444444,
              "#bd3786"
             ],
             [
              0.5555555555555556,
              "#d8576b"
             ],
             [
              0.6666666666666666,
              "#ed7953"
             ],
             [
              0.7777777777777778,
              "#fb9f3a"
             ],
             [
              0.8888888888888888,
              "#fdca26"
             ],
             [
              1,
              "#f0f921"
             ]
            ],
            "type": "surface"
           }
          ],
          "table": [
           {
            "cells": {
             "fill": {
              "color": "#EBF0F8"
             },
             "line": {
              "color": "white"
             }
            },
            "header": {
             "fill": {
              "color": "#C8D4E3"
             },
             "line": {
              "color": "white"
             }
            },
            "type": "table"
           }
          ]
         },
         "layout": {
          "annotationdefaults": {
           "arrowcolor": "#2a3f5f",
           "arrowhead": 0,
           "arrowwidth": 1
          },
          "autotypenumbers": "strict",
          "coloraxis": {
           "colorbar": {
            "outlinewidth": 0,
            "ticks": ""
           }
          },
          "colorscale": {
           "diverging": [
            [
             0,
             "#8e0152"
            ],
            [
             0.1,
             "#c51b7d"
            ],
            [
             0.2,
             "#de77ae"
            ],
            [
             0.3,
             "#f1b6da"
            ],
            [
             0.4,
             "#fde0ef"
            ],
            [
             0.5,
             "#f7f7f7"
            ],
            [
             0.6,
             "#e6f5d0"
            ],
            [
             0.7,
             "#b8e186"
            ],
            [
             0.8,
             "#7fbc41"
            ],
            [
             0.9,
             "#4d9221"
            ],
            [
             1,
             "#276419"
            ]
           ],
           "sequential": [
            [
             0,
             "#0d0887"
            ],
            [
             0.1111111111111111,
             "#46039f"
            ],
            [
             0.2222222222222222,
             "#7201a8"
            ],
            [
             0.3333333333333333,
             "#9c179e"
            ],
            [
             0.4444444444444444,
             "#bd3786"
            ],
            [
             0.5555555555555556,
             "#d8576b"
            ],
            [
             0.6666666666666666,
             "#ed7953"
            ],
            [
             0.7777777777777778,
             "#fb9f3a"
            ],
            [
             0.8888888888888888,
             "#fdca26"
            ],
            [
             1,
             "#f0f921"
            ]
           ],
           "sequentialminus": [
            [
             0,
             "#0d0887"
            ],
            [
             0.1111111111111111,
             "#46039f"
            ],
            [
             0.2222222222222222,
             "#7201a8"
            ],
            [
             0.3333333333333333,
             "#9c179e"
            ],
            [
             0.4444444444444444,
             "#bd3786"
            ],
            [
             0.5555555555555556,
             "#d8576b"
            ],
            [
             0.6666666666666666,
             "#ed7953"
            ],
            [
             0.7777777777777778,
             "#fb9f3a"
            ],
            [
             0.8888888888888888,
             "#fdca26"
            ],
            [
             1,
             "#f0f921"
            ]
           ]
          },
          "colorway": [
           "#636efa",
           "#EF553B",
           "#00cc96",
           "#ab63fa",
           "#FFA15A",
           "#19d3f3",
           "#FF6692",
           "#B6E880",
           "#FF97FF",
           "#FECB52"
          ],
          "font": {
           "color": "#2a3f5f"
          },
          "geo": {
           "bgcolor": "white",
           "lakecolor": "white",
           "landcolor": "#E5ECF6",
           "showlakes": true,
           "showland": true,
           "subunitcolor": "white"
          },
          "hoverlabel": {
           "align": "left"
          },
          "hovermode": "closest",
          "mapbox": {
           "style": "light"
          },
          "paper_bgcolor": "white",
          "plot_bgcolor": "#E5ECF6",
          "polar": {
           "angularaxis": {
            "gridcolor": "white",
            "linecolor": "white",
            "ticks": ""
           },
           "bgcolor": "#E5ECF6",
           "radialaxis": {
            "gridcolor": "white",
            "linecolor": "white",
            "ticks": ""
           }
          },
          "scene": {
           "xaxis": {
            "backgroundcolor": "#E5ECF6",
            "gridcolor": "white",
            "gridwidth": 2,
            "linecolor": "white",
            "showbackground": true,
            "ticks": "",
            "zerolinecolor": "white"
           },
           "yaxis": {
            "backgroundcolor": "#E5ECF6",
            "gridcolor": "white",
            "gridwidth": 2,
            "linecolor": "white",
            "showbackground": true,
            "ticks": "",
            "zerolinecolor": "white"
           },
           "zaxis": {
            "backgroundcolor": "#E5ECF6",
            "gridcolor": "white",
            "gridwidth": 2,
            "linecolor": "white",
            "showbackground": true,
            "ticks": "",
            "zerolinecolor": "white"
           }
          },
          "shapedefaults": {
           "line": {
            "color": "#2a3f5f"
           }
          },
          "ternary": {
           "aaxis": {
            "gridcolor": "white",
            "linecolor": "white",
            "ticks": ""
           },
           "baxis": {
            "gridcolor": "white",
            "linecolor": "white",
            "ticks": ""
           },
           "bgcolor": "#E5ECF6",
           "caxis": {
            "gridcolor": "white",
            "linecolor": "white",
            "ticks": ""
           }
          },
          "title": {
           "x": 0.05
          },
          "xaxis": {
           "automargin": true,
           "gridcolor": "white",
           "linecolor": "white",
           "ticks": "",
           "title": {
            "standoff": 15
           },
           "zerolinecolor": "white",
           "zerolinewidth": 2
          },
          "yaxis": {
           "automargin": true,
           "gridcolor": "white",
           "linecolor": "white",
           "ticks": "",
           "title": {
            "standoff": 15
           },
           "zerolinecolor": "white",
           "zerolinewidth": 2
          }
         }
        },
        "title": {
         "text": "Loss vs Learning Rate for All Layer Typles and Placements"
        },
        "xaxis": {
         "anchor": "y",
         "domain": [
          0,
          1
         ],
         "exponentformat": "power",
         "showexponent": "all",
         "title": {
          "text": "lr"
         },
         "type": "log"
        },
        "yaxis": {
         "anchor": "x",
         "domain": [
          0,
          1
         ],
         "exponentformat": "power",
         "range": [
          0.6532125137753436,
          1.0791812460476247
         ],
         "showexponent": "all",
         "title": {
          "text": "loss"
         },
         "type": "log"
        }
       }
      }
     },
     "metadata": {},
     "output_type": "display_data"
    }
   ],
   "source": [
    "baseline = table[table['model_type'] == 'baseline'].sort_values(by='lr')\n",
    "rest = table[table['model_type'] != 'baseline'].sort_values(by=['model_type', 'lr'])\n",
    "\n",
    "fig = px.line(rest, x=\"lr\", y=f\"loss\", title=f\"c vs loss\", log_x=True, log_y=True, color=\"model_type\", range_y=[4.5, 12], markers=True)\n",
    "\n",
    "fig.add_trace(go.Scatter(x=baseline['lr'], y=baseline['loss'], name='baseline',\n",
    "                         line=dict(color='black', width=2, dash='dash')))\n",
    "\n",
    "fig.update_layout(\n",
    "    title=f\"Loss vs Learning Rate for All Layer Typles and Placements\",\n",
    "    yaxis = dict(\n",
    "        showexponent = 'all',\n",
    "        exponentformat = 'power'\n",
    "    ),\n",
    "    xaxis = dict(\n",
    "        showexponent = 'all',\n",
    "        exponentformat = 'power'\n",
    "    )\n",
    ")\n",
    "fig.show()"
   ]
  }
 ],
 "metadata": {
  "kernelspec": {
   "display_name": "llm-random",
   "language": "python",
   "name": "python3"
  },
  "language_info": {
   "codemirror_mode": {
    "name": "ipython",
    "version": 3
   },
   "file_extension": ".py",
   "mimetype": "text/x-python",
   "name": "python",
   "nbconvert_exporter": "python",
   "pygments_lexer": "ipython3",
   "version": "3.9.19"
  }
 },
 "nbformat": 4,
 "nbformat_minor": 2
}
