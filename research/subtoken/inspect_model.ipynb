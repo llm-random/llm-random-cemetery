{
 "cells": [
  {
   "cell_type": "code",
   "execution_count": 1,
   "metadata": {},
   "outputs": [],
   "source": [
    "import os\n",
    "import sys\n",
    "\n",
    "top_level_path = os.path.realpath('../..')\n",
    "\n",
    "def add_to_path(path):\n",
    "    if path not in sys.path:\n",
    "        sys.path.append(path)\n",
    "\n",
    "add_to_path(top_level_path)"
   ]
  },
  {
   "cell_type": "code",
   "execution_count": null,
   "metadata": {},
   "outputs": [],
   "source": [
    "import pickle\n",
    "\n",
    "from research.subtoken.train.train import main\n",
    "slurmid = \"!INSERT SLURM ID!\"\n",
    "with open(f\"{slurmid}_args.pickle\", 'rb') as f:\n",
    "    args = pickle.load(f)\n",
    "\n",
    "model = main(rank=None, args=args, return_model=True)"
   ]
  }
 ],
 "metadata": {
  "kernelspec": {
   "display_name": "llm-random",
   "language": "python",
   "name": "python3"
  },
  "language_info": {
   "codemirror_mode": {
    "name": "ipython",
    "version": 3
   },
   "file_extension": ".py",
   "mimetype": "text/x-python",
   "name": "python",
   "nbconvert_exporter": "python",
   "pygments_lexer": "ipython3",
   "version": "3.10.13"
  }
 },
 "nbformat": 4,
 "nbformat_minor": 2
}
