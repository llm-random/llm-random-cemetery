{
 "cells": [
  {
   "cell_type": "code",
   "execution_count": 3,
   "metadata": {},
   "outputs": [],
   "source": [
    "import torch\n",
    "import torch.nn.functional as F"
   ]
  },
  {
   "cell_type": "code",
   "execution_count": 4,
   "metadata": {},
   "outputs": [
    {
     "data": {
      "text/plain": [
       "27200"
      ]
     },
     "execution_count": 4,
     "metadata": {},
     "output_type": "execute_result"
    }
   ],
   "source": [
    "6_800*4"
   ]
  },
  {
   "cell_type": "code",
   "execution_count": 5,
   "metadata": {},
   "outputs": [
    {
     "data": {
      "text/plain": [
       "tensor([[0.5000, 0.0000, 0.0000,  ..., 0.0000, 0.0000, 0.0000],\n",
       "        [0.5000, 0.0000, 0.0000,  ..., 0.0000, 0.0000, 0.0000],\n",
       "        [0.0000, 0.5000, 0.0000,  ..., 0.0000, 0.0000, 0.0000],\n",
       "        ...,\n",
       "        [0.0000, 0.0000, 0.0000,  ..., 0.0000, 0.5000, 0.0000],\n",
       "        [0.0000, 0.0000, 0.0000,  ..., 0.0000, 0.0000, 0.5000],\n",
       "        [0.0000, 0.0000, 0.0000,  ..., 0.0000, 0.0000, 0.5000]])"
      ]
     },
     "execution_count": 5,
     "metadata": {},
     "output_type": "execute_result"
    }
   ],
   "source": [
    "dmodel_porojected = 512\n",
    "# dmodel = 256\n",
    "projection = torch.zeros(dmodel_porojected, dmodel_porojected)\n",
    "mask = torch.eye(dmodel_porojected).bool()\n",
    "\n",
    "projection = projection.masked_fill(mask, 0.5)\n",
    "\n",
    "projection = projection[:, ::2] + projection[:, 1::2]\n",
    "projection"
   ]
  },
  {
   "cell_type": "code",
   "execution_count": 6,
   "metadata": {},
   "outputs": [
    {
     "data": {
      "text/plain": [
       "tensor([[1., 0., 0.,  ..., 0., 0., 0.],\n",
       "        [0., 1., 0.,  ..., 0., 0., 0.],\n",
       "        [0., 0., 1.,  ..., 0., 0., 0.],\n",
       "        ...,\n",
       "        [0., 0., 0.,  ..., 0., 0., 0.],\n",
       "        [0., 0., 0.,  ..., 0., 0., 0.],\n",
       "        [0., 0., 0.,  ..., 0., 0., 0.]])"
      ]
     },
     "execution_count": 6,
     "metadata": {},
     "output_type": "execute_result"
    }
   ],
   "source": [
    "dmodel_porojected = 512\n",
    "# dmodel = 256\n",
    "projection = torch.zeros(dmodel_porojected, dmodel_porojected)\n",
    "mask = torch.eye(dmodel_porojected).bool()\n",
    "\n",
    "projection = projection.masked_fill(mask, 1)\n",
    "\n",
    "projection = projection[:, :int(dmodel_porojected/2)]\n",
    "projection"
   ]
  },
  {
   "cell_type": "code",
   "execution_count": 7,
   "metadata": {},
   "outputs": [
    {
     "name": "stdout",
     "output_type": "stream",
     "text": [
      "Orthogonal matrix:\n",
      "tensor([[-0.7757,  0.1727,  0.4806,  0.1165, -0.3520],\n",
      "        [ 0.2687,  0.3110, -0.0160, -0.6212, -0.6670],\n",
      "        [ 0.4237, -0.4287,  0.3395,  0.5095, -0.5118],\n",
      "        [-0.1872,  0.1991, -0.7613,  0.4476, -0.3812],\n",
      "        [ 0.3340,  0.8062,  0.2718,  0.3750,  0.1547]])\n"
     ]
    }
   ],
   "source": [
    "import torch\n",
    "import torch.nn as nn\n",
    "\n",
    "# Define the shape of the matrix\n",
    "rows, cols = 5, 5\n",
    "\n",
    "# Create a tensor with the desired shape\n",
    "matrix = torch.empty(rows, cols)\n",
    "\n",
    "# Initialize the tensor with an orthogonal matrix\n",
    "nn.init.orthogonal_(matrix)\n",
    "\n",
    "# Print the result\n",
    "print(\"Orthogonal matrix:\")\n",
    "print(matrix)\n"
   ]
  },
  {
   "cell_type": "code",
   "execution_count": 8,
   "metadata": {},
   "outputs": [
    {
     "name": "stdout",
     "output_type": "stream",
     "text": [
      "Orthogonal matrix with column sums equal to 1:\n",
      "tensor([[ 0.3460, -1.1121,  0.9585,  0.9917,  0.1774],\n",
      "        [-0.8753,  0.2991,  0.7718, -0.7140,  0.3263],\n",
      "        [ 0.0614,  1.4410,  0.4136,  1.1643,  0.0409],\n",
      "        [ 1.3383,  0.4219,  0.3861, -0.8127,  0.1346],\n",
      "        [ 0.1296, -0.0498, -1.5301,  0.3707,  0.3208]])\n",
      "\n",
      "Column sums:\n",
      "tensor([1.0000, 1.0000, 1.0000, 1.0000, 1.0000])\n"
     ]
    }
   ],
   "source": [
    "import torch\n",
    "import torch.nn as nn\n",
    "\n",
    "# Define the size of the matrix\n",
    "rows, cols = 5, 5\n",
    "\n",
    "# Create a random tensor with the desired shape\n",
    "matrix = torch.empty(rows, cols)\n",
    "\n",
    "# Initialize the matrix to be orthogonal\n",
    "nn.init.orthogonal_(matrix)\n",
    "\n",
    "# Normalize each column so that its sum equals 1\n",
    "matrix = matrix / matrix.sum(dim=0, keepdim=True)\n",
    "\n",
    "# Print the result\n",
    "print(\"Orthogonal matrix with column sums equal to 1:\")\n",
    "print(matrix)\n",
    "print(\"\\nColumn sums:\")\n",
    "print(matrix.sum(dim=0))"
   ]
  },
  {
   "cell_type": "code",
   "execution_count": 9,
   "metadata": {},
   "outputs": [
    {
     "name": "stdout",
     "output_type": "stream",
     "text": [
      "Matrix with non-negative values and column sums equal to 1:\n",
      "tensor([[0.1466, 0.0457, 0.0547, 0.0187, 0.0623],\n",
      "        [0.1311, 0.1760, 0.1589, 0.1041, 0.0663],\n",
      "        [0.1024, 0.0671, 0.1403, 0.0975, 0.0037],\n",
      "        [0.1421, 0.1780, 0.0897, 0.0365, 0.1042],\n",
      "        [0.1438, 0.0445, 0.1861, 0.1528, 0.2133],\n",
      "        [0.1157, 0.0513, 0.0281, 0.0771, 0.0369],\n",
      "        [0.0030, 0.1039, 0.0141, 0.1467, 0.0176],\n",
      "        [0.0952, 0.0308, 0.1059, 0.1574, 0.1836],\n",
      "        [0.1112, 0.1466, 0.0946, 0.1497, 0.1681],\n",
      "        [0.0088, 0.1562, 0.1275, 0.0594, 0.1440]])\n",
      "\n",
      "Column sums:\n",
      "tensor([1.0000, 1.0000, 1.0000, 1.0000, 1.0000])\n"
     ]
    }
   ],
   "source": [
    "import torch\n",
    "import torch.nn.functional as F\n",
    "\n",
    "# Define the size of the matrix\n",
    "rows, cols = 10, 5\n",
    "\n",
    "# Step 1: Generate a random non-negative matrix\n",
    "matrix = torch.rand(rows, cols)  # Values are uniformly sampled from [0, 1)\n",
    "\n",
    "# Step 2: Normalize each column so that its sum equals 1\n",
    "matrix = matrix / matrix.sum(dim=0, keepdim=True)\n",
    "\n",
    "# Print the result\n",
    "print(\"Matrix with non-negative values and column sums equal to 1:\")\n",
    "print(matrix)\n",
    "print(\"\\nColumn sums:\")\n",
    "print(matrix.sum(dim=0))"
   ]
  },
  {
   "cell_type": "code",
   "execution_count": 10,
   "metadata": {},
   "outputs": [
    {
     "name": "stdout",
     "output_type": "stream",
     "text": [
      "torch.Size([2048, 1024])\n"
     ]
    }
   ],
   "source": [
    "p = torch.rand(512, 256)/256\n",
    "pz = torch.zeros(512, 256)\n",
    "\n",
    "# p = torch.rand(1, 2)\n",
    "# pz = torch.zeros(1, 2)\n",
    "\n",
    "projection_4 = torch.concat(\n",
    "    (torch.concat((p, pz, pz, pz), dim=0),\n",
    "    torch.concat((pz, p, pz, pz), dim=0),\n",
    "    torch.concat((pz, pz, p, pz), dim=0),\n",
    "    torch.concat((pz, pz, pz, p), dim=0),)\n",
    ", dim=1)\n",
    "# projection_4 = torch.concat((projection_4, projection_4, projection_4, projection_4), dim=1)\n",
    "print(projection_4.shape)\n",
    "\n",
    "w = torch.rand(2048, 512)"
   ]
  },
  {
   "cell_type": "code",
   "execution_count": 11,
   "metadata": {},
   "outputs": [
    {
     "name": "stdout",
     "output_type": "stream",
     "text": [
      "Approximate Orthogonal Matrix with Non-Negative Values:\n",
      "tensor([[0.1421, 0.0000, 0.0000, 0.0538, 0.8074],\n",
      "        [0.0000, 0.4980, 0.1589, 0.2008, 0.1590],\n",
      "        [0.4215, 0.2402, 0.0000, 0.3601, 0.0000],\n",
      "        [0.3885, 0.2618, 0.3973, 0.0000, 0.0336],\n",
      "        [0.0479, 0.0000, 0.4437, 0.3852, 0.0000]])\n",
      "\n",
      "Column sums:\n",
      "tensor([1.0000, 1.0000, 1.0000, 1.0000, 1.0000])\n"
     ]
    }
   ],
   "source": [
    "import torch\n",
    "\n",
    "def approximate_orthogonal(rows, cols):\n",
    "    # Step 1: Generate a random non-negative matrix\n",
    "    matrix = torch.rand(rows, cols)\n",
    "    \n",
    "    # Step 2: Normalize columns to sum to 1\n",
    "    matrix = matrix / matrix.sum(dim=0, keepdim=True)\n",
    "    \n",
    "    # Step 3: (Optional) Project onto orthogonal space (soft constraint)\n",
    "    # This ensures matrix.T @ matrix is close to identity\n",
    "    u, _, v = torch.svd(matrix)\n",
    "    orthogonal_matrix = torch.mm(u, v.t())\n",
    "    \n",
    "    # Ensure non-negative and normalize columns again\n",
    "    orthogonal_matrix = torch.clamp(orthogonal_matrix, min=0)\n",
    "    orthogonal_matrix = orthogonal_matrix / orthogonal_matrix.sum(dim=0, keepdim=True)\n",
    "    \n",
    "    return orthogonal_matrix\n",
    "\n",
    "# Example usage\n",
    "rows, cols = 5, 5\n",
    "approx_matrix = approximate_orthogonal(rows, cols)\n",
    "print(\"Approximate Orthogonal Matrix with Non-Negative Values:\")\n",
    "print(approx_matrix)\n",
    "print(\"\\nColumn sums:\")\n",
    "print(approx_matrix.sum(dim=0))"
   ]
  },
  {
   "cell_type": "code",
   "execution_count": 12,
   "metadata": {},
   "outputs": [
    {
     "data": {
      "text/plain": [
       "torch.Size([512, 2048])"
      ]
     },
     "execution_count": 12,
     "metadata": {},
     "output_type": "execute_result"
    }
   ],
   "source": [
    "w.T.shape"
   ]
  },
  {
   "cell_type": "code",
   "execution_count": 13,
   "metadata": {},
   "outputs": [
    {
     "data": {
      "text/plain": [
       "torch.Size([1024, 2048])"
      ]
     },
     "execution_count": 13,
     "metadata": {},
     "output_type": "execute_result"
    }
   ],
   "source": [
    "projection_4.T.shape"
   ]
  },
  {
   "cell_type": "code",
   "execution_count": 14,
   "metadata": {},
   "outputs": [
    {
     "data": {
      "text/plain": [
       "tensor([[8.2097e-04, 5.4361e-04, 5.8225e-04,  ..., 0.0000e+00, 0.0000e+00,\n",
       "         0.0000e+00],\n",
       "        [2.9144e-03, 8.1997e-05, 2.4070e-03,  ..., 0.0000e+00, 0.0000e+00,\n",
       "         0.0000e+00],\n",
       "        [3.4595e-03, 3.1413e-03, 2.5275e-03,  ..., 0.0000e+00, 0.0000e+00,\n",
       "         0.0000e+00],\n",
       "        ...,\n",
       "        [0.0000e+00, 0.0000e+00, 0.0000e+00,  ..., 2.0823e-04, 1.2745e-03,\n",
       "         2.9750e-03],\n",
       "        [0.0000e+00, 0.0000e+00, 0.0000e+00,  ..., 2.4249e-03, 9.4952e-04,\n",
       "         1.6059e-03],\n",
       "        [0.0000e+00, 0.0000e+00, 0.0000e+00,  ..., 2.4418e-03, 2.4409e-03,\n",
       "         2.0930e-03]])"
      ]
     },
     "execution_count": 14,
     "metadata": {},
     "output_type": "execute_result"
    }
   ],
   "source": [
    "projection_4"
   ]
  },
  {
   "cell_type": "code",
   "execution_count": 15,
   "metadata": {},
   "outputs": [
    {
     "ename": "RuntimeError",
     "evalue": "mat1 and mat2 shapes cannot be multiplied (512x2048 and 1024x2048)",
     "output_type": "error",
     "traceback": [
      "\u001b[0;31m---------------------------------------------------------------------------\u001b[0m",
      "\u001b[0;31mRuntimeError\u001b[0m                              Traceback (most recent call last)",
      "Cell \u001b[0;32mIn[15], line 1\u001b[0m\n\u001b[0;32m----> 1\u001b[0m (\u001b[43mw\u001b[49m\u001b[38;5;241;43m.\u001b[39;49m\u001b[43mT\u001b[49m\u001b[38;5;129;43m@projection_4\u001b[39;49m\u001b[38;5;241;43m.\u001b[39;49m\u001b[43mT\u001b[49m)\n",
      "\u001b[0;31mRuntimeError\u001b[0m: mat1 and mat2 shapes cannot be multiplied (512x2048 and 1024x2048)"
     ]
    }
   ],
   "source": [
    "(w.T@projection_4.T)"
   ]
  },
  {
   "cell_type": "code",
   "execution_count": 13,
   "metadata": {},
   "outputs": [],
   "source": [
    "\n",
    "\n",
    "torch.manual_seed(27)\n",
    "\n",
    "# Example tensor of shape (1, 1, H, W)\n",
    "DIM = 4\n",
    "W = torch.rand(DIM, DIM)\n",
    "P1 = torch.rand(int(DIM/2), DIM)\n",
    "P2 = torch.rand(DIM, int(DIM/2))\n",
    "\n"
   ]
  },
  {
   "cell_type": "code",
   "execution_count": 16,
   "metadata": {},
   "outputs": [
    {
     "data": {
      "text/plain": [
       "torch.Size([2, 4])"
      ]
     },
     "execution_count": 16,
     "metadata": {},
     "output_type": "execute_result"
    }
   ],
   "source": [
    "P1.shape"
   ]
  },
  {
   "cell_type": "code",
   "execution_count": 17,
   "metadata": {},
   "outputs": [
    {
     "data": {
      "text/plain": [
       "torch.Size([4, 4])"
      ]
     },
     "execution_count": 17,
     "metadata": {},
     "output_type": "execute_result"
    }
   ],
   "source": [
    "W.shape"
   ]
  },
  {
   "cell_type": "code",
   "execution_count": 15,
   "metadata": {},
   "outputs": [
    {
     "data": {
      "text/plain": [
       "tensor([[1.5872, 1.1626, 1.6426, 0.9742],\n",
       "        [0.4341, 0.6854, 0.8121, 0.5155]])"
      ]
     },
     "execution_count": 15,
     "metadata": {},
     "output_type": "execute_result"
    }
   ],
   "source": [
    "P1@W#@P2"
   ]
  },
  {
   "cell_type": "code",
   "execution_count": 73,
   "metadata": {},
   "outputs": [],
   "source": [
    "i = torch.rand([100, 256])\n",
    "p1 = torch.rand([512, 256]) #P torch.Size([256, 512])\n",
    "w = torch.rand([1536, 512]) #W torch.Size([256, 1536])\n",
    "p2 = torch.rand([768, 1536]) #P torch.Size([256, 768])"
   ]
  },
  {
   "cell_type": "code",
   "execution_count": 74,
   "metadata": {},
   "outputs": [
    {
     "data": {
      "text/plain": [
       "torch.Size([100, 768])"
      ]
     },
     "execution_count": 74,
     "metadata": {},
     "output_type": "execute_result"
    }
   ],
   "source": [
    "(i@p1.T@w.T@p2.T).shape"
   ]
  },
  {
   "cell_type": "code",
   "execution_count": 5,
   "metadata": {},
   "outputs": [],
   "source": [
    "DIM1 = 12\n",
    "DIM2 = 4\n",
    "W = torch.rand(DIM1, DIM2)\n",
    "P1 = torch.rand(int(DIM1/2), DIM1)\n",
    "P2 = torch.rand(DIM2, int(DIM2/2))"
   ]
  },
  {
   "cell_type": "code",
   "execution_count": 6,
   "metadata": {},
   "outputs": [
    {
     "name": "stdout",
     "output_type": "stream",
     "text": [
      "torch.Size([12, 4])\n",
      "torch.Size([6, 2])\n"
     ]
    },
    {
     "data": {
      "text/plain": [
       "tensor([[5.6443, 5.0776],\n",
       "        [6.5575, 5.7987],\n",
       "        [7.7880, 7.0714],\n",
       "        [7.1346, 6.4522],\n",
       "        [6.2099, 5.7591],\n",
       "        [7.6796, 6.9450]])"
      ]
     },
     "execution_count": 6,
     "metadata": {},
     "output_type": "execute_result"
    }
   ],
   "source": [
    "r = P1@W@P2\n",
    "print(W.shape)\n",
    "print(r.shape)\n",
    "r"
   ]
  },
  {
   "cell_type": "code",
   "execution_count": 28,
   "metadata": {},
   "outputs": [],
   "source": [
    "DIM1 = 50257\n",
    "DIM2 = 512\n",
    "W = torch.rand(DIM1, DIM2)\n",
    "P2 = torch.rand(DIM2, int(DIM2/2))"
   ]
  },
  {
   "cell_type": "code",
   "execution_count": 29,
   "metadata": {},
   "outputs": [
    {
     "data": {
      "text/plain": [
       "torch.Size([502, 2])"
      ]
     },
     "execution_count": 29,
     "metadata": {},
     "output_type": "execute_result"
    }
   ],
   "source": [
    "(W@P2).shape"
   ]
  },
  {
   "cell_type": "code",
   "execution_count": 7,
   "metadata": {},
   "outputs": [],
   "source": [
    "# xb = 512\n",
    "# yb = 2048\n",
    "# xs = 256\n",
    "# ys = 1024\n",
    "# W = torch.rand(xb, yb)\n",
    "# P1 = torch.rand(xs, xb)\n",
    "# P2 = torch.rand(yb, ys)\n",
    "\n",
    "# r = P1@W@P2\n",
    "# print(W.shape)\n",
    "# print(r.shape)\n",
    "# r"
   ]
  },
  {
   "cell_type": "code",
   "execution_count": 2,
   "metadata": {},
   "outputs": [
    {
     "data": {
      "text/plain": [
       "192.0"
      ]
     },
     "execution_count": 2,
     "metadata": {},
     "output_type": "execute_result"
    }
   ],
   "source": [
    "100663296/256/256/8"
   ]
  },
  {
   "cell_type": "code",
   "execution_count": 9,
   "metadata": {},
   "outputs": [
    {
     "data": {
      "text/plain": [
       "Linear(in_features=4, out_features=8, bias=False)"
      ]
     },
     "execution_count": 9,
     "metadata": {},
     "output_type": "execute_result"
    }
   ],
   "source": [
    "from lizrd.core.misc import Linear\n",
    "\n",
    "\n",
    "l = Linear(\n",
    "    4, #xs\n",
    "    8, #xb\n",
    "    init_type = \"kaiming_uniform\",\n",
    "    init_scale = 1.0\n",
    ")\n",
    "l"
   ]
  },
  {
   "cell_type": "code",
   "execution_count": 45,
   "metadata": {},
   "outputs": [],
   "source": [
    "W = torch.rand([256, 256, 1536])\n",
    "P = torch.rand([256*2, 256])"
   ]
  },
  {
   "cell_type": "code",
   "execution_count": 46,
   "metadata": {},
   "outputs": [],
   "source": [
    "q, k, v = torch.chunk(W, 3, dim=-1)"
   ]
  },
  {
   "cell_type": "code",
   "execution_count": 47,
   "metadata": {},
   "outputs": [
    {
     "data": {
      "text/plain": [
       "torch.Size([256, 256, 768])"
      ]
     },
     "execution_count": 47,
     "metadata": {},
     "output_type": "execute_result"
    }
   ],
   "source": [
    "q = q@P\n",
    "k = k@P\n",
    "v = v@P\n",
    "\n",
    "r = torch.concat((q,k,v), dim=-1)\n",
    "r.shape"
   ]
  },
  {
   "cell_type": "code",
   "execution_count": 58,
   "metadata": {},
   "outputs": [
    {
     "data": {
      "text/plain": [
       "2.875"
      ]
     },
     "execution_count": 58,
     "metadata": {},
     "output_type": "execute_result"
    }
   ],
   "source": [
    "dm = 512*2\n",
    "((dm*3)**2+(dm*dm/2)*5)/((dm*dm/2)*8)"
   ]
  },
  {
   "cell_type": "code",
   "execution_count": 67,
   "metadata": {},
   "outputs": [
    {
     "data": {
      "text/plain": [
       "0.6666666666666666"
      ]
     },
     "execution_count": 67,
     "metadata": {},
     "output_type": "execute_result"
    }
   ],
   "source": [
    "dm = 512\n",
    "(((dm*dm/2)*8)/((dm**2)*6))"
   ]
  },
  {
   "cell_type": "code",
   "execution_count": 80,
   "metadata": {},
   "outputs": [
    {
     "data": {
      "text/plain": [
       "tensor([False, False, False, False, False,  True,  True,  True,  True,  True])"
      ]
     },
     "execution_count": 80,
     "metadata": {},
     "output_type": "execute_result"
    }
   ],
   "source": [
    "projected_dmodel = 20\n",
    "dm = 10\n",
    "N_HEADS = 2\n",
    "\n",
    "columns_to_remove = torch.randperm(int(dm/N_HEADS))[:projected_dmodel-dm]\n",
    "mask = torch.ones(int(projected_dmodel/N_HEADS), dtype=torch.bool)\n",
    "mask[columns_to_remove] = False\n",
    "mask"
   ]
  },
  {
   "cell_type": "code",
   "execution_count": 135,
   "metadata": {},
   "outputs": [
    {
     "name": "stdout",
     "output_type": "stream",
     "text": [
      "tensor([False, False,  True, False, False,  True,  True,  True,  True, False])\n"
     ]
    }
   ],
   "source": [
    "projected_dmodel = 20\n",
    "dm = 10\n",
    "N_HEADS = 2\n",
    "\n",
    "projection = torch.zeros(projected_dmodel, projected_dmodel)\n",
    "mask = torch.eye(projected_dmodel).bool()\n",
    "projection = projection.masked_fill(mask, 1)\n",
    "\n",
    "columns_to_remove = torch.randperm(int(projected_dmodel/N_HEADS))[:int(projected_dmodel/N_HEADS-dm/N_HEADS)]\n",
    "mask = torch.ones(int(projected_dmodel/N_HEADS), dtype=torch.bool)\n",
    "mask[columns_to_remove] = False\n",
    "# mask[:int(len(mask)/2)] = False #dev\n",
    "print(mask) #dev\n",
    "projection = projection[:, torch.concat([mask]*N_HEADS)]"
   ]
  },
  {
   "cell_type": "code",
   "execution_count": 126,
   "metadata": {},
   "outputs": [
    {
     "data": {
      "text/plain": [
       "tensor([False,  True, False,  True, False, False,  True, False,  True,  True,\n",
       "        False,  True, False,  True, False, False,  True, False,  True,  True,\n",
       "        False,  True, False,  True, False, False,  True, False,  True,  True])"
      ]
     },
     "execution_count": 126,
     "metadata": {},
     "output_type": "execute_result"
    }
   ],
   "source": [
    "torch.concat([mask]*3)"
   ]
  }
 ],
 "metadata": {
  "kernelspec": {
   "display_name": "randomllm",
   "language": "python",
   "name": "python3"
  },
  "language_info": {
   "codemirror_mode": {
    "name": "ipython",
    "version": 3
   },
   "file_extension": ".py",
   "mimetype": "text/x-python",
   "name": "python",
   "nbconvert_exporter": "python",
   "pygments_lexer": "ipython3",
   "version": "3.10.14"
  }
 },
 "nbformat": 4,
 "nbformat_minor": 2
}
