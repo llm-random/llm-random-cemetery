{
 "cells": [
  {
   "cell_type": "code",
   "execution_count": 1,
   "metadata": {},
   "outputs": [],
   "source": [
    "import yaml"
   ]
  },
  {
   "cell_type": "code",
   "execution_count": 2,
   "metadata": {},
   "outputs": [],
   "source": [
    "def recursive_get_param(config_path, param_name):\n",
    "    with open(config_path, 'r') as file:\n",
    "        config = yaml.safe_load(file)\n",
    "\n",
    "    if param_name in config.get('params', {}):\n",
    "        return config.get('params', {}).get(param_name, None)\n",
    "    else:\n",
    "        return recursive_get_param(config.get('parent', None), param_name)\n",
    "\n",
    "def get_param(config, param_name):\n",
    "    if param_name in config.get('params', {}):\n",
    "        return config.get('params', {}).get(param_name, None)\n",
    "    else:\n",
    "        return recursive_get_param(config.get('parent', None), param_name)\n",
    "\n",
    "def extract_params(yaml_file):\n",
    "    with open(yaml_file, 'r') as file:\n",
    "        config = yaml.safe_load(file)\n",
    "\n",
    "    # Extract the learning rate\n",
    "    main_dict = {}\n",
    "    main_dict['dmodel'] = get_param(config, 'dmodel')\n",
    "    main_dict['n_blocks'] = get_param(config, 'n_blocks')\n",
    "    main_dict['gated'] = True\n",
    "    main_dict['batch_size'] = get_param(config, 'batch_size')\n",
    "    main_dict['cutoff'] = get_param(config, 'cutoff')\n",
    "    main_dict['n_steps'] = get_param(config, 'n_steps')\n",
    "\n",
    "    return main_dict"
   ]
  },
  {
   "cell_type": "code",
   "execution_count": 3,
   "metadata": {},
   "outputs": [],
   "source": [
    "def active_params(dmodel, n_blocks, gated=False):\n",
    "    if not gated:\n",
    "        params = 12 * (dmodel **2) * n_blocks\n",
    "        return params\n",
    "    else:\n",
    "        params = 16 * (dmodel **2) * n_blocks\n",
    "        return params\n",
    "    \n",
    "def total_moe_params(dmodel, n_blocks, exp_rate, gated=False):\n",
    "    if not gated:\n",
    "        expert = 8 * dmodel ** 2\n",
    "    else:\n",
    "        expert = 12 * dmodel ** 2\n",
    "    \n",
    "    attention = 4 * dmodel ** 2\n",
    "    feedforward = exp_rate * expert\n",
    "\n",
    "    params = n_blocks * (attention + feedforward)\n",
    "    return params\n",
    "\n",
    "def calc_tokens(cutoff, batch_size, n_steps):\n",
    "    tokens = cutoff * batch_size * n_steps\n",
    "    return tokens\n",
    "\n",
    "def compute_optimal(dmodel, n_blocks, cutoff, batch_size, tok_param_ratio=20, gated=False):\n",
    "    params = active_params(dmodel, n_blocks, gated=gated)\n",
    "    one_iter_tokens = calc_tokens(cutoff, batch_size, 1)\n",
    "    n_steps = tok_param_ratio * params / one_iter_tokens\n",
    "    return n_steps\n",
    "\n",
    "def compute_ratio(dmodel, n_blocks, cutoff, batch_size, n_steps, gated=False):\n",
    "    params = active_params(dmodel, n_blocks, gated=gated)\n",
    "    print(f'active: {round(params/1000000, 2)}M')\n",
    "    tokens = calc_tokens(cutoff, batch_size, n_steps)\n",
    "    print(f'tokens: {tokens}')\n",
    "    ratio = tokens / params\n",
    "    return ratio\n",
    "\n",
    "def compute_total_moe_params_ratio(dmodel, n_blocks, cutoff, batch_size, n_steps, gated=False):\n",
    "    params = total_moe_params(dmodel, n_blocks, exp_rate=8, gated=gated)\n",
    "    print(f'total: {params}')\n",
    "    tokens = calc_tokens(cutoff, batch_size, n_steps)\n",
    "    print(f'tokens: {tokens}')\n",
    "    ratio = tokens / params\n",
    "    return ratio"
   ]
  },
  {
   "cell_type": "code",
   "execution_count": 4,
   "metadata": {},
   "outputs": [
    {
     "name": "stdout",
     "output_type": "stream",
     "text": [
      "{'dmodel': 768, 'n_blocks': 12, 'gated': True, 'batch_size': 256, 'cutoff': 1024, 'n_steps': 10000}\n",
      "active: 113.25M\n",
      "tokens: 2621440000\n",
      "ratio: 23.14814814814815\n"
     ]
    }
   ],
   "source": [
    "yaml_file = 'configs/experiments/relative_lr/dense_base.yaml'\n",
    "params_dict = extract_params(yaml_file)\n",
    "print(params_dict)\n",
    "\n",
    "ratio = compute_ratio(**params_dict)\n",
    "print(f'ratio: {ratio}')"
   ]
  },
  {
   "cell_type": "code",
   "execution_count": 5,
   "metadata": {},
   "outputs": [
    {
     "name": "stdout",
     "output_type": "stream",
     "text": [
      "total: 707788800\n",
      "tokens: 2621440000\n",
      "ratio: 3.7037037037037037\n"
     ]
    }
   ],
   "source": [
    "ratio = compute_total_moe_params_ratio(**params_dict)\n",
    "print(f'ratio: {ratio}')"
   ]
  },
  {
   "cell_type": "code",
   "execution_count": 6,
   "metadata": {},
   "outputs": [
    {
     "name": "stdout",
     "output_type": "stream",
     "text": [
      "tokens: 64.0B\n",
      "params: 0.91B\n",
      "\n"
     ]
    }
   ],
   "source": [
    "batch_size = 384\n",
    "cutoff = 1024\n",
    "n_steps = 50000\n",
    "\n",
    "dmodel = 1536\n",
    "n_blocks = 24\n",
    "\n",
    "batch_size = 512\n",
    "cutoff = 512\n",
    "n_steps = 244150\n",
    "\n",
    "tokens = calc_tokens(cutoff=cutoff, batch_size=batch_size, n_steps=n_steps)\n",
    "active = active_params(dmodel, n_blocks, gated=True)\n",
    "\n",
    "print(f'tokens: {round(tokens/1000000000, 2)}B')\n",
    "print(f'params: {round(active/1000000000, 2)}B')\n",
    "print()"
   ]
  },
  {
   "cell_type": "code",
   "execution_count": 7,
   "metadata": {},
   "outputs": [
    {
     "name": "stdout",
     "output_type": "stream",
     "text": [
      "13107200000\n"
     ]
    }
   ],
   "source": [
    "print(50000 * batch_size * cutoff)"
   ]
  },
  {
   "cell_type": "code",
   "execution_count": 8,
   "metadata": {},
   "outputs": [
    {
     "name": "stdout",
     "output_type": "stream",
     "text": [
      "905969664\n",
      "5662310400.0\n",
      "5662310400\n"
     ]
    }
   ],
   "source": [
    "active = active_params(dmodel, n_blocks, gated=True)\n",
    "print(active)\n",
    "\n",
    "exp_rate = 8\n",
    "total = active * (1/4 + 3/4*exp_rate)\n",
    "print(total)\n",
    "total = total_moe_params(\n",
    "    dmodel=dmodel,\n",
    "    n_blocks=n_blocks,\n",
    "    exp_rate=exp_rate,\n",
    "    gated=True\n",
    ")\n",
    "print(total)"
   ]
  },
  {
   "cell_type": "code",
   "execution_count": 9,
   "metadata": {},
   "outputs": [],
   "source": [
    "import math"
   ]
  },
  {
   "cell_type": "code",
   "execution_count": 10,
   "metadata": {},
   "outputs": [],
   "source": [
    "class CosineScheduler():\n",
    "    def __init__(\n",
    "        self,\n",
    "        lr_warmup_steps: int,\n",
    "        lr: float,\n",
    "        final_lr_step: int,\n",
    "        final_lr_fraction: float,\n",
    "        ratio_lr,\n",
    "        scheduler_fraction,\n",
    "    ):\n",
    "        self.lr_warmup_steps = lr_warmup_steps\n",
    "        self.lr = lr\n",
    "        self.final_lr_step = final_lr_step\n",
    "        self.final_lr_fraction = final_lr_fraction\n",
    "        self.ratio = ratio_lr\n",
    "        self.fraction = scheduler_fraction\n",
    "\n",
    "    def get_lr(self, step: int, start_lr=None, end_lr=None):\n",
    "        start_lr = start_lr if start_lr is not None else self.lr\n",
    "        end_lr = end_lr if end_lr is not None else self.lr * self.final_lr_fraction\n",
    "\n",
    "        if step < self.lr_warmup_steps:\n",
    "            return start_lr * (step + 1) / self.lr_warmup_steps\n",
    "        # cosine schedule that ends at final_lr_fraction * lr, then constant\n",
    "        elif step < self.final_lr_step:\n",
    "            return end_lr + 0.5 * (1 - end_lr/start_lr) * start_lr * (\n",
    "                1\n",
    "                + math.cos(\n",
    "                    math.pi\n",
    "                    * (step - self.lr_warmup_steps)\n",
    "                    / (self.final_lr_step - self.lr_warmup_steps)\n",
    "                )\n",
    "            )\n",
    "        else:\n",
    "            return end_lr\n",
    "\n",
    "    # had to overwrite it here, because AbstractLRScheduler doesn't know final_lr_fraction and othr params necessary for relative lr fractions\n",
    "    def set_lr(self, step: int):\n",
    "        \n",
    "        start_lr = self.lr * self.ratio\n",
    "        end_lr = self.lr * self.final_lr_fraction * self.fraction\n",
    "        return self.get_lr(step, start_lr=start_lr, end_lr=end_lr)\n"
   ]
  },
  {
   "cell_type": "code",
   "execution_count": 11,
   "metadata": {},
   "outputs": [
    {
     "name": "stdout",
     "output_type": "stream",
     "text": [
      "lr new: 15.0\n"
     ]
    }
   ],
   "source": [
    "lr_warmup_steps: int = 0\n",
    "lr: float = 50\n",
    "final_lr_step = 10000\n",
    "final_lr_fraction: float = 0.1\n",
    "ratio_lr = 2\n",
    "scheduler_fraction = 3\n",
    "\n",
    "schd_new = CosineScheduler(lr_warmup_steps=lr_warmup_steps,\n",
    "                               lr=lr,\n",
    "                               final_lr_step=final_lr_step,\n",
    "                               final_lr_fraction=final_lr_fraction,\n",
    "                               ratio_lr=ratio_lr,\n",
    "                               scheduler_fraction=scheduler_fraction)\n",
    "\n",
    "step = 10000\n",
    "\n",
    "lr_new = schd_new.set_lr(step)\n",
    "\n",
    "print(f'lr new: {lr_new}')\n"
   ]
  },
  {
   "cell_type": "code",
   "execution_count": 12,
   "metadata": {},
   "outputs": [
    {
     "name": "stdout",
     "output_type": "stream",
     "text": [
      "old took: 3.886222839355469e-05\n",
      "new took: 0.006035327911376953\n"
     ]
    },
    {
     "data": {
      "image/png": "[encoded data removed]",
      "text/plain": [
       "<Figure size 1000x600 with 1 Axes>"
      ]
     },
     "metadata": {},
     "output_type": "display_data"
    }
   ],
   "source": [
    "import matplotlib.pyplot as plt\n",
    "from time import time\n",
    "\n",
    "# Assuming `schd_old.set_lr(step)` and `schd_new.set_lr(step)` are defined\n",
    "steps = range(0, 10001)  # Steps from 0 to 1000\n",
    "start_old = time()\n",
    "print(f'old took: {time() - start_old}')\n",
    "start_new = time()\n",
    "lr_new_values = [schd_new.set_lr(step) for step in steps]\n",
    "print(f'new took: {time() - start_new}')\n",
    "\n",
    "# Plotting the results\n",
    "plt.figure(figsize=(10, 6))\n",
    "plt.plot(steps, lr_new_values, label='lr_new', color='orange')\n",
    "plt.ylim((0, lr*ratio_lr*1.1))\n",
    "plt.xlabel('Step')\n",
    "plt.ylabel('Learning Rate')\n",
    "plt.title('Learning Rate over Steps')\n",
    "plt.legend()\n",
    "plt.grid(True)\n",
    "plt.show()\n"
   ]
  },
  {
   "cell_type": "code",
   "execution_count": null,
   "metadata": {},
   "outputs": [],
   "source": []
  },
  {
   "cell_type": "code",
   "execution_count": null,
   "metadata": {},
   "outputs": [],
   "source": []
  }
 ],
 "metadata": {
  "kernelspec": {
   "display_name": "venv",
   "language": "python",
   "name": "python3"
  },
  "language_info": {
   "codemirror_mode": {
    "name": "ipython",
    "version": 3
   },
   "file_extension": ".py",
   "mimetype": "text/x-python",
   "name": "python",
   "nbconvert_exporter": "python",
   "pygments_lexer": "ipython3",
   "version": "3.10.12"
  }
 },
 "nbformat": 4,
 "nbformat_minor": 2
}
