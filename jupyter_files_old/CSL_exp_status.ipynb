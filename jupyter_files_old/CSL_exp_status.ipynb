{
 "cells": [
  {
   "cell_type": "code",
   "execution_count": 12,
   "metadata": {},
   "outputs": [],
   "source": [
    "import neptune as neptune\n",
    "from datetime import datetime, timedelta\n",
    "import pandas as pd\n",
    "import pytz\n"
   ]
  },
  {
   "cell_type": "code",
   "execution_count": 13,
   "metadata": {},
   "outputs": [],
   "source": [
    "def get_training_progress_with_eta(runs_table, run_specs, active=False):\n",
    "    # Filter runs based on the provided specifications\n",
    "    for column, value in run_specs.items():\n",
    "        if value is not None:\n",
    "            runs_table = runs_table[runs_table[column] == value]\n",
    "    print(runs_table.shape)\n",
    "\n",
    "    if runs_table.empty:\n",
    "        print(\"No runs found with the specified criteria.\")\n",
    "        return None\n",
    "    \n",
    "    results = []\n",
    "    \n",
    "    for idx, run in runs_table.iterrows():        \n",
    "        # Fetch necessary information\n",
    "        current_step = run[\"step\"]\n",
    "        n_steps = run[\"args/n_steps\"]\n",
    "        start_time = run[\"sys/creation_time\"]\n",
    "        warsaw_tz = pytz.timezone('Europe/Warsaw')\n",
    "        current_time = datetime.now(warsaw_tz)\n",
    "        time_running = current_time - start_time\n",
    "        time_running = round(time_running.total_seconds() / 3600, 2)\n",
    "        \n",
    "        # Calculate the percentage of training completed\n",
    "        if n_steps > 0:\n",
    "            percent_finished = (current_step / n_steps) * 100\n",
    "        else:\n",
    "            percent_finished = 0.0\n",
    "        \n",
    "        # Estimate ETA (remaining time)\n",
    "        if current_step > 0:\n",
    "            time_per_step = time_running / current_step\n",
    "            remaining_steps = n_steps - current_step\n",
    "            time_left = time_per_step * remaining_steps\n",
    "            # time_left_hours = time_left.total_seconds() / 3600  # Convert to hours\n",
    "        else:\n",
    "            time_left = None\n",
    "        \n",
    "        # Collect the data into a dictionary\n",
    "        result = {\n",
    "            # \"args/name\": run.get(\"args/name\", None),\n",
    "            \"time_running\": time_running,\n",
    "            \"time_left (hours)\": time_left,\n",
    "            \"%finished\": percent_finished,\n",
    "            \"step\": current_step,\n",
    "            \"host\": run['sys/hostname']\n",
    "        }\n",
    "        \n",
    "        # Include the run specifications in the result\n",
    "        for column in run_specs.keys():\n",
    "            result[column] = run.get(column, None)\n",
    "        \n",
    "        results.append(result)\n",
    "    \n",
    "    # Convert results to a DataFrame\n",
    "    results_df = pd.DataFrame(results)\n",
    "    \n",
    "    return results_df\n",
    "\n",
    "def get_neptune_table(tags, negative_tags=None):\n",
    "    project = neptune.init_project(\n",
    "        project=\"pmtest/llm-random\",\n",
    "        mode=\"read-only\",\n",
    "        api_token=\"eyJhcGlfYWRkcmVzcyI6Imh0dHBzOi8vYXBwLm5lcHR1bmUuYWkiLCJhcGlfdXJsIjoiaHR0cHM6Ly9hcHAubmVwdHVuZS5haSIsImFwaV9rZXkiOiIyMDY0ZDI5Ni05YWU3LTQyNGYtYmY4My1hZTFkY2EzYmUwMjgifQ==\"\n",
    "    )\n",
    "    runs_table = project.fetch_runs_table(tag=tags).to_pandas()\n",
    "\n",
    "    # If negative tags are provided, filter them out\n",
    "    if negative_tags is not None:\n",
    "        for neg_tag in negative_tags:\n",
    "            runs_table = runs_table[~runs_table['sys/tags'].apply(lambda x: neg_tag in x)]\n",
    "\n",
    "    print(f'table downloaded\\nshape: {runs_table.shape}')\n",
    "    return runs_table\n"
   ]
  },
  {
   "cell_type": "code",
   "execution_count": 15,
   "metadata": {},
   "outputs": [
    {
     "name": "stdout",
     "output_type": "stream",
     "text": [
      "https://app.neptune.ai/pmtest/llm-random/\n",
      "table downloaded\n",
      "shape: (8, 1023)\n",
      "(8, 1023)\n"
     ]
    }
   ],
   "source": [
    "runs_table = get_neptune_table(tags=['relativity_paper', 'large_model'], negative_tags=['remove', 'contribution', 'removal', 'uplot'])\n",
    "print(runs_table.shape)"
   ]
  },
  {
   "cell_type": "code",
   "execution_count": 16,
   "metadata": {},
   "outputs": [],
   "source": [
    "model_sizes = {\n",
    "    'none': None,\n",
    "    '4M': 3145728,\n",
    "    '9M': 7077888,\n",
    "    '33M': 25165824,\n",
    "    '65M': 49152000,\n",
    "    '113M': 84934656,\n",
    "    '260M': 201326592,\n",
    "    '520M': 393216000,\n",
    "}\n",
    "\n",
    "training_lengths = {\n",
    "    'none': None,\n",
    "    '500M': 1907,\n",
    "    '1B': 3814,\n",
    "    '2B': 7628,\n",
    "    '4B': 15256,\n",
    "    '8B': 30512,\n",
    "    '16B': 61024,\n",
    "    '32B': 122048,\n",
    "    '64B': 244150,\n",
    "    '128B': 488300,\n",
    "}"
   ]
  },
  {
   "cell_type": "code",
   "execution_count": 18,
   "metadata": {},
   "outputs": [
    {
     "name": "stdout",
     "output_type": "stream",
     "text": [
      "(8, 1023)\n",
      "   time_running  time_left (hours)  %finished     step            host  \\\n",
      "0          1.44          45.804094      3.048   1524.0  164-152-24-115   \n",
      "1         15.01          29.604196     33.644  16822.0         login01   \n",
      "2         47.00           0.000000    100.000  50000.0  164-152-24-115   \n",
      "3         52.20           8.640579     85.798  42899.0         4124gs0   \n",
      "4         76.83           0.000000    100.000  50000.0         login01   \n",
      "5         92.30           0.000000    100.000  50000.0  164-152-24-115   \n",
      "6        117.13           0.000000    100.000  50000.0         4124gs0   \n",
      "7        121.05           0.000000    100.000  50000.0         login01   \n",
      "\n",
      "   args/n_steps  args/model_n_active  args/expansion_rate sys/state  \\\n",
      "0         50000                  679                    8    Active   \n",
      "1         50000                  679                    8    Active   \n",
      "2         50000                  679                    8  Inactive   \n",
      "3         50000                  679                    8    Active   \n",
      "4         50000                  679                    8  Inactive   \n",
      "5         50000                  679                    8  Inactive   \n",
      "6         50000                  679                    8  Inactive   \n",
      "7         50000                  679                    8  Inactive   \n",
      "\n",
      "   time_left (d)  total_time  \n",
      "0           1.91       47.24  \n",
      "1           1.23       44.61  \n",
      "2           0.00       47.00  \n",
      "3           0.36       60.84  \n",
      "4           0.00       76.83  \n",
      "5           0.00       92.30  \n",
      "6           0.00      117.13  \n",
      "7           0.00      121.05  \n"
     ]
    }
   ],
   "source": [
    "run_specs = {\"args/n_steps\": training_lengths['none'], \"args/model_n_active\": model_sizes['none'], \"args/expansion_rate\": None, \"sys/state\": None}\n",
    "active = True\n",
    "\n",
    "result = get_training_progress_with_eta(runs_table, run_specs, active=active)\n",
    "result[\"args/model_n_active\"] = (result[\"args/model_n_active\"] / 1000000).round().astype(int)\n",
    "result[\"time_left (d)\"] = (result[\"time_left (hours)\"] / 24).round(2)\n",
    "result[\"total_time\"] = (result[\"time_left (hours)\"]).round(2) + (result['time_running']).round(2)\n",
    "print(result)"
   ]
  },
  {
   "cell_type": "code",
   "execution_count": null,
   "metadata": {},
   "outputs": [],
   "source": []
  }
 ],
 "metadata": {
  "kernelspec": {
   "display_name": "venv",
   "language": "python",
   "name": "python3"
  },
  "language_info": {
   "codemirror_mode": {
    "name": "ipython",
    "version": 3
   },
   "file_extension": ".py",
   "mimetype": "text/x-python",
   "name": "python",
   "nbconvert_exporter": "python",
   "pygments_lexer": "ipython3",
   "version": "3.10.12"
  }
 },
 "nbformat": 4,
 "nbformat_minor": 2
}
