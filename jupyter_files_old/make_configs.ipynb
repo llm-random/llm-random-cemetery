{
 "cells": [
  {
   "cell_type": "code",
   "execution_count": 3,
   "metadata": {},
   "outputs": [],
   "source": [
    "import numpy as np\n",
    "import yaml"
   ]
  },
  {
   "cell_type": "code",
   "execution_count": 35,
   "metadata": {},
   "outputs": [
    {
     "name": "stdout",
     "output_type": "stream",
     "text": [
      "[0.25, 0.5, 2.0, 4.0, 0.25, 0.5, 2.0, 4.0, 0.25, 0.5, 2.0, 4.0, 0.25, 0.5, 2.0, 4.0]\n",
      "16\n"
     ]
    }
   ],
   "source": [
    "def get_vals(val, n):\n",
    "    vals = [0.25, 0.5, 2, 4] * n\n",
    "    vals = np.array(vals)\n",
    "    vals = val * vals\n",
    "    vals = np.round(vals, 2)\n",
    "    vals = vals.tolist()\n",
    "    if val != 1:\n",
    "        vals.extend([1.0] * n)\n",
    "    return vals\n",
    "\n",
    "vals = get_vals(1, 4)\n",
    "print(vals)\n",
    "print(len(vals))"
   ]
  },
  {
   "cell_type": "code",
   "execution_count": 5,
   "metadata": {},
   "outputs": [],
   "source": [
    "def recursive_get_param(config_path, param_name):\n",
    "    with open(config_path, 'r') as file:\n",
    "        config = yaml.safe_load(file)\n",
    "\n",
    "    if param_name in config.get('params', {}):\n",
    "        return config.get('params', {}).get(param_name, None)\n",
    "    else:\n",
    "        return recursive_get_param(config.get('parent', None), param_name)\n",
    "\n",
    "def get_param(config, param_name):\n",
    "    if param_name in config.get('params', {}):\n",
    "        return config.get('params', {}).get(param_name, None)\n",
    "    else:\n",
    "        return recursive_get_param(config.get('parent', None), param_name)\n",
    "\n",
    "def extract_params(yaml_file):\n",
    "    with open(yaml_file, 'r') as file:\n",
    "        config = yaml.safe_load(file)\n",
    "\n",
    "    # Extract the learning rate\n",
    "    start_dict = get_param(config, 'relative_lr')\n",
    "    end_dict = get_param(config, 'relative_scheduler_fraction')\n",
    "\n",
    "    return start_dict, end_dict"
   ]
  },
  {
   "cell_type": "code",
   "execution_count": 6,
   "metadata": {},
   "outputs": [
    {
     "name": "stdout",
     "output_type": "stream",
     "text": [
      "{'embedding_layer': 3.333, 'head': 0.666, 'gating': 0.666, 'expert_inner_function': 0.3, 'projection': 1.0}\n",
      "{'embedding_layer': 0.666, 'head': 0.666, 'gating': 1.0, 'expert_inner_function': 1.125, 'projection': 1.0}\n"
     ]
    }
   ],
   "source": [
    "start_dict, end_dict = extract_params(\"configs/experiments/relative_lr/medium_relative.yaml\")\n",
    "print(start_dict)\n",
    "print(end_dict)"
   ]
  },
  {
   "cell_type": "code",
   "execution_count": 38,
   "metadata": {},
   "outputs": [
    {
     "name": "stdout",
     "output_type": "stream",
     "text": [
      "YAML file 'configs/experiments/relative_lr/medium_local_minimum/start_embedding_layer.yaml' created successfully.\n",
      "YAML file 'configs/experiments/relative_lr/medium_local_minimum/start_head.yaml' created successfully.\n",
      "YAML file 'configs/experiments/relative_lr/medium_local_minimum/start_gating.yaml' created successfully.\n",
      "YAML file 'configs/experiments/relative_lr/medium_local_minimum/start_expert_inner_function.yaml' created successfully.\n",
      "YAML file 'configs/experiments/relative_lr/medium_local_minimum/start_projection.yaml' created successfully.\n",
      "YAML file 'configs/experiments/relative_lr/medium_local_minimum/end_embedding_layer.yaml' created successfully.\n",
      "YAML file 'configs/experiments/relative_lr/medium_local_minimum/end_head.yaml' created successfully.\n",
      "YAML file 'configs/experiments/relative_lr/medium_local_minimum/end_gating.yaml' created successfully.\n",
      "YAML file 'configs/experiments/relative_lr/medium_local_minimum/end_expert_inner_function.yaml' created successfully.\n",
      "YAML file 'configs/experiments/relative_lr/medium_local_minimum/end_projection.yaml' created successfully.\n"
     ]
    }
   ],
   "source": [
    "def create_yaml(parent_file_path, output_path, name, val, start_end):\n",
    "    \"\"\"\n",
    "    Creates a YAML file based on the provided parent file path and name.\n",
    "    \"\"\"\n",
    "\n",
    "    # Define the structure of the YAML data\n",
    "    data = {\n",
    "        \"parent\": parent_file_path,\n",
    "        \"md5_parent_hash\": \"6659b9f101669afbc69a2ebeb5cf2d33\",\n",
    "        \"params\": {\n",
    "            \"name\": \"medium_local_min_std\",\n",
    "            \"tags\": [\"relative_lr\", \"medium\", \"local_minimum\", f\"{start_end}\", f\"{name}\"],\n",
    "        }\n",
    "    }\n",
    "    if start_end == \"start\":\n",
    "        data['params']['relative_lr'] = {\n",
    "            f\"^{name}\": get_vals(val, 2)\n",
    "        }\n",
    "    else:\n",
    "        data['params']['relative_scheduler_fraction'] = {\n",
    "            f\"^{name}\": get_vals(val, 3)\n",
    "        }\n",
    "\n",
    "    # Define the output file name based on the provided name\n",
    "    output_file = f\"{output_path}/{start_end}_{name}.yaml\"\n",
    "    \n",
    "    # Write the data to a YAML file\n",
    "    with open(output_file, \"w\") as file:\n",
    "        yaml.dump(data, file, default_flow_style=False)\n",
    "\n",
    "    print(f\"YAML file '{output_file}' created successfully.\")\n",
    "\n",
    "# Example usage\n",
    "parent_file_path = \"configs/experiments/relative_lr/medium_relative.yaml\"\n",
    "output_path = \"configs/experiments/relative_lr/medium_local_minimum\"\n",
    "\n",
    "start_dict, end_dict = extract_params(parent_file_path)\n",
    "\n",
    "for name, val in start_dict.items():\n",
    "    start_end = \"start\"\n",
    "    create_yaml(parent_file_path, output_path, name, val, start_end)\n",
    "\n",
    "for name, val in end_dict.items():\n",
    "    start_end = \"end\"\n",
    "    create_yaml(parent_file_path, output_path, name, val, start_end)\n"
   ]
  },
  {
   "cell_type": "code",
   "execution_count": 18,
   "metadata": {},
   "outputs": [
    {
     "name": "stdout",
     "output_type": "stream",
     "text": [
      "{'embedding_layer': 3.333, 'head': 0.666, 'gating': 0.666, 'expert_inner_function': 0.3, 'projection': 1.0}\n",
      "{'embedding_layer': 0.666, 'head': 0.666, 'gating': 1.0, 'expert_inner_function': 1.125, 'projection': 1.0}\n"
     ]
    }
   ],
   "source": [
    "def create_yaml_component_ablations(parent_file_path, output_path, name):\n",
    "    \"\"\"\n",
    "    Creates a YAML file based on the provided parent file path and name.\n",
    "    \"\"\"\n",
    "\n",
    "    # Define the structure of the YAML data\n",
    "    data = {\n",
    "        \"parent\": parent_file_path,\n",
    "        \"md5_parent_hash\": \"6659b9f101669afbc69a2ebeb5cf2d33\",\n",
    "        \"params\": {\n",
    "            \"name\": \"relativity_component_ablations\",\n",
    "            \"tags\": [\"relative_lr\", \"medium\", \"component_ablations\", f\"{name}\"],\n",
    "            \"relative_lr\": {\n",
    "                f\"^{name}\": [1.0, 1.0, 1.0]\n",
    "            },\n",
    "            \"relative_scheduler_fraction\": {\n",
    "                f\"{name}\": 1.0\n",
    "            },\n",
    "        }\n",
    "    }\n",
    "\n",
    "    # Define the output file name based on the provided name\n",
    "    output_file = f\"{output_path}/{name}.yaml\"\n",
    "    \n",
    "    # Write the data to a YAML file\n",
    "    with open(output_file, \"w\") as file:\n",
    "        yaml.dump(data, file, default_flow_style=False)\n",
    "\n",
    "    print(f\"YAML file '{output_file}' created successfully.\")\n",
    "\n",
    "parent = \"configs/experiments/relative_lr/medium_relative.yaml\"\n",
    "output_path = \"configs/experiments/relative_lr/component_ablation\"\n",
    "start_dict, end_dict = extract_params(parent_file_path)\n",
    "print(start_dict)\n",
    "print(end_dict)"
   ]
  },
  {
   "cell_type": "code",
   "execution_count": 19,
   "metadata": {},
   "outputs": [
    {
     "name": "stdout",
     "output_type": "stream",
     "text": [
      "embedding_layer\n",
      "YAML file 'configs/experiments/relative_lr/component_ablation/embedding_layer.yaml' created successfully.\n",
      "head\n",
      "YAML file 'configs/experiments/relative_lr/component_ablation/head.yaml' created successfully.\n",
      "gating\n",
      "YAML file 'configs/experiments/relative_lr/component_ablation/gating.yaml' created successfully.\n",
      "expert_inner_function\n",
      "YAML file 'configs/experiments/relative_lr/component_ablation/expert_inner_function.yaml' created successfully.\n",
      "projection\n",
      "YAML file 'configs/experiments/relative_lr/component_ablation/projection.yaml' created successfully.\n"
     ]
    }
   ],
   "source": [
    "for name in start_dict.keys():\n",
    "    print(name)\n",
    "    create_yaml_component_ablations(parent_file_path=parent, output_path=output_path, name=name)"
   ]
  },
  {
   "cell_type": "code",
   "execution_count": null,
   "metadata": {},
   "outputs": [],
   "source": []
  }
 ],
 "metadata": {
  "kernelspec": {
   "display_name": "venv",
   "language": "python",
   "name": "python3"
  },
  "language_info": {
   "codemirror_mode": {
    "name": "ipython",
    "version": 3
   },
   "file_extension": ".py",
   "mimetype": "text/x-python",
   "name": "python",
   "nbconvert_exporter": "python",
   "pygments_lexer": "ipython3",
   "version": "3.10.12"
  }
 },
 "nbformat": 4,
 "nbformat_minor": 2
}
