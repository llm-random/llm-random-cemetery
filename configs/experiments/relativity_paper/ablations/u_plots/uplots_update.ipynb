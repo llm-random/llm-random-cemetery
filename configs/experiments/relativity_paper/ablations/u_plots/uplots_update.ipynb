{
 "cells": [
  {
   "cell_type": "code",
   "execution_count": 1,
   "metadata": {},
   "outputs": [],
   "source": [
    "import yaml\n",
    "import pathlib\n"
   ]
  },
  {
   "cell_type": "code",
   "execution_count": 2,
   "metadata": {},
   "outputs": [],
   "source": [
    "# relative_lr:\n",
    "#     embedding_layer: 5.0\n",
    "#     head: 0.666\n",
    "#     gating: 0.666\n",
    "#     expert_inner_function: 0.3\n",
    "#     projection: 1.\n",
    "\n",
    "#   relative_scheduler_fraction:\n",
    "#     embedding_layer: 0.666\n",
    "#     head: 0.444\n",
    "#     gating: 1.\n",
    "#     expert_inner_function: 1.125\n",
    "#     projection: 1.\n",
    "\n",
    "OPTIMAL_RELATIVITY = {\n",
    "\"relative_lr\":{\n",
    "    \"^embedding_layer\":5.0,\n",
    "    \"^head\": 0.666,\n",
    "    \"^gating\": 0.666,\n",
    "    \"^expert_inner_function\": 0.3,\n",
    "    \"^projection\": 1},\n",
    "\"relative_scheduler_fraction\":{\n",
    "    \"^embedding_layer\": 0.666,\n",
    "    \"^head\": 0.444,\n",
    "    \"^gating\": 1.,\n",
    "    \"^expert_inner_function\": 1.125,\n",
    "    \"^projection\": 1.}\n",
    "}\n",
    "\n",
    "DIRECTORY = pathlib.Path(\"base\")\n",
    "# DIRECTORY = pathlib.Path(\"medium\")\n"
   ]
  },
  {
   "cell_type": "code",
   "execution_count": 3,
   "metadata": {},
   "outputs": [],
   "source": [
    "def uplot_grid(optim_point:float, relative_points=[1/4, 1/2, 2, 4]) -> list: # [1/8, 1/6, 1/4, 1/2, 2, 4, 6, 8]\n",
    "    ret = []\n",
    "    for e in relative_points:\n",
    "        ret.append(round(optim_point*e, 4))\n",
    "    return ret\n"
   ]
  },
  {
   "cell_type": "code",
   "execution_count": 4,
   "metadata": {},
   "outputs": [
    {
     "name": "stdout",
     "output_type": "stream",
     "text": [
      "{'md5_parent_hash': '079f9b3c3427d9f131e601d61fca9d61', 'params': {'name': 'base_uplot_gating_end', 'relative_scheduler_fraction': {'^gating': 1}, 'tags': ['base_model', 'uplot', 'relativity_paper', 'gating', 'end']}, 'parent': 'configs/experiments/relativity_paper/ablations/u_plots/base_model_uplots.yaml'}\n",
      "{'md5_parent_hash': '079f9b3c3427d9f131e601d61fca9d61', 'params': {'name': 'base_uplot_projection_start', 'relative_lr': {'^projection': 1}, 'tags': ['base_model', 'uplot', 'relativity_paper', 'projection', 'start']}, 'parent': 'configs/experiments/relativity_paper/ablations/u_plots/base_model_uplots.yaml'}\n",
      "{'md5_parent_hash': '079f9b3c3427d9f131e601d61fca9d61', 'params': {'name': 'base_uplot_expertif_start', 'relative_lr': {'^expert_inner_function': 1}, 'tags': ['base_model', 'uplot', 'relativity_paper', 'expert_inner_function', 'start']}, 'parent': 'configs/experiments/relativity_paper/ablations/u_plots/base_model_uplots.yaml'}\n",
      "{'md5_parent_hash': '079f9b3c3427d9f131e601d61fca9d61', 'params': {'name': 'base_uplot_projection_end', 'relative_scheduler_fraction': {'^projection': 1}, 'tags': ['base_model', 'uplot', 'relativity_paper', 'projection', 'end']}, 'parent': 'configs/experiments/relativity_paper/ablations/u_plots/base_model_uplots.yaml'}\n",
      "{'md5_parent_hash': '079f9b3c3427d9f131e601d61fca9d61', 'params': {'name': 'base_uplot_embedding_end', 'relative_scheduler_fraction': {'^embedding_layer': 1}, 'tags': ['base_model', 'uplot', 'relativity_paper', 'embedding_layer', 'end']}, 'parent': 'configs/experiments/relativity_paper/ablations/u_plots/base_model_uplots.yaml'}\n",
      "{'md5_parent_hash': '079f9b3c3427d9f131e601d61fca9d61', 'params': {'name': 'base_uplot_expertif_end', 'relative_scheduler_fraction': {'^expert_inner_function': 1}, 'tags': ['base_model', 'uplot', 'relativity_paper', 'expert_inner_function', 'end']}, 'parent': 'configs/experiments/relativity_paper/ablations/u_plots/base_model_uplots.yaml'}\n",
      "{'md5_parent_hash': '079f9b3c3427d9f131e601d61fca9d61', 'params': {'name': 'base_uplot_head_start', 'relative_lr': {'^head': 1}, 'tags': ['base_model', 'uplot', 'relativity_paper', 'head', 'start']}, 'parent': 'configs/experiments/relativity_paper/ablations/u_plots/base_model_uplots.yaml'}\n",
      "{'md5_parent_hash': '079f9b3c3427d9f131e601d61fca9d61', 'params': {'name': 'base_uplot_gating_start', 'relative_lr': {'^gating': 1}, 'tags': ['base_model', 'uplot', 'relativity_paper', 'gating', 'start']}, 'parent': 'configs/experiments/relativity_paper/ablations/u_plots/base_model_uplots.yaml'}\n",
      "{'md5_parent_hash': '079f9b3c3427d9f131e601d61fca9d61', 'params': {'name': 'base_uplot_embedding_start', 'relative_lr': {'^embedding_layer': 1}, 'tags': ['base_model', 'uplot', 'relativity_paper', 'embedding_layer', 'start']}, 'parent': 'configs/experiments/relativity_paper/ablations/u_plots/base_model_uplots.yaml'}\n",
      "{'md5_parent_hash': '079f9b3c3427d9f131e601d61fca9d61', 'params': {'name': 'base_uplot_head_end', 'relative_scheduler_fraction': {'^head': 1}, 'tags': ['base_model', 'uplot', 'relativity_paper', 'head', 'end']}, 'parent': 'configs/experiments/relativity_paper/ablations/u_plots/base_model_uplots.yaml'}\n"
     ]
    }
   ],
   "source": [
    "for conf in DIRECTORY.glob('*.yaml'):\n",
    "    yaml_data = None\n",
    "\n",
    "    with open(conf, 'r') as file:\n",
    "        yaml_data = yaml.safe_load(file)\n",
    "    print(yaml_data)\n",
    "    #TODO\n",
    "    try:\n",
    "        new_grid = False\n",
    "        for se in [\"relative_lr\", \"relative_scheduler_fraction\"]:\n",
    "            if se in yaml_data[\"params\"]:\n",
    "                for rlr in OPTIMAL_RELATIVITY[se]:\n",
    "                    if rlr in yaml_data[\"params\"][se]:\n",
    "                        yaml_data[\"params\"][se][rlr] = uplot_grid(OPTIMAL_RELATIVITY[se][rlr])\n",
    "                        if not new_grid:\n",
    "                            new_grid = True\n",
    "                        else:\n",
    "                            raise Exception()\n",
    "        if not new_grid: \n",
    "            raise Exception()\n",
    "    except Exception as e:\n",
    "        raise Exception(f\"Parsing error {e}\")\n",
    "\n",
    "    with open(conf, 'w') as file:\n",
    "        yaml.dump(yaml_data, file, default_flow_style=False)\n"
   ]
  },
  {
   "cell_type": "code",
   "execution_count": null,
   "metadata": {},
   "outputs": [],
   "source": []
  },
  {
   "cell_type": "code",
   "execution_count": null,
   "metadata": {},
   "outputs": [],
   "source": []
  }
 ],
 "metadata": {
  "kernelspec": {
   "display_name": "llmrandom",
   "language": "python",
   "name": "python3"
  },
  "language_info": {
   "codemirror_mode": {
    "name": "ipython",
    "version": 3
   },
   "file_extension": ".py",
   "mimetype": "text/x-python",
   "name": "python",
   "nbconvert_exporter": "python",
   "pygments_lexer": "ipython3",
   "version": "3.10.14"
  }
 },
 "nbformat": 4,
 "nbformat_minor": 2
}
