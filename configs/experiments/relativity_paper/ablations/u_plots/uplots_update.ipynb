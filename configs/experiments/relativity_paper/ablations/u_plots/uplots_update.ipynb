{
 "cells": [
  {
   "cell_type": "code",
   "execution_count": 1,
   "metadata": {},
   "outputs": [],
   "source": [
    "import yaml\n",
    "import pathlib\n"
   ]
  },
  {
   "cell_type": "code",
   "execution_count": 2,
   "metadata": {},
   "outputs": [],
   "source": [
    "# relative_lr:\n",
    "#     embedding_layer: 5.0\n",
    "#     head: 0.666\n",
    "#     gating: 0.666\n",
    "#     expert_inner_function: 0.3\n",
    "#     projection: 1.\n",
    "\n",
    "#   relative_scheduler_fraction:\n",
    "#     embedding_layer: 0.666\n",
    "#     head: 0.444\n",
    "#     gating: 1.\n",
    "#     expert_inner_function: 1.125\n",
    "#     projection: 1.\n",
    "\n",
    "OPTIMAL_RELATIVITY = {\n",
    "\"relative_lr\":{\n",
    "    \"^embedding_layer\":5.0,\n",
    "    \"^head\": 0.666,\n",
    "    \"^gating\": 0.666,\n",
    "    \"^expert_inner_function\": 0.3,\n",
    "    \"^projection\": 1},\n",
    "\"relative_scheduler_fraction\":{\n",
    "    \"^embedding_layer\": 0.666,\n",
    "    \"^head\": 0.444,\n",
    "    \"^gating\": 1.,\n",
    "    \"^expert_inner_function\": 1.125,\n",
    "    \"^projection\": 1.}\n",
    "}\n",
    "\n",
    "DIRECTORY = pathlib.Path(\"base\")\n",
    "# DIRECTORY = pathlib.Path(\"medium\")\n"
   ]
  },
  {
   "cell_type": "code",
   "execution_count": 3,
   "metadata": {},
   "outputs": [],
   "source": [
    "def uplot_grid(optim_point:float, relative_points=[1/8, 1/6, 1/4, 1/2, 2, 4, 6, 8]) -> list: # [1/8, 1/6, 1/4, 1/2, 2, 4, 6, 8]\n",
    "    ret = []\n",
    "    for e in relative_points:\n",
    "        ret.append(round(optim_point*e, 4))\n",
    "    return ret\n"
   ]
  },
  {
   "cell_type": "code",
   "execution_count": null,
   "metadata": {},
   "outputs": [
    {
     "name": "stdout",
     "output_type": "stream",
     "text": [
      "{'md5_parent_hash': 'cacc0dfb8da20ae5ef160a31fbeb5c0b', 'params': {'name': 'base_uplot_gating_end', 'relative_scheduler_fraction': {'^gating': [0.125, 0.1667, 0.25, 0.5, 2.0, 4.0, 6.0, 8.0]}, 'tags': ['base_model', 'uplot', 'relativity_paper', 'gating', 'end']}, 'parent': 'configs/experiments/relativity_paper/ablations/u_plots/base_model_uplots.yaml'}\n",
      "{'md5_parent_hash': 'cacc0dfb8da20ae5ef160a31fbeb5c0b', 'params': {'name': 'base_uplot_projection_start', 'relative_lr': {'^projection': [0.125, 0.1667, 0.25, 0.5, 2, 4, 6, 8]}, 'tags': ['base_model', 'uplot', 'relativity_paper', 'projection', 'start']}, 'parent': 'configs/experiments/relativity_paper/ablations/u_plots/base_model_uplots.yaml'}\n",
      "{'md5_parent_hash': 'cacc0dfb8da20ae5ef160a31fbeb5c0b', 'params': {'name': 'base_uplot_expertif_start', 'relative_lr': {'^expert_inner_function': [0.0375, 0.05, 0.075, 0.15, 0.6, 1.2, 1.8, 2.4]}, 'tags': ['base_model', 'uplot', 'relativity_paper', 'expert_inner_function', 'start']}, 'parent': 'configs/experiments/relativity_paper/ablations/u_plots/base_model_uplots.yaml'}\n",
      "{'md5_parent_hash': 'cacc0dfb8da20ae5ef160a31fbeb5c0b', 'params': {'name': 'base_uplot_projection_end', 'relative_scheduler_fraction': {'^projection': [0.125, 0.1667, 0.25, 0.5, 2.0, 4.0, 6.0, 8.0]}, 'tags': ['base_model', 'uplot', 'relativity_paper', 'projection', 'end']}, 'parent': 'configs/experiments/relativity_paper/ablations/u_plots/base_model_uplots.yaml'}\n",
      "{'md5_parent_hash': 'cacc0dfb8da20ae5ef160a31fbeb5c0b', 'params': {'name': 'base_uplot_embedding_end', 'relative_scheduler_fraction': {'^embedding_layer': [0.0833, 0.111, 0.1665, 0.333, 1.332, 2.664, 3.996, 5.328]}, 'tags': ['base_model', 'uplot', 'relativity_paper', 'embedding_layer', 'end']}, 'parent': 'configs/experiments/relativity_paper/ablations/u_plots/base_model_uplots.yaml'}\n",
      "{'md5_parent_hash': 'cacc0dfb8da20ae5ef160a31fbeb5c0b', 'params': {'name': 'base_uplot_expertif_end', 'relative_scheduler_fraction': {'^expert_inner_function': [0.1406, 0.1875, 0.2812, 0.5625, 2.25, 4.5, 6.75, 9.0]}, 'tags': ['base_model', 'uplot', 'relativity_paper', 'expert_inner_function', 'end']}, 'parent': 'configs/experiments/relativity_paper/ablations/u_plots/base_model_uplots.yaml'}\n",
      "{'md5_parent_hash': 'cacc0dfb8da20ae5ef160a31fbeb5c0b', 'params': {'name': 'base_uplot_head_start', 'relative_lr': {'^head': [0.0833, 0.111, 0.1665, 0.333, 1.332, 2.664, 3.996, 5.328]}, 'tags': ['base_model', 'uplot', 'relativity_paper', 'head', 'start']}, 'parent': 'configs/experiments/relativity_paper/ablations/u_plots/base_model_uplots.yaml'}\n",
      "{'md5_parent_hash': 'cacc0dfb8da20ae5ef160a31fbeb5c0b', 'params': {'name': 'base_uplot_gating_start', 'relative_lr': {'^gating': [0.0833, 0.111, 0.1665, 0.333, 1.332, 2.664, 3.996, 5.328]}, 'tags': ['base_model', 'uplot', 'relativity_paper', 'gating', 'start']}, 'parent': 'configs/experiments/relativity_paper/ablations/u_plots/base_model_uplots.yaml'}\n",
      "{'md5_parent_hash': 'cacc0dfb8da20ae5ef160a31fbeb5c0b', 'params': {'name': 'base_uplot_embedding_start', 'relative_lr': {'^embedding_layer': [0.625, 0.8333, 1.25, 2.5, 10.0, 20.0, 30.0, 40.0]}, 'tags': ['base_model', 'uplot', 'relativity_paper', 'embedding_layer', 'start']}, 'parent': 'configs/experiments/relativity_paper/ablations/u_plots/base_model_uplots.yaml'}\n",
      "{'md5_parent_hash': 'cacc0dfb8da20ae5ef160a31fbeb5c0b', 'params': {'name': 'base_uplot_head_end', 'relative_scheduler_fraction': {'^head': [0.0555, 0.074, 0.111, 0.222, 0.888, 1.776, 2.664, 3.552]}, 'tags': ['base_model', 'uplot', 'relativity_paper', 'head', 'end']}, 'parent': 'configs/experiments/relativity_paper/ablations/u_plots/base_model_uplots.yaml'}\n"
     ]
    }
   ],
   "source": [
    "for conf in DIRECTORY.glob('*.yaml'):\n",
    "    yaml_data = None\n",
    "\n",
    "    with open(conf, 'r') as file:\n",
    "        yaml_data = yaml.safe_load(file)\n",
    "    print(yaml_data)\n",
    "    #TODO\n",
    "    try:\n",
    "        new_grid = False\n",
    "        for se in [\"relative_lr\", \"relative_scheduler_fraction\"]:\n",
    "            if se in yaml_data[\"params\"]:\n",
    "                for rlr in OPTIMAL_RELATIVITY[se]:\n",
    "                    if rlr in yaml_data[\"params\"][se]:\n",
    "                        yaml_data[\"params\"][se][rlr] = [1.0] #uplot_grid(OPTIMAL_RELATIVITY[se][rlr])\n",
    "                        if not new_grid:\n",
    "                            new_grid = True\n",
    "                        else:\n",
    "                            raise Exception()\n",
    "        if not new_grid: \n",
    "            raise Exception()\n",
    "    except Exception as e:\n",
    "        raise Exception(f\"Parsing error {e}\")\n",
    "\n",
    "    with open(conf, 'w') as file:\n",
    "        yaml.dump(yaml_data, file, default_flow_style=False)\n"
   ]
  },
  {
   "cell_type": "code",
   "execution_count": null,
   "metadata": {},
   "outputs": [],
   "source": []
  },
  {
   "cell_type": "code",
   "execution_count": null,
   "metadata": {},
   "outputs": [],
   "source": []
  }
 ],
 "metadata": {
  "kernelspec": {
   "display_name": "llmrandom",
   "language": "python",
   "name": "python3"
  },
  "language_info": {
   "codemirror_mode": {
    "name": "ipython",
    "version": 3
   },
   "file_extension": ".py",
   "mimetype": "text/x-python",
   "name": "python",
   "nbconvert_exporter": "python",
   "pygments_lexer": "ipython3",
   "version": "3.9.19"
  }
 },
 "nbformat": 4,
 "nbformat_minor": 2
}
