{
 "cells": [
  {
   "cell_type": "code",
   "execution_count": null,
   "metadata": {},
   "outputs": [],
   "source": []
  },
  {
   "cell_type": "code",
   "execution_count": 30,
   "metadata": {},
   "outputs": [],
   "source": [
    "steps_conv = {\n",
    "    '0,5':1907,\n",
    "    '1':3814,\n",
    "    '2':7628,\n",
    "    '4':15256,\n",
    "    '8':30512,\n",
    "    '16':61024,\n",
    "    '32':122048,\n",
    "    '64':244150,\n",
    "    '128':488300,\n",
    "}\n",
    "\n",
    "steps_to_tokens_ratio = 512*512\n",
    "for k in steps_conv:\n",
    "    steps_conv[k] = steps_conv[k] * steps_to_tokens_ratio\n",
    "\n",
    "\n",
    "b_tokens = []\n"
   ]
  },
  {
   "cell_type": "code",
   "execution_count": null,
   "metadata": {},
   "outputs": [],
   "source": [
    "# FLOP = n_active_params*tokens*6"
   ]
  },
  {
   "cell_type": "code",
   "execution_count": 31,
   "metadata": {},
   "outputs": [
    {
     "data": {
      "text/plain": [
       "{'0,5': 499908608,\n",
       " '1': 999817216,\n",
       " '2': 1999634432,\n",
       " '4': 3999268864,\n",
       " '8': 7998537728,\n",
       " '16': 15997075456,\n",
       " '32': 31994150912,\n",
       " '64': 64002457600,\n",
       " '128': 128004915200}"
      ]
     },
     "execution_count": 31,
     "metadata": {},
     "output_type": "execute_result"
    }
   ],
   "source": [
    "steps_conv"
   ]
  },
  {
   "cell_type": "code",
   "execution_count": 18,
   "metadata": {},
   "outputs": [],
   "source": [
    "if_c = \"JEŻELI(\"\n",
    "if_true = \"\"\n",
    "if_false= \"\""
   ]
  },
  {
   "cell_type": "code",
   "execution_count": 32,
   "metadata": {},
   "outputs": [
    {
     "data": {
      "text/plain": [
       "'JEŻELI(H22 = 0,5; 499908608; JEŻELI(H22 = 1; 999817216; JEŻELI(H22 = 2; 1999634432; JEŻELI(H22 = 4; 3999268864; JEŻELI(H22 = 8; 7998537728; JEŻELI(H22 = 16; 15997075456; JEŻELI(H22 = 32; 31994150912; JEŻELI(H22 = 64; 64002457600; JEŻELI(H22 = 128; 128004915200; 0)))))))))'"
      ]
     },
     "execution_count": 32,
     "metadata": {},
     "output_type": "execute_result"
    }
   ],
   "source": [
    "def if_const(conv_list):\n",
    "    if len(conv_list) != 1:\n",
    "        return f\"JEŻELI(H22 = {conv_list[0][0]}; {conv_list[0][1]}; {if_const(conv_list[1:])})\"\n",
    "    else:\n",
    "        return f\"JEŻELI(H22 = {conv_list[0][0]}; {conv_list[0][1]}; 0)\"\n",
    "\n",
    "conv_list = list(steps_conv.items())\n",
    "if_const(conv_list)"
   ]
  },
  {
   "cell_type": "code",
   "execution_count": 55,
   "metadata": {},
   "outputs": [
    {
     "data": {
      "text/plain": [
       "0.1006742348357176"
      ]
     },
     "execution_count": 55,
     "metadata": {},
     "output_type": "execute_result"
    }
   ],
   "source": [
    "GPU_FLOPS = 156 * pow(10, 12)\n",
    "HOURS_SPENT = 8766\n",
    "# 4.997359273866 * pow(10, 20)\n",
    "FLOP_SPENT = 4.95617808387256 * pow(10, 20)\n",
    "# FLOP_SPENT = 495860722869287\n",
    "\n",
    "FLOP_SPENT/(GPU_FLOPS*HOURS_SPENT*60*60)"
   ]
  }
 ],
 "metadata": {
  "kernelspec": {
   "display_name": "llmrandom",
   "language": "python",
   "name": "python3"
  },
  "language_info": {
   "codemirror_mode": {
    "name": "ipython",
    "version": 3
   },
   "file_extension": ".py",
   "mimetype": "text/x-python",
   "name": "python",
   "nbconvert_exporter": "python",
   "pygments_lexer": "ipython3",
   "version": "3.9.19"
  }
 },
 "nbformat": 4,
 "nbformat_minor": 2
}
