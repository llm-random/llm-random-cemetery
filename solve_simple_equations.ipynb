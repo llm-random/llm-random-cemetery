{
 "cells": [
  {
   "cell_type": "code",
   "execution_count": 10,
   "metadata": {},
   "outputs": [],
   "source": [
    "def calculate_total_time(time, steps, total_steps):\n",
    "    total_time = time * total_steps / steps\n",
    "    total_time = total_time / 60\n",
    "    total_time = total_time / 24\n",
    "    return total_time"
   ]
  },
  {
   "cell_type": "code",
   "execution_count": 11,
   "metadata": {},
   "outputs": [
    {
     "name": "stdout",
     "output_type": "stream",
     "text": [
      "total time: 3.55 d\n"
     ]
    }
   ],
   "source": [
    "total_steps = 244150\n",
    "time = 60 * 24 * 2\n",
    "steps = 137600\n",
    "total_time = calculate_total_time(time=time, steps=steps, total_steps=total_steps)\n",
    "print(f'total time: {round(total_time, 2)} d')"
   ]
  },
  {
   "cell_type": "code",
   "execution_count": null,
   "metadata": {},
   "outputs": [],
   "source": []
  }
 ],
 "metadata": {
  "kernelspec": {
   "display_name": "venv",
   "language": "python",
   "name": "python3"
  },
  "language_info": {
   "codemirror_mode": {
    "name": "ipython",
    "version": 3
   },
   "file_extension": ".py",
   "mimetype": "text/x-python",
   "name": "python",
   "nbconvert_exporter": "python",
   "pygments_lexer": "ipython3",
   "version": "3.10.12"
  }
 },
 "nbformat": 4,
 "nbformat_minor": 2
}
