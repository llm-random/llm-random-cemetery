{
 "cells": [
  {
   "cell_type": "code",
   "execution_count": 1,
   "metadata": {},
   "outputs": [],
   "source": [
    "def calculate_total_time(time, steps, total_steps):\n",
    "    total_time = time * total_steps / steps\n",
    "    total_time = total_time / 60\n",
    "    total_time = total_time / 24\n",
    "    return total_time"
   ]
  },
  {
   "cell_type": "code",
   "execution_count": 2,
   "metadata": {},
   "outputs": [
    {
     "name": "stdout",
     "output_type": "stream",
     "text": [
      "total time: 2.45 d\n"
     ]
    }
   ],
   "source": [
    "total_steps = 50000\n",
    "time = 40\n",
    "steps = 566\n",
    "total_time = calculate_total_time(time=time, steps=steps, total_steps=total_steps)\n",
    "print(f'total time: {round(total_time, 2)} d')"
   ]
  },
  {
   "cell_type": "code",
   "execution_count": null,
   "metadata": {},
   "outputs": [],
   "source": []
  }
 ],
 "metadata": {
  "kernelspec": {
   "display_name": "venv",
   "language": "python",
   "name": "python3"
  },
  "language_info": {
   "codemirror_mode": {
    "name": "ipython",
    "version": 3
   },
   "file_extension": ".py",
   "mimetype": "text/x-python",
   "name": "python",
   "nbconvert_exporter": "python",
   "pygments_lexer": "ipython3",
   "version": "3.10.12"
  }
 },
 "nbformat": 4,
 "nbformat_minor": 2
}
