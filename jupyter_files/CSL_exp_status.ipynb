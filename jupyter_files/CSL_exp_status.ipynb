{
 "cells": [
  {
   "cell_type": "code",
   "execution_count": 19,
   "metadata": {},
   "outputs": [],
   "source": [
    "import neptune as neptune\n",
    "from datetime import datetime, timedelta\n",
    "import pandas as pd\n",
    "import pytz\n"
   ]
  },
  {
   "cell_type": "code",
   "execution_count": 20,
   "metadata": {},
   "outputs": [],
   "source": [
    "def get_training_progress_with_eta(runs_table, run_specs, active=False):\n",
    "    # Filter runs based on the provided specifications\n",
    "    for column, value in run_specs.items():\n",
    "        if value is not None:\n",
    "            runs_table = runs_table[runs_table[column] == value]\n",
    "    print(runs_table.shape)\n",
    "\n",
    "    if runs_table.empty:\n",
    "        print(\"No runs found with the specified criteria.\")\n",
    "        return None\n",
    "    \n",
    "    results = []\n",
    "    \n",
    "    for idx, run in runs_table.iterrows():        \n",
    "        # Fetch necessary information\n",
    "        current_step = run[\"step\"]\n",
    "        n_steps = run[\"args/n_steps\"]\n",
    "        start_time = run[\"sys/creation_time\"]\n",
    "        warsaw_tz = pytz.timezone('Europe/Warsaw')\n",
    "        current_time = datetime.now(warsaw_tz)\n",
    "        time_running = current_time - start_time\n",
    "        time_running = round(time_running.total_seconds() / 3600, 2)\n",
    "        \n",
    "        # Calculate the percentage of training completed\n",
    "        if n_steps > 0:\n",
    "            percent_finished = (current_step / n_steps) * 100\n",
    "        else:\n",
    "            percent_finished = 0.0\n",
    "        \n",
    "        # Estimate ETA (remaining time)\n",
    "        if current_step > 0:\n",
    "            time_per_step = time_running / current_step\n",
    "            remaining_steps = n_steps - current_step\n",
    "            time_left = time_per_step * remaining_steps\n",
    "            # time_left_hours = time_left.total_seconds() / 3600  # Convert to hours\n",
    "        else:\n",
    "            time_left = None\n",
    "        \n",
    "        # Collect the data into a dictionary\n",
    "        result = {\n",
    "            # \"args/name\": run.get(\"args/name\", None),\n",
    "            \"time_running\": time_running,\n",
    "            \"time_left (hours)\": time_left,\n",
    "            \"%finished\": percent_finished,\n",
    "            \"step\": current_step,\n",
    "            \"host\": run['sys/hostname']\n",
    "        }\n",
    "        \n",
    "        # Include the run specifications in the result\n",
    "        for column in run_specs.keys():\n",
    "            result[column] = run.get(column, None)\n",
    "        \n",
    "        results.append(result)\n",
    "    \n",
    "    # Convert results to a DataFrame\n",
    "    results_df = pd.DataFrame(results)\n",
    "    \n",
    "    return results_df"
   ]
  },
  {
   "cell_type": "code",
   "execution_count": 21,
   "metadata": {},
   "outputs": [
    {
     "name": "stdout",
     "output_type": "stream",
     "text": [
      "https://app.neptune.ai/pmtest/llm-random/\n",
      "(10, 819)\n"
     ]
    }
   ],
   "source": [
    "project = neptune.init_project(\n",
    "    project=\"pmtest/llm-random\",\n",
    "    mode=\"read-only\",\n",
    "    api_token=\"eyJhcGlfYWRkcmVzcyI6Imh0dHBzOi8vYXBwLm5lcHR1bmUuYWkiLCJhcGlfdXJsIjoiaHR0cHM6Ly9hcHAubmVwdHVuZS5haSIsImFwaV9rZXkiOiIyMDY0ZDI5Ni05YWU3LTQyNGYtYmY4My1hZTFkY2EzYmUwMjgifQ==\"\n",
    ")\n",
    "\n",
    "# Find the specific run based on provided specs and tags\n",
    "# runs_table = project.fetch_runs_table(state=\"active\", tag=[\"constrained_scaling_grid_final\"]).to_pandas()\n",
    "runs_table = project.fetch_runs_table(tag=[\"constrained_scaling_grid_final\"], state='active').to_pandas()\n",
    "print(runs_table.shape)"
   ]
  },
  {
   "cell_type": "code",
   "execution_count": 22,
   "metadata": {},
   "outputs": [],
   "source": [
    "model_sizes = {\n",
    "    'none': None,\n",
    "    '4M': 3145728,\n",
    "    '9M': 7077888,\n",
    "    '33M': 25165824,\n",
    "    '65M': 49152000,\n",
    "    '113M': 84934656,\n",
    "    '260M': 201326592,\n",
    "    '520M': 393216000,\n",
    "}\n",
    "\n",
    "training_lengths = {\n",
    "    'none': None,\n",
    "    '500M': 1907,\n",
    "    '1B': 3814,\n",
    "    '2B': 7628,\n",
    "    '4B': 15256,\n",
    "    '8B': 30512,\n",
    "    '16B': 61024,\n",
    "    '32B': 122048,\n",
    "    '64B': 244150,\n",
    "    '128B': 488300,\n",
    "}"
   ]
  },
  {
   "cell_type": "code",
   "execution_count": 23,
   "metadata": {},
   "outputs": [
    {
     "name": "stdout",
     "output_type": "stream",
     "text": [
      "(10, 819)\n",
      "   time_running  time_left (hours)  %finished     step            host  \\\n",
      "0          0.27         136.636542   0.197215    963.0           gpu01   \n",
      "1          0.29          36.818753   0.781487   1908.0           t0044   \n",
      "2          0.55          27.396045   1.968078   1201.0  164-152-24-115   \n",
      "3          4.66         104.079272   4.285480  10463.0         login01   \n",
      "4          6.39          73.061950   8.042597  19636.0         login01   \n",
      "5          6.56          88.549869   6.897286   8418.0         4124gs0   \n",
      "6         99.09         738.278205  11.833504  57783.0           gpu01   \n",
      "7        148.10                NaN        NaN      NaN         login01   \n",
      "8        155.50                NaN        NaN      NaN         login01   \n",
      "9        195.88                NaN        NaN      NaN         4124gs0   \n",
      "\n",
      "   args/n_steps  args/model_n_active  args/expansion_rate sys/state  \\\n",
      "0        488300                   25                    4    Active   \n",
      "1        244150                   25                    4    Active   \n",
      "2         61024                  393                   16    Active   \n",
      "3        244150                   85                    1    Active   \n",
      "4        244150                   49                    1    Active   \n",
      "5        122048                  201                    8    Active   \n",
      "6        488300                   25                   16    Active   \n",
      "7        488300                   49                   16    Active   \n",
      "8        488300                   49                    1    Active   \n",
      "9        488300                   85                   16    Active   \n",
      "\n",
      "   time_left (d)  \n",
      "0           5.69  \n",
      "1           1.53  \n",
      "2           1.14  \n",
      "3           4.34  \n",
      "4           3.04  \n",
      "5           3.69  \n",
      "6          30.76  \n",
      "7            NaN  \n",
      "8            NaN  \n",
      "9            NaN  \n"
     ]
    }
   ],
   "source": [
    "run_specs = {\"args/n_steps\": training_lengths['none'], \"args/model_n_active\": model_sizes['none'], \"args/expansion_rate\": None, \"sys/state\": None}\n",
    "active = True\n",
    "\n",
    "result = get_training_progress_with_eta(runs_table, run_specs, active=active)\n",
    "result[\"args/model_n_active\"] = (result[\"args/model_n_active\"] / 1000000).round().astype(int)\n",
    "result[\"time_left (d)\"] = (result[\"time_left (hours)\"] / 24).round(2)\n",
    "print(result)\n",
    "result.to_csv('CLS_df.csv')"
   ]
  },
  {
   "cell_type": "code",
   "execution_count": null,
   "metadata": {},
   "outputs": [],
   "source": []
  }
 ],
 "metadata": {
  "kernelspec": {
   "display_name": "venv",
   "language": "python",
   "name": "python3"
  },
  "language_info": {
   "codemirror_mode": {
    "name": "ipython",
    "version": 3
   },
   "file_extension": ".py",
   "mimetype": "text/x-python",
   "name": "python",
   "nbconvert_exporter": "python",
   "pygments_lexer": "ipython3",
   "version": "3.10.12"
  }
 },
 "nbformat": 4,
 "nbformat_minor": 2
}
