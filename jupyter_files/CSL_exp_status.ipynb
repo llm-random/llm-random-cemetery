{
 "cells": [
  {
   "cell_type": "code",
   "execution_count": 2,
   "metadata": {},
   "outputs": [],
   "source": [
    "import neptune as neptune\n",
    "from datetime import datetime, timedelta\n",
    "import pandas as pd\n",
    "import pytz\n"
   ]
  },
  {
   "cell_type": "code",
   "execution_count": 3,
   "metadata": {},
   "outputs": [],
   "source": [
    "def get_training_progress_with_eta(runs_table, run_specs, active=False):\n",
    "    # Filter runs based on the provided specifications\n",
    "    for column, value in run_specs.items():\n",
    "        if value is not None:\n",
    "            runs_table = runs_table[runs_table[column] == value]\n",
    "    print(runs_table.shape)\n",
    "\n",
    "    if runs_table.empty:\n",
    "        print(\"No runs found with the specified criteria.\")\n",
    "        return None\n",
    "    \n",
    "    results = []\n",
    "    \n",
    "    for idx, run in runs_table.iterrows():        \n",
    "        # Fetch necessary information\n",
    "        current_step = run[\"step\"]\n",
    "        n_steps = run[\"args/n_steps\"]\n",
    "        start_time = run[\"sys/creation_time\"]\n",
    "        warsaw_tz = pytz.timezone('Europe/Warsaw')\n",
    "        current_time = datetime.now(warsaw_tz)\n",
    "        time_running = current_time - start_time\n",
    "        time_running = round(time_running.total_seconds() / 3600, 2)\n",
    "        \n",
    "        # Calculate the percentage of training completed\n",
    "        if n_steps > 0:\n",
    "            percent_finished = (current_step / n_steps) * 100\n",
    "        else:\n",
    "            percent_finished = 0.0\n",
    "        \n",
    "        # Estimate ETA (remaining time)\n",
    "        if current_step > 0:\n",
    "            time_per_step = time_running / current_step\n",
    "            remaining_steps = n_steps - current_step\n",
    "            time_left = time_per_step * remaining_steps\n",
    "            # time_left_hours = time_left.total_seconds() / 3600  # Convert to hours\n",
    "        else:\n",
    "            time_left = None\n",
    "        \n",
    "        # Collect the data into a dictionary\n",
    "        result = {\n",
    "            # \"args/name\": run.get(\"args/name\", None),\n",
    "            \"time_running\": time_running,\n",
    "            \"time_left (hours)\": time_left,\n",
    "            \"%finished\": percent_finished,\n",
    "            \"step\": current_step,\n",
    "            \"host\": run['sys/hostname']\n",
    "        }\n",
    "        \n",
    "        # Include the run specifications in the result\n",
    "        for column in run_specs.keys():\n",
    "            result[column] = run.get(column, None)\n",
    "        \n",
    "        results.append(result)\n",
    "    \n",
    "    # Convert results to a DataFrame\n",
    "    results_df = pd.DataFrame(results)\n",
    "    \n",
    "    return results_df"
   ]
  },
  {
   "cell_type": "code",
   "execution_count": 4,
   "metadata": {},
   "outputs": [
    {
     "name": "stdout",
     "output_type": "stream",
     "text": [
      "https://app.neptune.ai/pmtest/llm-random/\n",
      "(0, 0)\n"
     ]
    }
   ],
   "source": [
    "project = neptune.init_project(\n",
    "    project=\"pmtest/llm-random\",\n",
    "    mode=\"read-only\",\n",
    "    api_token=\"eyJhcGlfYWRkcmVzcyI6Imh0dHBzOi8vYXBwLm5lcHR1bmUuYWkiLCJhcGlfdXJsIjoiaHR0cHM6Ly9hcHAubmVwdHVuZS5haSIsImFwaV9rZXkiOiIyMDY0ZDI5Ni05YWU3LTQyNGYtYmY4My1hZTFkY2EzYmUwMjgifQ==\"\n",
    ")\n",
    "\n",
    "# Find the specific run based on provided specs and tags\n",
    "# runs_table = project.fetch_runs_table(state=\"active\", tag=[\"constrained_scaling_grid_final\"]).to_pandas()\n",
    "runs_table = project.fetch_runs_table(tag=[\"constrained_scaling_grid_final\"], state='active').to_pandas()\n",
    "print(runs_table.shape)"
   ]
  },
  {
   "cell_type": "code",
   "execution_count": 5,
   "metadata": {},
   "outputs": [],
   "source": [
    "model_sizes = {\n",
    "    'none': None,\n",
    "    '4M': 3145728,\n",
    "    '9M': 7077888,\n",
    "    '33M': 25165824,\n",
    "    '65M': 49152000,\n",
    "    '113M': 84934656,\n",
    "    '260M': 201326592,\n",
    "    '520M': 393216000,\n",
    "}\n",
    "\n",
    "training_lengths = {\n",
    "    'none': None,\n",
    "    '500M': 1907,\n",
    "    '1B': 3814,\n",
    "    '2B': 7628,\n",
    "    '4B': 15256,\n",
    "    '8B': 30512,\n",
    "    '16B': 61024,\n",
    "    '32B': 122048,\n",
    "    '64B': 244150,\n",
    "    '128B': 488300,\n",
    "}"
   ]
  },
  {
   "cell_type": "code",
   "execution_count": 6,
   "metadata": {},
   "outputs": [
    {
     "name": "stdout",
     "output_type": "stream",
     "text": [
      "(0, 0)\n",
      "No runs found with the specified criteria.\n"
     ]
    },
    {
     "ename": "TypeError",
     "evalue": "'NoneType' object is not subscriptable",
     "output_type": "error",
     "traceback": [
      "\u001b[0;31m---------------------------------------------------------------------------\u001b[0m",
      "\u001b[0;31mTypeError\u001b[0m                                 Traceback (most recent call last)",
      "Cell \u001b[0;32mIn[6], line 5\u001b[0m\n\u001b[1;32m      2\u001b[0m active \u001b[38;5;241m=\u001b[39m \u001b[38;5;28;01mTrue\u001b[39;00m\n\u001b[1;32m      4\u001b[0m result \u001b[38;5;241m=\u001b[39m get_training_progress_with_eta(runs_table, run_specs, active\u001b[38;5;241m=\u001b[39mactive)\n\u001b[0;32m----> 5\u001b[0m result[\u001b[38;5;124m\"\u001b[39m\u001b[38;5;124margs/model_n_active\u001b[39m\u001b[38;5;124m\"\u001b[39m] \u001b[38;5;241m=\u001b[39m (\u001b[43mresult\u001b[49m\u001b[43m[\u001b[49m\u001b[38;5;124;43m\"\u001b[39;49m\u001b[38;5;124;43margs/model_n_active\u001b[39;49m\u001b[38;5;124;43m\"\u001b[39;49m\u001b[43m]\u001b[49m \u001b[38;5;241m/\u001b[39m \u001b[38;5;241m1000000\u001b[39m)\u001b[38;5;241m.\u001b[39mround()\u001b[38;5;241m.\u001b[39mastype(\u001b[38;5;28mint\u001b[39m)\n\u001b[1;32m      6\u001b[0m result[\u001b[38;5;124m\"\u001b[39m\u001b[38;5;124mtime_left (d)\u001b[39m\u001b[38;5;124m\"\u001b[39m] \u001b[38;5;241m=\u001b[39m (result[\u001b[38;5;124m\"\u001b[39m\u001b[38;5;124mtime_left (hours)\u001b[39m\u001b[38;5;124m\"\u001b[39m] \u001b[38;5;241m/\u001b[39m \u001b[38;5;241m24\u001b[39m)\u001b[38;5;241m.\u001b[39mround(\u001b[38;5;241m2\u001b[39m)\n\u001b[1;32m      7\u001b[0m \u001b[38;5;28mprint\u001b[39m(result)\n",
      "\u001b[0;31mTypeError\u001b[0m: 'NoneType' object is not subscriptable"
     ]
    }
   ],
   "source": [
    "run_specs = {\"args/n_steps\": training_lengths['none'], \"args/model_n_active\": model_sizes['none'], \"args/expansion_rate\": None, \"sys/state\": None}\n",
    "active = True\n",
    "\n",
    "result = get_training_progress_with_eta(runs_table, run_specs, active=active)\n",
    "result[\"args/model_n_active\"] = (result[\"args/model_n_active\"] / 1000000).round().astype(int)\n",
    "result[\"time_left (d)\"] = (result[\"time_left (hours)\"] / 24).round(2)\n",
    "print(result)\n",
    "result.to_csv('CLS_df.csv')"
   ]
  },
  {
   "cell_type": "code",
   "execution_count": 17,
   "metadata": {},
   "outputs": [
    {
     "name": "stdout",
     "output_type": "stream",
     "text": [
      "https://app.neptune.ai/pmtest/llm-random/\n",
      "(6, 767)\n",
      "(6, 767)\n",
      "   time_running  time_left (hours)  %finished     step            host  \\\n",
      "0          0.96          94.089505      1.010    505.0         4124gs0   \n",
      "1         25.59          18.576379     57.940  28970.0         login01   \n",
      "2         41.06           4.192160     90.736  45368.0  164-152-24-115   \n",
      "3         43.07         961.829673      4.286   2143.0  164-152-24-115   \n",
      "4         65.88           0.000000    100.000  50000.0         4124gs0   \n",
      "5         69.81           0.000000    100.000  50000.0         login01   \n",
      "\n",
      "   args/n_steps  args/model_n_active  args/expansion_rate sys/state  \\\n",
      "0         50000                  679                    8    Active   \n",
      "1         50000                  679                    8    Active   \n",
      "2         50000                  679                    8    Active   \n",
      "3         50000                  679                    8  Inactive   \n",
      "4         50000                  679                    8  Inactive   \n",
      "5         50000                  679                    8  Inactive   \n",
      "\n",
      "   time_left (d)  \n",
      "0           3.92  \n",
      "1           0.77  \n",
      "2           0.17  \n",
      "3          40.08  \n",
      "4           0.00  \n",
      "5           0.00  \n"
     ]
    }
   ],
   "source": [
    "project = neptune.init_project(\n",
    "    project=\"pmtest/llm-random\",\n",
    "    mode=\"read-only\",\n",
    "    api_token=\"eyJhcGlfYWRkcmVzcyI6Imh0dHBzOi8vYXBwLm5lcHR1bmUuYWkiLCJhcGlfdXJsIjoiaHR0cHM6Ly9hcHAubmVwdHVuZS5haSIsImFwaV9rZXkiOiIyMDY0ZDI5Ni05YWU3LTQyNGYtYmY4My1hZTFkY2EzYmUwMjgifQ==\"\n",
    ")\n",
    "\n",
    "# Find the specific run based on provided specs and tags\n",
    "# runs_table = project.fetch_runs_table(state=\"active\", tag=[\"constrained_scaling_grid_final\"]).to_pandas()\n",
    "runs_table = project.fetch_runs_table(tag=[\"relativity_paper\", \"large_model\"]).to_pandas()\n",
    "print(runs_table.shape)\n",
    "\n",
    "run_specs = {\"args/n_steps\": training_lengths['none'], \"args/model_n_active\": model_sizes['none'], \"args/expansion_rate\": None, \"sys/state\": None}\n",
    "active = False\n",
    "\n",
    "result = get_training_progress_with_eta(runs_table, run_specs, active=active)\n",
    "result[\"args/model_n_active\"] = (result[\"args/model_n_active\"] / 1000000).round().astype(int)\n",
    "result[\"time_left (d)\"] = (result[\"time_left (hours)\"] / 24).round(2)\n",
    "print(result)\n",
    "result.to_csv('relativity_large.csv')"
   ]
  },
  {
   "cell_type": "code",
   "execution_count": null,
   "metadata": {},
   "outputs": [],
   "source": []
  }
 ],
 "metadata": {
  "kernelspec": {
   "display_name": "venv",
   "language": "python",
   "name": "python3"
  },
  "language_info": {
   "codemirror_mode": {
    "name": "ipython",
    "version": 3
   },
   "file_extension": ".py",
   "mimetype": "text/x-python",
   "name": "python",
   "nbconvert_exporter": "python",
   "pygments_lexer": "ipython3",
   "version": "3.10.12"
  }
 },
 "nbformat": 4,
 "nbformat_minor": 2
}
