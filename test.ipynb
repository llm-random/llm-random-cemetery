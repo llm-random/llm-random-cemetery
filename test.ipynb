{
 "cells": [
  {
   "cell_type": "code",
   "execution_count": 1,
   "metadata": {},
   "outputs": [],
   "source": [
    "import copy\n"
   ]
  },
  {
   "cell_type": "code",
   "execution_count": 5,
   "metadata": {},
   "outputs": [],
   "source": [
    "def get_param_val(current_config, param, default=None):\n",
    "    if \":\" in param:\n",
    "        param, sub_param = param.split(\":\")\n",
    "        return copy.deepcopy(current_config[\"params\"][param][sub_param])\n",
    "    if param not in current_config[\"params\"]:\n",
    "        if default is None:\n",
    "            raise Exception(f\"Parameter {param} not found in config\")\n",
    "        else:\n",
    "            return default\n",
    "    return copy.deepcopy(current_config[\"params\"][param])"
   ]
  },
  {
   "cell_type": "code",
   "execution_count": 6,
   "metadata": {},
   "outputs": [],
   "source": [
    "config = {'params': {'a': 2.0}}"
   ]
  },
  {
   "cell_type": "code",
   "execution_count": 7,
   "metadata": {},
   "outputs": [
    {
     "name": "stdout",
     "output_type": "stream",
     "text": [
      "2.0\n"
     ]
    }
   ],
   "source": [
    "val = get_param_val(config, 'a')\n",
    "print(val)"
   ]
  },
  {
   "cell_type": "code",
   "execution_count": 3,
   "metadata": {},
   "outputs": [],
   "source": [
    "def calculate_exp_time(time, steps, total_steps):\n",
    "    time_d = (time / 60 ) / 24\n",
    "    total_time = time_d * total_steps / steps\n",
    "    return total_time"
   ]
  },
  {
   "cell_type": "code",
   "execution_count": 7,
   "metadata": {},
   "outputs": [
    {
     "name": "stdout",
     "output_type": "stream",
     "text": [
      "total time: 4.347400284900285 d\n"
     ]
    }
   ],
   "source": [
    "time = 10\n",
    "steps = 780\n",
    "total_steps = 488300\n",
    "total_time = calculate_exp_time(time=time, steps=steps, total_steps=total_steps)\n",
    "print(f'total time: {total_time} d')"
   ]
  },
  {
   "cell_type": "code",
   "execution_count": null,
   "metadata": {},
   "outputs": [],
   "source": []
  }
 ],
 "metadata": {
  "kernelspec": {
   "display_name": "venv",
   "language": "python",
   "name": "python3"
  },
  "language_info": {
   "codemirror_mode": {
    "name": "ipython",
    "version": 3
   },
   "file_extension": ".py",
   "mimetype": "text/x-python",
   "name": "python",
   "nbconvert_exporter": "python",
   "pygments_lexer": "ipython3",
   "version": "3.12.3"
  }
 },
 "nbformat": 4,
 "nbformat_minor": 2
}
