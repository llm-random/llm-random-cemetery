{
 "cells": [
  {
   "cell_type": "code",
   "execution_count": 3,
   "metadata": {},
   "outputs": [],
   "source": [
    "import torch\n",
    "import math"
   ]
  },
  {
   "cell_type": "code",
   "execution_count": 31,
   "metadata": {},
   "outputs": [],
   "source": [
    "def calculate_kan_bottlneck(dmodel, expert_size, kan_type, latent_factor=1):\n",
    "    # this function calculates kan_bottlneck, so that KAN architecture is parameter matched with MLP\n",
    "    # kan types:\n",
    "        # kan_squared   KAN (dmodel, dmodel)\n",
    "        # kan:          KAN -> KAN (dmodel, kan_bottlneck, dmodel)                                      *ReLU\n",
    "        # mlp_kan:      MLP -> KAN (dmodel, kan_bottlneck, dmodel)                                      *no ReLU\n",
    "        # kan_latent:   MLP -> KAN -> MLP (dmodel, kan_bottlneck, kan_bottlneck*latent_factor, dmodel)  *no ReLU\n",
    "    kan_bottlneck = None\n",
    "\n",
    "    if kan_type == 'kan':\n",
    "        kan_bottlneck = int((1/10) * expert_size)\n",
    "    elif kan_type == 'mlp_kan':\n",
    "        kan_bottlneck = int((2/11) * expert_size)\n",
    "    elif kan_type == 'kan_latent':\n",
    "        kan_bottlneck = int((math.sqrt(dmodel*(80*expert_size*latent_factor + dmodel*(latent_factor + 1)**2)) - dmodel*(latent_factor + 1))/(20*latent_factor))\n",
    "\n",
    "    return kan_bottlneck\n"
   ]
  },
  {
   "cell_type": "code",
   "execution_count": 32,
   "metadata": {},
   "outputs": [],
   "source": [
    "dmodel = 256\n",
    "dff = 1024\n",
    "\n",
    "kan_types = ['kan', 'mlp_kan', 'kan_latent']"
   ]
  },
  {
   "cell_type": "code",
   "execution_count": 33,
   "metadata": {},
   "outputs": [
    {
     "name": "stdout",
     "output_type": "stream",
     "text": [
      "params: 102\ttype: kan\n",
      "params: 186\ttype: mlp_kan\n",
      "params: 204\ttype: kan_latent\n"
     ]
    }
   ],
   "source": [
    "for ktype in kan_types:\n",
    "    params = calculate_kan_bottlneck(dmodel, dff, ktype)\n",
    "    print(f'params: {params}\\ttype: {ktype}')"
   ]
  },
  {
   "cell_type": "code",
   "execution_count": 34,
   "metadata": {},
   "outputs": [
    {
     "name": "stdout",
     "output_type": "stream",
     "text": [
      "params: 204\ttype: kan_latent\n",
      "params: 186\ttype: kan_latent\n",
      "params: 179\ttype: kan_latent\n",
      "params: 166\ttype: kan_latent\n",
      "params: 143\ttype: kan_latent\n"
     ]
    }
   ],
   "source": [
    "lfs = [1, 1.2, 1.3, 1.5, 2]\n",
    "for lf in lfs:\n",
    "    params = calculate_kan_bottlneck(dmodel, dff, 'kan_latent', lf)\n",
    "    print(f'params: {params}\\ttype: {ktype}')"
   ]
  },
  {
   "cell_type": "code",
   "execution_count": 28,
   "metadata": {},
   "outputs": [],
   "source": [
    "def calculate_kan_params(dmodel, bottlneck, kan_type, latent_factor=1):\n",
    "    # this function calculates kan_bottlneck, so that KAN architecture is parameter matched with MLP\n",
    "    # kan types:\n",
    "        # kan_squared   KAN (dmodel, dmodel)\n",
    "        # kan:          KAN -> KAN (dmodel, kan_bottlneck, dmodel)                                      *ReLU\n",
    "        # mlp_kan:      MLP -> KAN (dmodel, kan_bottlneck, dmodel)                                      *no ReLU\n",
    "        # kan_latent:   MLP -> KAN -> MLP (dmodel, kan_bottlneck, kan_bottlneck*latent_factor, dmodel)  *no ReLU\n",
    "    params = None\n",
    "\n",
    "    if kan_type == 'mlp':\n",
    "        params = 2*dmodel*bottlneck\n",
    "    elif kan_type == 'kan':\n",
    "        params = 2*10*dmodel*bottlneck\n",
    "    elif kan_type == 'mlp_kan':\n",
    "        params = dmodel*bottlneck + 10*dmodel*bottlneck\n",
    "    elif kan_type == 'kan_latent':\n",
    "        params = dmodel*bottlneck + 10*int(latent_factor*bottlneck)*bottlneck + dmodel*int(latent_factor*bottlneck)\n",
    "\n",
    "    return params"
   ]
  },
  {
   "cell_type": "code",
   "execution_count": 29,
   "metadata": {},
   "outputs": [
    {
     "name": "stdout",
     "output_type": "stream",
     "text": [
      "mlp params: 524288\n"
     ]
    }
   ],
   "source": [
    "params = calculate_kan_params(dmodel, dff, 'mlp', 1)\n",
    "print(f'mlp params: {params}')"
   ]
  },
  {
   "cell_type": "code",
   "execution_count": 30,
   "metadata": {},
   "outputs": [
    {
     "name": "stdout",
     "output_type": "stream",
     "text": [
      "527184\n"
     ]
    }
   ],
   "source": [
    "params = calculate_kan_params(dmodel, 180, 'kan_latent', 1.3)\n",
    "print(params)"
   ]
  },
  {
   "cell_type": "code",
   "execution_count": null,
   "metadata": {},
   "outputs": [],
   "source": []
  }
 ],
 "metadata": {
  "kernelspec": {
   "display_name": "venv",
   "language": "python",
   "name": "python3"
  },
  "language_info": {
   "codemirror_mode": {
    "name": "ipython",
    "version": 3
   },
   "file_extension": ".py",
   "mimetype": "text/x-python",
   "name": "python",
   "nbconvert_exporter": "python",
   "pygments_lexer": "ipython3",
   "version": "3.11.7"
  }
 },
 "nbformat": 4,
 "nbformat_minor": 2
}
