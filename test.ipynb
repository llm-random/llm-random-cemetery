{
 "cells": [
  {
   "cell_type": "code",
   "execution_count": 3,
   "metadata": {},
   "outputs": [],
   "source": [
    "from fancy_einsum import einsum\n",
    "import torch"
   ]
  },
  {
   "cell_type": "code",
   "execution_count": 11,
   "metadata": {},
   "outputs": [],
   "source": [
    "x = torch.tensor([[[1, 2], [3, 28], [7, 2]], [[1, 2], [3, 28], [7, 2]], [[1, 2], [3, 28], [7, 2]], [[1, 2], [3, 28], [7, 2]]])"
   ]
  },
  {
   "cell_type": "code",
   "execution_count": 12,
   "metadata": {},
   "outputs": [
    {
     "name": "stdout",
     "output_type": "stream",
     "text": [
      "torch.Size([4, 3, 2])\n"
     ]
    }
   ],
   "source": [
    "print(x.shape)\n",
    "batch_size, seq_len, dmodel = x.shape"
   ]
  },
  {
   "cell_type": "code",
   "execution_count": 7,
   "metadata": {},
   "outputs": [
    {
     "name": "stdout",
     "output_type": "stream",
     "text": [
      "tensor([[[3]],\n",
      "\n",
      "        [[4]],\n",
      "\n",
      "        [[5]],\n",
      "\n",
      "        [[7]]])\n",
      "tensor([[[  3,   6],\n",
      "         [  9,  84],\n",
      "         [ 21,   6]],\n",
      "\n",
      "        [[  4,   8],\n",
      "         [ 12, 112],\n",
      "         [ 28,   8]],\n",
      "\n",
      "        [[  5,  10],\n",
      "         [ 15, 140],\n",
      "         [ 35,  10]],\n",
      "\n",
      "        [[  7,  14],\n",
      "         [ 21, 196],\n",
      "         [ 49,  14]]])\n"
     ]
    }
   ],
   "source": [
    "y = torch.tensor([3, 4, 5, 7])\n",
    "y = y.view(-1, 1, 1)\n",
    "print(y)\n",
    "print(x * y)"
   ]
  },
  {
   "cell_type": "code",
   "execution_count": 19,
   "metadata": {},
   "outputs": [
    {
     "name": "stdout",
     "output_type": "stream",
     "text": [
      "torch.Size([10, 12, 2])\n"
     ]
    }
   ],
   "source": [
    "z = x.reshape(1, batch_size * seq_len, dmodel)\n",
    "z = z.repeat(10, 1, 1)\n",
    "print(z.shape)"
   ]
  },
  {
   "cell_type": "code",
   "execution_count": 2,
   "metadata": {},
   "outputs": [
    {
     "name": "stdout",
     "output_type": "stream",
     "text": [
      "torch.Size([10, 2, 3])\n"
     ]
    }
   ],
   "source": [
    "import torch\n",
    "\n",
    "# Create a tensor of shape (1, 2, 3)\n",
    "x = torch.randn(1, 2, 3)\n",
    "\n",
    "# Ensure the shape is correct\n",
    "assert x.shape == (1, 2, 3)\n",
    "\n",
    "# Repeat the tensor 10 times along the first dimension\n",
    "repeated_tensor = x.repeat(10, 1, 1)\n",
    "\n",
    "# Check the shape of the new tensor\n",
    "print(repeated_tensor.shape)  # Output should be torch.Size([10, 2, 3])\n",
    "\n"
   ]
  },
  {
   "cell_type": "code",
   "execution_count": 3,
   "metadata": {},
   "outputs": [
    {
     "data": {
      "text/plain": [
       "tensor([[[ 1.3546, -0.5888,  0.7038]],\n",
       "\n",
       "        [[ 1.3546, -0.5888,  0.7038]]])"
      ]
     },
     "execution_count": 3,
     "metadata": {},
     "output_type": "execute_result"
    }
   ],
   "source": [
    "toks = repeated_tensor[0:2, 1:3]\n",
    "toks"
   ]
  },
  {
   "cell_type": "code",
   "execution_count": null,
   "metadata": {},
   "outputs": [],
   "source": []
  }
 ],
 "metadata": {
  "kernelspec": {
   "display_name": "venv",
   "language": "python",
   "name": "python3"
  },
  "language_info": {
   "codemirror_mode": {
    "name": "ipython",
    "version": 3
   },
   "file_extension": ".py",
   "mimetype": "text/x-python",
   "name": "python",
   "nbconvert_exporter": "python",
   "pygments_lexer": "ipython3",
   "version": "3.10.12"
  }
 },
 "nbformat": 4,
 "nbformat_minor": 2
}
