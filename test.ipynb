{
 "cells": [
  {
   "cell_type": "code",
   "execution_count": 19,
   "metadata": {},
   "outputs": [],
   "source": [
    "from collections import defaultdict\n",
    "import argparse\n",
    "\n",
    "def merge_params_dicts(param_group_1: list, param_group_2: list):\n",
    "    key_param, key2 = param_group_2[0].keys()\n",
    "    out = []\n",
    "    for d1 in param_group_1:\n",
    "        params_1 = set(d1[key_param])\n",
    "        for d2 in param_group_2:\n",
    "            params_2 = set(d2[key_param])\n",
    "            val2 = d2[key2]\n",
    "            params = params_1 & params_2\n",
    "            if len(params) != 0:\n",
    "                out.append(d1.copy())\n",
    "                out[-1][key_param] = list(params).copy()\n",
    "                out[-1][key2] = val2\n",
    "    return out\n",
    "\n",
    "def make_param_groups_for_relative_lr(args, model):\n",
    "    baseline_args = [args.learning_rate, args.final_lr_fraction]\n",
    "    baseline_keys = ['lr', 'fraction']\n",
    "    relative_params_all = [args.relative_lr, args.relative_scheduler_fraction]\n",
    "    all_groups = []\n",
    "    for baseline_arg, key, relative_params in zip(baseline_args, baseline_keys, relative_params_all):\n",
    "        if relative_params is None:\n",
    "            all_groups.append(([{\"params\": model.parameters(), key: baseline_arg}], [1.0]))\n",
    "\n",
    "        relative_to_params = defaultdict(list)\n",
    "        for name, param in model.named_parameters():\n",
    "            ratio = 1.0\n",
    "            for possible_name in relative_params.keys():\n",
    "                if possible_name in name:\n",
    "                    ratio = relative_params[possible_name]\n",
    "                    break\n",
    "            relative_to_params[ratio * baseline_arg].append(param)\n",
    "        param_grops = [\n",
    "            {\"params\": params, key: relative_arg} for relative_arg, params in relative_to_params.items()\n",
    "        ]\n",
    "        all_groups.append(param_grops)\n",
    "\n",
    "    param_groups = all_groups[0]\n",
    "    for group2 in all_groups[1:]:\n",
    "        param_groups = merge_params_dicts(param_groups, group2)\n",
    "    \n",
    "    ratios_in_group_order = {key: [] for key in baseline_keys}\n",
    "    for param_group in param_groups:\n",
    "        for baseline_arg, key in zip(baseline_args, baseline_keys):\n",
    "            ratios_in_group_order[key].append(param_group[key] / baseline_arg)\n",
    "\n",
    "    return param_groups, ratios_in_group_order"
   ]
  },
  {
   "cell_type": "code",
   "execution_count": 20,
   "metadata": {},
   "outputs": [
    {
     "name": "stdout",
     "output_type": "stream",
     "text": [
      "{'params': [1, 4], 'lr': 2.0, 'fraction': 2.0}\n",
      "{'params': [2, 5], 'lr': 0.5, 'fraction': 1.0}\n",
      "{'params': [7], 'lr': 1.0, 'fraction': 1.0}\n",
      "{'params': [3, 6], 'lr': 1.0, 'fraction': 0.5}\n",
      "arg: lr\n",
      "[2.0, 0.5, 1.0, 1.0]\n",
      "arg: fraction\n",
      "[2.0, 1.0, 1.0, 0.5]\n"
     ]
    }
   ],
   "source": [
    "class DummyModel:\n",
    "    def __init__(self):\n",
    "        self.params = [('param.1', 1), ('param.2', 2), ('param.3', 3), ('arg.1', 4), ('arg.2', 5), ('arg.3', 6), ('arg.4', 7)]\n",
    "\n",
    "    def named_parameters(self):\n",
    "        return self.params\n",
    "\n",
    "# Create a mock args object\n",
    "def create_mock_args():\n",
    "    args = argparse.Namespace()\n",
    "    args.learning_rate = 1.0\n",
    "    args.final_lr_fraction = 1.0\n",
    "    args.relative_lr = {'1': 2, '2': 0.5}\n",
    "    args.relative_scheduler_fraction = {'1': 2, '3': 0.5}\n",
    "    return args\n",
    "\n",
    "# Test the function\n",
    "def test_make_param_groups_for_relative_lr():\n",
    "    args = create_mock_args()\n",
    "    model = DummyModel()\n",
    "\n",
    "    return make_param_groups_for_relative_lr(args, model)\n",
    "\n",
    "# Run the test\n",
    "param_groups, ratios_in_group_order = test_make_param_groups_for_relative_lr()\n",
    "for dct in param_groups:\n",
    "    print(dct)\n",
    "\n",
    "for arg, lista in ratios_in_group_order.items():\n",
    "    print(f'arg: {arg}')\n",
    "    print(lista)"
   ]
  },
  {
   "cell_type": "code",
   "execution_count": null,
   "metadata": {},
   "outputs": [],
   "source": []
  }
 ],
 "metadata": {
  "kernelspec": {
   "display_name": "venv",
   "language": "python",
   "name": "python3"
  },
  "language_info": {
   "codemirror_mode": {
    "name": "ipython",
    "version": 3
   },
   "file_extension": ".py",
   "mimetype": "text/x-python",
   "name": "python",
   "nbconvert_exporter": "python",
   "pygments_lexer": "ipython3",
   "version": "3.12.3"
  }
 },
 "nbformat": 4,
 "nbformat_minor": 2
}
