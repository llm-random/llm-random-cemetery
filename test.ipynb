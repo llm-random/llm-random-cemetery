{
 "cells": [
  {
   "cell_type": "code",
   "execution_count": 3,
   "metadata": {},
   "outputs": [
    {
     "name": "stdout",
     "output_type": "stream",
     "text": [
      "current_batch_size_per_gpu: 24\n",
      "num_batch_chunks: 1\n"
     ]
    }
   ],
   "source": [
    "d = {\n",
    "    'batch_size': 777,\n",
    "    'n_devices': 4,\n",
    "    'gradient_accumulation_steps': 8,\n",
    "}\n",
    "\n",
    "current_batch_size_per_gpu = d[\"batch_size\"] // (\n",
    "    d[\"gradient_accumulation_steps\"] * d[\"n_devices\"]\n",
    ")  # This value assures that the num_batch_chunks is 1\n",
    "\n",
    "num_batch_chunks = max(\n",
    "    d[\"gradient_accumulation_steps\"]\n",
    "    // (d[\"batch_size\"] // (current_batch_size_per_gpu * d[\"n_devices\"])),\n",
    "    1,\n",
    ")\n",
    "\n",
    "print(f\"current_batch_size_per_gpu: {current_batch_size_per_gpu}\")\n",
    "print(f\"num_batch_chunks: {num_batch_chunks}\")"
   ]
  },
  {
   "cell_type": "code",
   "execution_count": 7,
   "metadata": {},
   "outputs": [
    {
     "name": "stdout",
     "output_type": "stream",
     "text": [
      "tensor([[1, 8]])\n",
      "tensor([[2, 9]])\n",
      "tensor([[ 3, 10]])\n",
      "tensor([[ 4, 11]])\n",
      "tensor([[ 1,  8],\n",
      "        [ 2,  9],\n",
      "        [ 3, 10],\n",
      "        [ 4, 11]])\n"
     ]
    }
   ],
   "source": [
    "import torch\n",
    "\n",
    "t = torch.tensor([[1, 1], [2, 2], [3, 3], [4, 4]])\n",
    "\n",
    "chunked = torch.chunk(t, 4, dim=0)\n",
    "for chunk in chunked:\n",
    "    chunk[0, 1] += 7\n",
    "    print(chunk)\n",
    "\n",
    "print(t)"
   ]
  },
  {
   "cell_type": "code",
   "execution_count": null,
   "metadata": {},
   "outputs": [],
   "source": []
  },
  {
   "cell_type": "markdown",
   "metadata": {},
   "source": [
    "queisoqu9Hag"
   ]
  }
 ],
 "metadata": {
  "kernelspec": {
   "display_name": "venv",
   "language": "python",
   "name": "python3"
  },
  "language_info": {
   "codemirror_mode": {
    "name": "ipython",
    "version": 3
   },
   "file_extension": ".py",
   "mimetype": "text/x-python",
   "name": "python",
   "nbconvert_exporter": "python",
   "pygments_lexer": "ipython3",
   "version": "3.10.12"
  }
 },
 "nbformat": 4,
 "nbformat_minor": 2
}
