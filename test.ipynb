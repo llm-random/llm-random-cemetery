{
 "cells": [
  {
   "cell_type": "code",
   "execution_count": 5,
   "metadata": {},
   "outputs": [],
   "source": [
    "import torch\n",
    "import math"
   ]
  },
  {
   "cell_type": "code",
   "execution_count": 13,
   "metadata": {},
   "outputs": [],
   "source": [
    "def calculate_kan_bottlneck(dmodel, dff, kan_type):\n",
    "    kan_bottlneck = None\n",
    "\n",
    "    if kan_type == 'mlp':\n",
    "        kan_bottlneck = 8*dmodel*dff\n",
    "    elif kan_type == 'kan':\n",
    "        kan_bottlneck = int((1/10) * dff)\n",
    "    elif kan_type in ['mlp_kan', 'mlp_kan_norelu']:\n",
    "        kan_bottlneck = int((2/11) * dff)\n",
    "    elif kan_type == 'kan_square_latent':\n",
    "        kan_bottlneck = int((math.sqrt(dmodel*(20*dff + dmodel)) - dmodel)/10)\n",
    "    \n",
    "    return kan_bottlneck"
   ]
  },
  {
   "cell_type": "code",
   "execution_count": 26,
   "metadata": {},
   "outputs": [],
   "source": [
    "dmodel = 512\n",
    "dff = 32\n",
    "\n",
    "kan_types = ['mlp', 'kan', 'mlp_kan_norelu', 'kan_square_latent']"
   ]
  },
  {
   "cell_type": "code",
   "execution_count": 27,
   "metadata": {},
   "outputs": [
    {
     "name": "stdout",
     "output_type": "stream",
     "text": [
      "params: 131072\ttype: mlp\n",
      "params: 3\ttype: kan\n",
      "params: 5\ttype: mlp_kan_norelu\n",
      "params: 25\ttype: kan_square_latent\n"
     ]
    }
   ],
   "source": [
    "for ktype in kan_types:\n",
    "    params = calculate_kan_bottlneck(dmodel, dff, ktype)\n",
    "    print(f'params: {params}\\ttype: {ktype}')"
   ]
  },
  {
   "cell_type": "code",
   "execution_count": null,
   "metadata": {},
   "outputs": [],
   "source": []
  }
 ],
 "metadata": {
  "kernelspec": {
   "display_name": "venv",
   "language": "python",
   "name": "python3"
  },
  "language_info": {
   "codemirror_mode": {
    "name": "ipython",
    "version": 3
   },
   "file_extension": ".py",
   "mimetype": "text/x-python",
   "name": "python",
   "nbconvert_exporter": "python",
   "pygments_lexer": "ipython3",
   "version": "3.11.7"
  }
 },
 "nbformat": 4,
 "nbformat_minor": 2
}
