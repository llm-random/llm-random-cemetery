{
 "cells": [
  {
   "cell_type": "code",
   "execution_count": 1,
   "metadata": {},
   "outputs": [],
   "source": [
    "import neptune as neptune\n",
    "import pandas as pd\n",
    "import numpy as np\n",
    "import matplotlib.pyplot as plt\n",
    "import matplotlib.ticker as ticker\n",
    "import matplotlib.ticker as mticker"
   ]
  },
  {
   "cell_type": "code",
   "execution_count": 2,
   "metadata": {},
   "outputs": [
    {
     "name": "stdout",
     "output_type": "stream",
     "text": [
      "Requirement already satisfied: seaborn in ./venv/lib/python3.10/site-packages (0.13.2)\n",
      "Requirement already satisfied: numpy!=1.24.0,>=1.20 in ./venv/lib/python3.10/site-packages (from seaborn) (1.22.1)\n",
      "Requirement already satisfied: pandas>=1.2 in ./venv/lib/python3.10/site-packages (from seaborn) (2.0.3)\n",
      "Requirement already satisfied: matplotlib!=3.6.1,>=3.4 in ./venv/lib/python3.10/site-packages (from seaborn) (3.5.1)\n",
      "Requirement already satisfied: cycler>=0.10 in ./venv/lib/python3.10/site-packages (from matplotlib!=3.6.1,>=3.4->seaborn) (0.12.1)\n",
      "Requirement already satisfied: fonttools>=4.22.0 in ./venv/lib/python3.10/site-packages (from matplotlib!=3.6.1,>=3.4->seaborn) (4.51.0)\n",
      "Requirement already satisfied: kiwisolver>=1.0.1 in ./venv/lib/python3.10/site-packages (from matplotlib!=3.6.1,>=3.4->seaborn) (1.4.5)\n",
      "Requirement already satisfied: packaging>=20.0 in ./venv/lib/python3.10/site-packages (from matplotlib!=3.6.1,>=3.4->seaborn) (24.0)\n",
      "Requirement already satisfied: pillow>=6.2.0 in ./venv/lib/python3.10/site-packages (from matplotlib!=3.6.1,>=3.4->seaborn) (10.3.0)\n",
      "Requirement already satisfied: pyparsing>=2.2.1 in ./venv/lib/python3.10/site-packages (from matplotlib!=3.6.1,>=3.4->seaborn) (3.1.2)\n",
      "Requirement already satisfied: python-dateutil>=2.7 in ./venv/lib/python3.10/site-packages (from matplotlib!=3.6.1,>=3.4->seaborn) (2.9.0.post0)\n",
      "Requirement already satisfied: pytz>=2020.1 in ./venv/lib/python3.10/site-packages (from pandas>=1.2->seaborn) (2024.1)\n",
      "Requirement already satisfied: tzdata>=2022.1 in ./venv/lib/python3.10/site-packages (from pandas>=1.2->seaborn) (2024.1)\n",
      "Requirement already satisfied: six>=1.5 in ./venv/lib/python3.10/site-packages (from python-dateutil>=2.7->matplotlib!=3.6.1,>=3.4->seaborn) (1.16.0)\n",
      "\n",
      "\u001b[1m[\u001b[0m\u001b[34;49mnotice\u001b[0m\u001b[1;39;49m]\u001b[0m\u001b[39;49m A new release of pip is available: \u001b[0m\u001b[31;49m24.0\u001b[0m\u001b[39;49m -> \u001b[0m\u001b[32;49m24.3.1\u001b[0m\n",
      "\u001b[1m[\u001b[0m\u001b[34;49mnotice\u001b[0m\u001b[1;39;49m]\u001b[0m\u001b[39;49m To update, run: \u001b[0m\u001b[32;49mpip install --upgrade pip\u001b[0m\n"
     ]
    }
   ],
   "source": [
    "!pip install seaborn"
   ]
  },
  {
   "cell_type": "code",
   "execution_count": 3,
   "metadata": {},
   "outputs": [],
   "source": [
    "def get_neptune_table(tags, negative_tags=None, columns=None):\n",
    "    \"\"\"\n",
    "    Fetches a Neptune runs table filtered by tags and returns it as a pandas DataFrame.\n",
    "\n",
    "    Parameters:\n",
    "    - tags (list): List of tags to filter the runs.\n",
    "    - negative_tags (list, optional): List of tags to exclude from the runs.\n",
    "    - columns (list, optional): Additional columns to include in the runs table.\n",
    "\n",
    "    Returns:\n",
    "    - pandas.DataFrame: The runs table with the specified filters and columns.\n",
    "    \"\"\"\n",
    "    # Initialize columns if None\n",
    "    if columns is None:\n",
    "        columns = []\n",
    "\n",
    "    # Base columns to always include\n",
    "    base_columns = ['sys/tags', 'sys/id', 'args/cutoff', 'args/batch_size', 'loss']\n",
    "    columns.extend(base_columns)\n",
    "\n",
    "    # Mapping for 'start' and 'end' arguments\n",
    "    prefix_mapping = {\n",
    "        'start': 'relative_lr',\n",
    "        'end': 'relative_scheduler_fraction'\n",
    "    }\n",
    "\n",
    "    # Components to include in the arguments columns\n",
    "    components = ['embedding_layer', 'head', 'gating', 'expert_inner_function', 'projection']\n",
    "\n",
    "    # Build columns for each combination of 'start/end' and components\n",
    "    for position in ['start', 'end']:\n",
    "        for component in components:\n",
    "            prefix = prefix_mapping[position]\n",
    "            column_name = f'args/{prefix}/{component}'\n",
    "            columns.append(column_name)\n",
    "\n",
    "    # Initialize the Neptune project\n",
    "    project = neptune.init_project(\n",
    "        project=\"pmtest/llm-random\",\n",
    "        mode=\"read-only\",\n",
    "        api_token=\"eyJhcGlfYWRkcmVzcyI6Imh0dHBzOi8vYXBwLm5lcHR1bmUuYWkiLCJhcGlfdXJsIjoiaHR0cHM6Ly9hcHAubmVwdHVuZS5haSIsImFwaV9rZXkiOiIyMDY0ZDI5Ni05YWU3LTQyNGYtYmY4My1hZTFkY2EzYmUwMjgifQ==\"\n",
    "    )\n",
    "\n",
    "    # Fetch the runs table with the specified tags and columns\n",
    "    runs_table = project.fetch_runs_table(\n",
    "        tag=tags,\n",
    "        columns=columns\n",
    "    ).to_pandas()\n",
    "\n",
    "    # Ensure 'sys/tags' is a list for each run\n",
    "    runs_table['sys/tags'] = runs_table['sys/tags'].apply(\n",
    "        lambda x: x.split(',') if isinstance(x, str) else x\n",
    "    )\n",
    "\n",
    "    # Exclude runs containing any of the negative tags\n",
    "    if negative_tags:\n",
    "        for neg_tag in negative_tags:\n",
    "            runs_table = runs_table[\n",
    "                ~runs_table['sys/tags'].apply(lambda x: neg_tag in x)\n",
    "            ]\n",
    "\n",
    "    print(f'Table downloaded\\nShape: {runs_table.shape}')\n",
    "    return runs_table\n"
   ]
  },
  {
   "cell_type": "code",
   "execution_count": 11,
   "metadata": {},
   "outputs": [
    {
     "name": "stdout",
     "output_type": "stream",
     "text": [
      "https://app.neptune.ai/pmtest/llm-random/\n",
      "Table downloaded\n",
      "Shape: (25, 8)\n",
      "[[5.338125, 10.0, 2.0], [5.3253125, 10.0, 1.0], [5.365, 20.0, 2.0], [5.3390625, 20.0, 1.0], [5.3275, 20.0, 0.5], [5.316875, 20.0, 0.2], [5.311875, 20.0, 0.1], [5.331875, 5.0, 2.0], [5.3209375, 5.0, 1.0], [5.3178125, 10.0, 0.2], [5.3125, 2.0, 0.2], [5.305625, 10.0, 0.1], [5.3046875, 2.0, 1.0], [5.314375, 2.0, 2.0], [5.3084375, 2.0, 0.5], [5.31625, 10.0, 0.5], [5.3203125, 2.0, 0.1], [5.3115625, 5.0, 0.2], [5.3025, 5.0, 0.5], [5.3109375, 1.0, 1.0], [5.3065625, 1.0, 2.0], [5.3140625, 5.0, 0.1], [5.3175, 1.0, 0.2], [5.3075, 1.0, 0.5], [5.325, 1.0, 0.1]]\n",
      "[[ 5.338125  10.         2.       ]\n",
      " [ 5.3253125 10.         1.       ]\n",
      " [ 5.365     20.         2.       ]\n",
      " [ 5.3390625 20.         1.       ]\n",
      " [ 5.3275    20.         0.5      ]\n",
      " [ 5.316875  20.         0.2      ]\n",
      " [ 5.311875  20.         0.1      ]\n",
      " [ 5.331875   5.         2.       ]\n",
      " [ 5.3209375  5.         1.       ]\n",
      " [ 5.3178125 10.         0.2      ]\n",
      " [ 5.3125     2.         0.2      ]\n",
      " [ 5.305625  10.         0.1      ]\n",
      " [ 5.3046875  2.         1.       ]\n",
      " [ 5.314375   2.         2.       ]\n",
      " [ 5.3084375  2.         0.5      ]\n",
      " [ 5.31625   10.         0.5      ]\n",
      " [ 5.3203125  2.         0.1      ]\n",
      " [ 5.3115625  5.         0.2      ]\n",
      " [ 5.3025     5.         0.5      ]\n",
      " [ 5.3109375  1.         1.       ]\n",
      " [ 5.3065625  1.         2.       ]\n",
      " [ 5.3140625  5.         0.1      ]\n",
      " [ 5.3175     1.         0.2      ]\n",
      " [ 5.3075     1.         0.5      ]\n",
      " [ 5.325      1.         0.1      ]]\n"
     ]
    },
    {
     "data": {
      "image/png": "[encoded data removed]",
      "text/plain": [
       "<Figure size 800x600 with 2 Axes>"
      ]
     },
     "metadata": {},
     "output_type": "display_data"
    }
   ],
   "source": [
    "import numpy as np\n",
    "import matplotlib.pyplot as plt\n",
    "import seaborn as sns\n",
    "\n",
    "LOSS_COL = \"loss_interval/100\"\n",
    "X1_COL = \"args/mup_params/alpha_in\"\n",
    "X2_COL = \"args/mup_params/alpha_out\"\n",
    "runs = get_neptune_table([\"alpha_grid\", \"muP_MoE\"], columns=[X1_COL, X2_COL, LOSS_COL])\n",
    "\n",
    "data = runs[[LOSS_COL, X1_COL, X2_COL]].to_dict(\"tight\")[\"data\"]\n",
    "print(data)\n",
    "data = np.array(data)\n",
    "print(data)\n",
    "\n",
    "loss = data[:, 0]\n",
    "best_biased = loss.min()\n",
    "# loss = (loss - loss.min()) / (loss.max() - loss.min())\n",
    "loss = loss - np.floor(loss)\n",
    "loss = loss * 1000\n",
    "data[:, 0] = loss\n",
    "\n",
    "\n",
    "# Extract x1, x2, and loss\n",
    "x1_values = sorted(set([x1 for _, x1, _ in data]), reverse=True)\n",
    "x2_values = sorted(set([x2 for _, _, x2 in data]))\n",
    "# Create a 2D grid for loss values\n",
    "loss_grid = np.full((len(x1_values), len(x2_values)), np.nan)\n",
    "\n",
    "# Fill the grid with loss values\n",
    "for loss, x1, x2 in data:\n",
    "    i = x1_values.index(x1)\n",
    "    j = x2_values.index(x2)\n",
    "    loss_grid[i, j] = loss\n",
    "\n",
    "# Plot the heatmap\n",
    "plt.figure(figsize=(8, 6))\n",
    "sns.heatmap(loss_grid, annot=True, xticklabels=x2_values, yticklabels=x1_values, cmap='YlGn_r', fmt=\".0f\")\n",
    "plt.xlabel(f'X2_{X2_COL}')\n",
    "plt.ylabel(f'X1_{X1_COL}')\n",
    "plt.title('Heatmap of Loss Values')\n",
    "plt.show()"
   ]
  },
  {
   "cell_type": "code",
   "execution_count": 9,
   "metadata": {},
   "outputs": [
    {
     "name": "stdout",
     "output_type": "stream",
     "text": [
      "w/d:\t128.00\n",
      "experts active/total: 176160768.0/176160768.0\n",
      "model params:\t7.79 billion\n"
     ]
    }
   ],
   "source": [
    "def calculate_from_args_model_parameter_counts(dmodel, cutoff, vocab_size, isgated, dff, active_ratio, ismoe, n_experts, n_blocks):\n",
    "    embedding_parameters = vocab_size * dmodel + cutoff * dmodel\n",
    "    head_parameters = vocab_size * dmodel\n",
    "\n",
    "    layer_norm_params = 2 * dmodel\n",
    "\n",
    "    attention_params = (dmodel**2) * 4  # Q, K, V and O projections\n",
    "\n",
    "    if isgated:\n",
    "        ff_total_params = 3 * dmodel * dff\n",
    "    else:\n",
    "        ff_total_params = 2 * dmodel * dff\n",
    "\n",
    "    ff_active_params = (\n",
    "        ff_total_params * active_ratio\n",
    "    )  # when not MoE, active_ratio = 1\n",
    "\n",
    "    print(f\"experts active/total: {ff_active_params}/{ff_total_params}\")\n",
    "\n",
    "    router_params = 0\n",
    "    if ismoe:\n",
    "        router_params = dmodel * n_experts\n",
    "        print(f\"router: {router_params}\")\n",
    "\n",
    "    n_blocks = n_blocks\n",
    "    all_layer_norm_params = (\n",
    "        n_blocks * layer_norm_params * 2\n",
    "    )  # 2 because LN in attention and LN in FF\n",
    "    all_attention_params = n_blocks * attention_params\n",
    "    all_ff_total_params = n_blocks * ff_total_params\n",
    "    all_ff_active_params = n_blocks * ff_active_params\n",
    "    all_router_params = n_blocks * router_params\n",
    "\n",
    "    return (\n",
    "        embedding_parameters,\n",
    "        all_layer_norm_params,\n",
    "        all_attention_params,\n",
    "        all_ff_total_params,\n",
    "        all_ff_active_params,\n",
    "        all_router_params,\n",
    "        head_parameters,\n",
    "    )\n",
    "\n",
    "dmodel = 4096\n",
    "isgated = True\n",
    "dff = 3.5 * dmodel\n",
    "ismoe = False\n",
    "vocab_size = 50000\n",
    "active_ratio = 1.0\n",
    "n_experts = None\n",
    "cutoff = 512\n",
    "n_blocks = 32\n",
    "\n",
    "print(f'w/d:\\t{dmodel / n_blocks:.2f}')\n",
    "\n",
    "(\n",
    "    embedding_parameters,\n",
    "    all_layer_norm_params,\n",
    "    all_attention_params,\n",
    "    all_ff_total_params,\n",
    "    all_ff_active_params,\n",
    "    all_router_params,\n",
    "    head_parameters,\n",
    ") = calculate_from_args_model_parameter_counts(dmodel, cutoff, vocab_size, isgated, dff, active_ratio, ismoe, n_experts, n_blocks)\n",
    "\n",
    "tower_params = all_layer_norm_params + all_attention_params + all_ff_total_params\n",
    "\n",
    "print(f'model params:\\t{tower_params / 1e9:.2f} billion')\n"
   ]
  },
  {
   "cell_type": "code",
   "execution_count": 59,
   "metadata": {},
   "outputs": [
    {
     "name": "stdout",
     "output_type": "stream",
     "text": [
      "token/param:\t166.98\n"
     ]
    }
   ],
   "source": [
    "fineweb_tokens = 1.3e12\n",
    "token_to_param = fineweb_tokens / tower_params\n",
    "\n",
    "print(f'token/param:\\t{token_to_param:.2f}')"
   ]
  },
  {
   "cell_type": "code",
   "execution_count": 60,
   "metadata": {},
   "outputs": [
    {
     "name": "stdout",
     "output_type": "stream",
     "text": [
      "tokens: 155.70B\n",
      "training will take: 10203 h\n",
      "using 0.35 nodes this will take: 304 d\n",
      "total cost: 30610$\n",
      "total cost: 124890zł\n"
     ]
    }
   ],
   "source": [
    "def hours(mfu, params, tokens, flops_per_s=990):\n",
    "    flopsy = 6 * params * tokens\n",
    "    operations_per_s = flops_per_s * mfu * 1e12\n",
    "    training_s = flopsy / operations_per_s\n",
    "    training_h = training_s / 3600\n",
    "    return training_h\n",
    "\n",
    "mfu = 0.2\n",
    "params = tower_params\n",
    "# params = 2.5 * 1e9\n",
    "tokens = 20 * params\n",
    "print(f'tokens: {tokens / 1e9:.2f}B')\n",
    "h = hours(mfu, params, tokens)\n",
    "print(f'training will take: {h:.0f} h')\n",
    "num_nodes = 0.35\n",
    "print(f'using {num_nodes} nodes this will take: {h / (num_nodes * 4 * 24):.0f} d')\n",
    "hour_cost = 3\n",
    "print(f'total cost: {h * hour_cost:.0f}$')\n",
    "print(f'total cost: {h * hour_cost * 4.08:.0f}zł')\n"
   ]
  },
  {
   "cell_type": "code",
   "execution_count": null,
   "metadata": {},
   "outputs": [],
   "source": []
  }
 ],
 "metadata": {
  "kernelspec": {
   "display_name": "venv",
   "language": "python",
   "name": "python3"
  },
  "language_info": {
   "codemirror_mode": {
    "name": "ipython",
    "version": 3
   },
   "file_extension": ".py",
   "mimetype": "text/x-python",
   "name": "python",
   "nbconvert_exporter": "python",
   "pygments_lexer": "ipython3",
   "version": "3.10.12"
  }
 },
 "nbformat": 4,
 "nbformat_minor": 2
}
