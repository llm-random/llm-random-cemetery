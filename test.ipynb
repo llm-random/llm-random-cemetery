{
 "cells": [
  {
   "cell_type": "code",
   "execution_count": 1,
   "metadata": {},
   "outputs": [],
   "source": [
    "import numpy as np"
   ]
  },
  {
   "cell_type": "code",
   "execution_count": 2,
   "metadata": {},
   "outputs": [],
   "source": [
    "def calc_params(type, dmodel, dff):\n",
    "    params = None\n",
    "    if type == 'mlp':\n",
    "        params = 2*dmodel*dff\n",
    "    elif type == 'kan':\n",
    "        params = 2*dmodel*dff*10\n",
    "    elif type == 'kan_latent':\n",
    "        params = dmodel*dff + 10*2*(dff**2) + 2*dff*dmodel\n",
    "    elif type == 'kan_square_latent':\n",
    "        params = 2*dmodel*dff + 10*dff**2\n",
    "    elif type == 'mlp_kan':\n",
    "        params = dmodel*dff + 10*dmodel*dff\n",
    "    return params"
   ]
  },
  {
   "cell_type": "code",
   "execution_count": 3,
   "metadata": {},
   "outputs": [
    {
     "name": "stdout",
     "output_type": "stream",
     "text": [
      "params: 524288\ttype: mlp\tdmodel: 256\tdff: 1024\n"
     ]
    }
   ],
   "source": [
    "type = 'mlp'\n",
    "dmodels = [256]\n",
    "dffs = [1024]\n",
    "for dmodel in dmodels:\n",
    "    for dff in dffs:\n",
    "        params = calc_params(type, dmodel, dff)\n",
    "        print(f'params: {params}\\ttype: {type}\\tdmodel: {dmodel}\\tdff: {dff}')"
   ]
  },
  {
   "cell_type": "code",
   "execution_count": 6,
   "metadata": {},
   "outputs": [
    {
     "name": "stdout",
     "output_type": "stream",
     "text": [
      "params: 523776\ttype: mlp_kan\tdmodel: 256\tdff: 186\n"
     ]
    }
   ],
   "source": [
    "type = 'mlp_kan'\n",
    "\n",
    "dmodels = [256]\n",
    "dffs = [186]\n",
    "for dmodel in dmodels:\n",
    "    for dff in dffs:\n",
    "        params = calc_params(type, dmodel, dff)\n",
    "        print(f'params: {params}\\ttype: {type}\\tdmodel: {dmodel}\\tdff: {dff}')"
   ]
  },
  {
   "cell_type": "code",
   "execution_count": null,
   "metadata": {},
   "outputs": [],
   "source": [
    "params = calc_params(type, dmodel, dff)\n",
    "print(f'params: {params}\\ttype: {type}\\tdmodel: {dmodel}\\tdff: {dff}')"
   ]
  }
 ],
 "metadata": {
  "kernelspec": {
   "display_name": "venv",
   "language": "python",
   "name": "python3"
  },
  "language_info": {
   "codemirror_mode": {
    "name": "ipython",
    "version": 3
   },
   "file_extension": ".py",
   "mimetype": "text/x-python",
   "name": "python",
   "nbconvert_exporter": "python",
   "pygments_lexer": "ipython3",
   "version": "3.12.3"
  }
 },
 "nbformat": 4,
 "nbformat_minor": 2
}
