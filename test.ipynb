{
 "cells": [
  {
   "cell_type": "code",
   "execution_count": 2,
   "metadata": {},
   "outputs": [],
   "source": [
    "import numpy as np\n",
    "import torch"
   ]
  },
  {
   "cell_type": "code",
   "execution_count": 8,
   "metadata": {},
   "outputs": [],
   "source": [
    "def print_tup(tup):\n",
    "    for t in tup:\n",
    "        print(t)"
   ]
  },
  {
   "cell_type": "code",
   "execution_count": 11,
   "metadata": {},
   "outputs": [
    {
     "name": "stdout",
     "output_type": "stream",
     "text": [
      "tensor([[ 1., -1.],\n",
      "        [ 2., -1.],\n",
      "        [ 3.,  0.]])\n"
     ]
    }
   ],
   "source": [
    "tokens = torch.tensor([[1, 2, 3], [-1, -1, 0]], dtype=torch.float).T\n",
    "print(tokens)"
   ]
  },
  {
   "cell_type": "code",
   "execution_count": 12,
   "metadata": {},
   "outputs": [
    {
     "name": "stdout",
     "output_type": "stream",
     "text": [
      "W_v: tensor([[ 1.,  1.,  1.],\n",
      "        [ 0.,  0.,  1.],\n",
      "        [ 0.,  1., -1.]])\n",
      "W_o: tensor([[ 2.,  0., -1.],\n",
      "        [ 0.,  1.,  0.],\n",
      "        [ 3.,  0.,  1.]])\n",
      "A: tensor([[0.6000, 0.4000],\n",
      "        [0.1000, 0.9000]])\n"
     ]
    }
   ],
   "source": [
    "W_v = torch.tensor([[1, 1, 1],\n",
    "                    [0, 0, 1],\n",
    "                    [0, 1, -1]], dtype=torch.float)\n",
    "W_o = torch.tensor([[2, 0, -1],\n",
    "                    [0, 1, 0],\n",
    "                    [3, 0, 1]], dtype=torch.float)\n",
    "A = torch.tensor([[0.6, 0.4],\n",
    "                  [0.1, 0.9]], dtype=torch.float)\n",
    "print(f'W_v: {W_v}')\n",
    "print(f'W_o: {W_o}')\n",
    "print(f'A: {A}')"
   ]
  },
  {
   "cell_type": "code",
   "execution_count": 17,
   "metadata": {},
   "outputs": [],
   "source": [
    "def att_mm(x):\n",
    "    v = torch.matmul(W_v, x)\n",
    "    weighted = torch.matmul(v, A.T)\n",
    "    out = torch.matmul(W_o, weighted)\n",
    "    return out, weighted, v\n",
    "\n",
    "def att_tp(x):\n",
    "    e_dim = torch.matmul(W_o, W_v)\n",
    "    out1 = torch.matmul(torch.matmul(e_dim, x), A.T)\n",
    "    out2 = torch.matmul(e_dim, torch.matmul(x, A.T))\n",
    "    return out1, out2"
   ]
  },
  {
   "cell_type": "code",
   "execution_count": 18,
   "metadata": {},
   "outputs": [
    {
     "name": "stdout",
     "output_type": "stream",
     "text": [
      "tensor([[ 6.6000, -1.4000],\n",
      "        [ 1.8000,  0.3000],\n",
      "        [ 7.4000, -4.6000]])\n",
      "tensor([[ 2.8000, -1.2000],\n",
      "        [ 1.8000,  0.3000],\n",
      "        [-1.0000, -1.0000]])\n",
      "tensor([[ 6., -2.],\n",
      "        [ 3.,  0.],\n",
      "        [-1., -1.]])\n",
      "\n",
      "tensor([[ 6.6000, -1.4000],\n",
      "        [ 1.8000,  0.3000],\n",
      "        [ 7.4000, -4.6000]])\n",
      "tensor([[ 6.6000, -1.4000],\n",
      "        [ 1.8000,  0.3000],\n",
      "        [ 7.4000, -4.6000]])\n"
     ]
    }
   ],
   "source": [
    "mm_out = att_mm(tokens)\n",
    "tp_out = att_tp(tokens)\n",
    "\n",
    "print_tup(mm_out)\n",
    "print()\n",
    "print_tup(tp_out)"
   ]
  },
  {
   "cell_type": "code",
   "execution_count": null,
   "metadata": {},
   "outputs": [],
   "source": []
  }
 ],
 "metadata": {
  "kernelspec": {
   "display_name": "venv",
   "language": "python",
   "name": "python3"
  },
  "language_info": {
   "codemirror_mode": {
    "name": "ipython",
    "version": 3
   },
   "file_extension": ".py",
   "mimetype": "text/x-python",
   "name": "python",
   "nbconvert_exporter": "python",
   "pygments_lexer": "ipython3",
   "version": "3.12.3"
  }
 },
 "nbformat": 4,
 "nbformat_minor": 2
}
