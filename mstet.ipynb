{
 "cells": [
  {
   "cell_type": "code",
   "execution_count": null,
   "metadata": {},
   "outputs": [],
   "source": [
    "relative_lr:\n",
    "    embedding_layer: 3.333 [0.83, 1.67, 2.36, 4.71, 6.67, 13.33, 1.0]   [0.4166, 0.5555, 19.998, 26.664]\n",
    "    head: 0.666 [0.17, 0.33, 0.47, 0.94, 1.33, 2.66, 1.0]               [0.0833, 0.111, 3.996, 5.328]\n",
    "    gating: 0.666 [[0.17, 0.33] [1.33, 2.66, 1.0]]                      [0.0833, 0.111, 3.996, 5.328]\n",
    "    expert_inner_function: 0.3 [0.08, 0.15, 0.6, 1.2, 1.0]              [0.0375, 0.05, 1.8, 2.4]\n",
    "    projection: 1. [0.25, 0.5, 2.0, 4.0]                                [0.125, 0.1667, 6, 8]\n",
    "\n",
    "relative_scheduler_fraction:\n",
    "    embedding_layer: 0.666 [0.17, 0.33, 1.33, 2.66, 1.0]        [0.0833, 0.111, 3.996, 5.328]\n",
    "    head: 0.666 [0.17, 0.33, 1.33, 2.66, 1.0]                   [0.0833, 0.111, 3.996, 5.328]\n",
    "    gating: 1. [0.25, 0.5, 2.0, 4.0]                            [0.125, 0.1667, 6, 8]\n",
    "    expert_inner_function: 1.125 [0.28, 0.56, 2.25, 4.5, 1.0]   [0.1406, 0.1875, 6.75, 9.0]\n",
    "    projection: 1. [0.25, 0.5, 2.0, 4.0]                        [0.125, 0.1667, 6, 8]"
   ]
  },
  {
   "cell_type": "markdown",
   "metadata": {},
   "source": [
    "/8 /6 *6 *8"
   ]
  },
  {
   "cell_type": "code",
   "execution_count": null,
   "metadata": {},
   "outputs": [],
   "source": []
  },
  {
   "cell_type": "code",
   "execution_count": null,
   "metadata": {},
   "outputs": [],
   "source": []
  }
 ],
 "metadata": {
  "kernelspec": {
   "display_name": "llmrandom",
   "language": "python",
   "name": "python3"
  },
  "language_info": {
   "codemirror_mode": {
    "name": "ipython",
    "version": 3
   },
   "file_extension": ".py",
   "mimetype": "text/x-python",
   "name": "python",
   "nbconvert_exporter": "python",
   "pygments_lexer": "ipython3",
   "version": "3.9.19"
  }
 },
 "nbformat": 4,
 "nbformat_minor": 2
}
