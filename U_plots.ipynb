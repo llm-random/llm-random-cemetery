{
 "cells": [
  {
   "cell_type": "code",
   "execution_count": 1,
   "metadata": {},
   "outputs": [],
   "source": [
    "# !pip install neptune > /dev/null 2>&1\n",
    "import numpy as np\n",
    "import matplotlib.pyplot as plt\n",
    "import pandas as pd\n",
    "import neptune"
   ]
  },
  {
   "cell_type": "code",
   "execution_count": 27,
   "metadata": {},
   "outputs": [],
   "source": [
    "def get_full_table(tags, start_end, component_name, download=True, exp_rate=None, table=None, negative_tags=None, granularities=None):\n",
    "    if download:\n",
    "        project = neptune.init_project(\n",
    "            project=\"pmtest/llm-random\",\n",
    "            mode=\"read-only\",\n",
    "            api_token=\"eyJhcGlfYWRkcmVzcyI6Imh0dHBzOi8vYXBwLm5lcHR1bmUuYWkiLCJhcGlfdXJsIjoiaHR0cHM6Ly9hcHAubmVwdHVuZS5haSIsImFwaV9rZXkiOiIyMDY0ZDI5Ni05YWU3LTQyNGYtYmY4My1hZTFkY2EzYmUwMjgifQ==\"\n",
    "        )\n",
    "        \n",
    "        # Determine the column name based on start_end\n",
    "        start_end_dict_name = \"relative_lr\" if start_end == \"start\" else \"relative_scheduler_fraction\"\n",
    "        arg_val_column = f\"args/{start_end_dict_name}/{component_name}\"\n",
    "        print(arg_val_column)\n",
    "        \n",
    "        # Define the columns of interest\n",
    "        columns = [\"loss\", arg_val_column]\n",
    "        \n",
    "        # Handle tags for baseline and specific conditions\n",
    "        baseline_tags = tags + [\"baseline\"]\n",
    "        specific_tags = tags + [start_end, component_name]\n",
    "        \n",
    "        # Fetch tables\n",
    "        table_baseline = project.fetch_runs_table(tag=baseline_tags).to_pandas()\n",
    "        table_baseline = table_baseline[columns]\n",
    "        table_specific = project.fetch_runs_table(tag=specific_tags).to_pandas()\n",
    "        table_specific = table_specific[columns]\n",
    "        \n",
    "    return table_specific, table_baseline"
   ]
  },
  {
   "cell_type": "code",
   "execution_count": 28,
   "metadata": {},
   "outputs": [
    {
     "name": "stdout",
     "output_type": "stream",
     "text": [
      "https://app.neptune.ai/pmtest/llm-random/\n",
      "args/relative_lr/head\n",
      "Number of experiments: 6\n",
      "All sizes and token counts in table:\n",
      "       loss  args/relative_lr/head\n",
      "0  3.663328                  0.666\n",
      "1  3.686363                  1.000\n",
      "2  3.726680                  2.660\n",
      "3  3.734096                  1.330\n",
      "4  3.649711                  0.330\n",
      "5  3.645006                  0.170\n"
     ]
    }
   ],
   "source": [
    "start_end = \"start\"\n",
    "component_name = \"head\"\n",
    "tags = [\"relative_lr\", \"medium\", \"local_minimum\"]\n",
    "table_specific, table_baseline = get_full_table(tags=tags, start_end=start_end, component_name=component_name)\n"
   ]
  },
  {
   "cell_type": "code",
   "execution_count": 32,
   "metadata": {},
   "outputs": [
    {
     "data": {
      "image/png": "[encoded data removed]",
      "text/plain": [
       "<Figure size 800x600 with 1 Axes>"
      ]
     },
     "metadata": {},
     "output_type": "display_data"
    }
   ],
   "source": [
    "import matplotlib.pyplot as plt\n",
    "\n",
    "# Plotting with just points (scatter plot)\n",
    "plt.figure(figsize=(8, 6))\n",
    "\n",
    "# Plot all points in default color\n",
    "plt.scatter(table_specific.iloc[:, 1], table_specific['loss'], color='blue')\n",
    "plt.scatter(table_specific.iloc[:, 1], table_specific['loss'], color='green', label='x = 1')\n",
    "\n",
    "# Highlight the point where x = 1 in red\n",
    "plt.scatter(1, table_specific[table_specific.iloc[:, 1] == 1]['loss'], color='red', label='x = 1')\n",
    "\n",
    "# Set x-axis to log scale\n",
    "plt.xscale('log')\n",
    "plt.xlabel('Relative LR Head')\n",
    "plt.ylabel('Loss')\n",
    "plt.title('Loss vs Relative LR Head')\n",
    "plt.grid(True)\n",
    "\n",
    "# Optional: Add a legend\n",
    "plt.legend()\n",
    "\n",
    "plt.show()\n"
   ]
  },
  {
   "cell_type": "code",
   "execution_count": null,
   "metadata": {},
   "outputs": [],
   "source": []
  }
 ],
 "metadata": {
  "kernelspec": {
   "display_name": "venv",
   "language": "python",
   "name": "python3"
  },
  "language_info": {
   "codemirror_mode": {
    "name": "ipython",
    "version": 3
   },
   "file_extension": ".py",
   "mimetype": "text/x-python",
   "name": "python",
   "nbconvert_exporter": "python",
   "pygments_lexer": "ipython3",
   "version": "3.10.12"
  }
 },
 "nbformat": 4,
 "nbformat_minor": 2
}
